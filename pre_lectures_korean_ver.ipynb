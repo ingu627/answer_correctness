{
 "cells": [
  {
   "cell_type": "code",
   "execution_count": 1,
   "source": [
    "import numpy as np\r\n",
    "import pandas as pd\r\n",
    "import matplotlib.pyplot as plt\r\n",
    "%matplotlib inline\r\n",
    "import matplotlib.style as style\r\n",
    "style.use('fivethirtyeight')\r\n",
    "import seaborn as sns\r\n",
    "import os\r\n",
    "from matplotlib.ticker import FuncFormatter\r\n",
    "\r\n",
    "import os\r\n",
    "for dirname, _, filenames in os.walk('/kaggle/input/riiid-test-answer-prediction'):\r\n",
    "    for filename in filenames:\r\n",
    "        print(os.path.join(dirname, filename))"
   ],
   "outputs": [],
   "metadata": {}
  },
  {
   "cell_type": "code",
   "execution_count": 6,
   "source": [
    "# 한글 깨짐 방지 코드\r\n",
    "import matplotlib\r\n",
    "from matplotlib import font_manager, rc\r\n",
    "import platform\r\n",
    "if platform.system()==\"Windows\":\r\n",
    "    font_name=font_manager.FontProperties(fname=\"c:/Windows/Fonts/malgun.ttf\").get_name()\r\n",
    "    rc('font', family=font_name)\r\n",
    "matplotlib.rcParams['axes.unicode_minus']=False\r\n",
    "\r\n",
    "import warnings\r\n",
    "warnings.filterwarnings(\"ignore\")"
   ],
   "outputs": [],
   "metadata": {}
  },
  {
   "cell_type": "code",
   "execution_count": 2,
   "source": [
    "train = pd.read_csv('riiid-test-answer-prediction/train.csv', nrows=10**4)\r\n",
    "test = pd.read_csv(\"riiid-test-answer-prediction/example_test.csv\")\r\n",
    "lectures = pd.read_csv(\"riiid-test-answer-prediction/lectures.csv\")\r\n",
    "questions = pd.read_csv(\"riiid-test-answer-prediction/questions.csv\")"
   ],
   "outputs": [],
   "metadata": {}
  },
  {
   "cell_type": "code",
   "execution_count": 3,
   "source": [
    "train = pd.read_csv('D:/Project_dataset/Pr_riid//train.csv', nrows=10**4)\r\n",
    "test = pd.read_csv(\"D:/Project_dataset/Pr_riid/example_test.csv\")\r\n",
    "lectures = pd.read_csv(\"D:/Project_dataset/Pr_riid/lectures.csv\")\r\n",
    "questions = pd.read_csv(\"D:/Project_dataset/Pr_riid/questions.csv\")"
   ],
   "outputs": [],
   "metadata": {}
  },
  {
   "cell_type": "code",
   "execution_count": 3,
   "source": [
    "'''\r\n",
    "lecture_id: foreign key for the train/test content_id column, when the content type is lecture (1).\r\n",
    "part: top level category code for the lecture.\r\n",
    "tag: one tag codes for the lecture. The meaning of the tags will not be provided, but these codes are sufficient for clustering the lectures together.\r\n",
    "type_of: brief description of the core purpose of the lecture\r\n",
    "'''"
   ],
   "outputs": [
    {
     "output_type": "execute_result",
     "data": {
      "text/plain": [
       "'\\nlecture_id: foreign key for the train/test content_id column, when the content type is lecture (1).\\npart: top level category code for the lecture.\\ntag: one tag codes for the lecture. The meaning of the tags will not be provided, but these codes are sufficient for clustering the lectures together.\\ntype_of: brief description of the core purpose of the lecture\\n'"
      ]
     },
     "metadata": {},
     "execution_count": 3
    }
   ],
   "metadata": {}
  },
  {
   "cell_type": "code",
   "execution_count": 4,
   "source": [
    "# lecture_id: foreign key for the train/test content_id column, when the content type is lecture (1).\r\n",
    "# 각각의 강의번호 (train/test에 있는 content_id의 외래키)\r\n",
    "\r\n",
    "lectures.lecture_id.nunique() # 418개의 강의"
   ],
   "outputs": [
    {
     "output_type": "execute_result",
     "data": {
      "text/plain": [
       "418"
      ]
     },
     "metadata": {},
     "execution_count": 4
    }
   ],
   "metadata": {}
  },
  {
   "cell_type": "code",
   "execution_count": 5,
   "source": [
    "# part: top level category code for the lecture.\r\n",
    "#part : 단원\r\n",
    "lectures.part.unique()\r\n"
   ],
   "outputs": [
    {
     "output_type": "execute_result",
     "data": {
      "text/plain": [
       "array([5, 1, 6, 2, 7, 3, 4], dtype=int64)"
      ]
     },
     "metadata": {},
     "execution_count": 5
    }
   ],
   "metadata": {}
  },
  {
   "cell_type": "code",
   "execution_count": 6,
   "source": [
    "lectures.part.value_counts() "
   ],
   "outputs": [
    {
     "output_type": "execute_result",
     "data": {
      "text/plain": [
       "5    143\n",
       "6     83\n",
       "2     56\n",
       "1     54\n",
       "7     32\n",
       "4     31\n",
       "3     19\n",
       "Name: part, dtype: int64"
      ]
     },
     "metadata": {},
     "execution_count": 6
    }
   ],
   "metadata": {
    "scrolled": true
   }
  },
  {
   "cell_type": "code",
   "execution_count": 7,
   "source": [
    "lectures.tag"
   ],
   "outputs": [
    {
     "output_type": "execute_result",
     "data": {
      "text/plain": [
       "0      159\n",
       "1       70\n",
       "2       45\n",
       "3       79\n",
       "4      156\n",
       "      ... \n",
       "413      8\n",
       "414    113\n",
       "415     24\n",
       "416    142\n",
       "417     82\n",
       "Name: tag, Length: 418, dtype: int64"
      ]
     },
     "metadata": {},
     "execution_count": 7
    }
   ],
   "metadata": {
    "scrolled": true
   }
  },
  {
   "cell_type": "code",
   "execution_count": 8,
   "source": [
    "# tag: one tag codes for the lecture. The meaning of the tags will not be provided, \r\n",
    "#      but these codes are sufficient for clustering the lectures together.\r\n",
    "# 강의를 위한 코드 넘버링\r\n",
    "\r\n",
    "lectures[lectures.tag==40]\r\n"
   ],
   "outputs": [
    {
     "output_type": "execute_result",
     "data": {
      "text/plain": [
       "     lecture_id  tag  part           type_of\n",
       "202       16736   40     1           concept\n",
       "215       17649   40     1  solving question"
      ],
      "text/html": [
       "<div>\n",
       "<style scoped>\n",
       "    .dataframe tbody tr th:only-of-type {\n",
       "        vertical-align: middle;\n",
       "    }\n",
       "\n",
       "    .dataframe tbody tr th {\n",
       "        vertical-align: top;\n",
       "    }\n",
       "\n",
       "    .dataframe thead th {\n",
       "        text-align: right;\n",
       "    }\n",
       "</style>\n",
       "<table border=\"1\" class=\"dataframe\">\n",
       "  <thead>\n",
       "    <tr style=\"text-align: right;\">\n",
       "      <th></th>\n",
       "      <th>lecture_id</th>\n",
       "      <th>tag</th>\n",
       "      <th>part</th>\n",
       "      <th>type_of</th>\n",
       "    </tr>\n",
       "  </thead>\n",
       "  <tbody>\n",
       "    <tr>\n",
       "      <th>202</th>\n",
       "      <td>16736</td>\n",
       "      <td>40</td>\n",
       "      <td>1</td>\n",
       "      <td>concept</td>\n",
       "    </tr>\n",
       "    <tr>\n",
       "      <th>215</th>\n",
       "      <td>17649</td>\n",
       "      <td>40</td>\n",
       "      <td>1</td>\n",
       "      <td>solving question</td>\n",
       "    </tr>\n",
       "  </tbody>\n",
       "</table>\n",
       "</div>"
      ]
     },
     "metadata": {},
     "execution_count": 8
    }
   ],
   "metadata": {}
  },
  {
   "cell_type": "code",
   "execution_count": 9,
   "source": [
    "# type_of: brief description of the core purpose of the lecture\r\n",
    "\r\n",
    "lectures.type_of.value_counts()\r\n"
   ],
   "outputs": [
    {
     "output_type": "execute_result",
     "data": {
      "text/plain": [
       "concept             222\n",
       "solving question    186\n",
       "intention             7\n",
       "starter               3\n",
       "Name: type_of, dtype: int64"
      ]
     },
     "metadata": {},
     "execution_count": 9
    }
   ],
   "metadata": {}
  },
  {
   "cell_type": "code",
   "execution_count": 10,
   "source": [
    "lectures.head()"
   ],
   "outputs": [
    {
     "output_type": "execute_result",
     "data": {
      "text/plain": [
       "   lecture_id  tag  part           type_of\n",
       "0          89  159     5           concept\n",
       "1         100   70     1           concept\n",
       "2         185   45     6           concept\n",
       "3         192   79     5  solving question\n",
       "4         317  156     5  solving question"
      ],
      "text/html": [
       "<div>\n",
       "<style scoped>\n",
       "    .dataframe tbody tr th:only-of-type {\n",
       "        vertical-align: middle;\n",
       "    }\n",
       "\n",
       "    .dataframe tbody tr th {\n",
       "        vertical-align: top;\n",
       "    }\n",
       "\n",
       "    .dataframe thead th {\n",
       "        text-align: right;\n",
       "    }\n",
       "</style>\n",
       "<table border=\"1\" class=\"dataframe\">\n",
       "  <thead>\n",
       "    <tr style=\"text-align: right;\">\n",
       "      <th></th>\n",
       "      <th>lecture_id</th>\n",
       "      <th>tag</th>\n",
       "      <th>part</th>\n",
       "      <th>type_of</th>\n",
       "    </tr>\n",
       "  </thead>\n",
       "  <tbody>\n",
       "    <tr>\n",
       "      <th>0</th>\n",
       "      <td>89</td>\n",
       "      <td>159</td>\n",
       "      <td>5</td>\n",
       "      <td>concept</td>\n",
       "    </tr>\n",
       "    <tr>\n",
       "      <th>1</th>\n",
       "      <td>100</td>\n",
       "      <td>70</td>\n",
       "      <td>1</td>\n",
       "      <td>concept</td>\n",
       "    </tr>\n",
       "    <tr>\n",
       "      <th>2</th>\n",
       "      <td>185</td>\n",
       "      <td>45</td>\n",
       "      <td>6</td>\n",
       "      <td>concept</td>\n",
       "    </tr>\n",
       "    <tr>\n",
       "      <th>3</th>\n",
       "      <td>192</td>\n",
       "      <td>79</td>\n",
       "      <td>5</td>\n",
       "      <td>solving question</td>\n",
       "    </tr>\n",
       "    <tr>\n",
       "      <th>4</th>\n",
       "      <td>317</td>\n",
       "      <td>156</td>\n",
       "      <td>5</td>\n",
       "      <td>solving question</td>\n",
       "    </tr>\n",
       "  </tbody>\n",
       "</table>\n",
       "</div>"
      ]
     },
     "metadata": {},
     "execution_count": 10
    }
   ],
   "metadata": {}
  },
  {
   "cell_type": "code",
   "execution_count": 11,
   "source": [
    "print(f'There are {lectures.shape[0]} lecture_ids.')"
   ],
   "outputs": [
    {
     "output_type": "stream",
     "name": "stdout",
     "text": [
      "There are 418 lecture_ids.\n"
     ]
    }
   ],
   "metadata": {}
  },
  {
   "cell_type": "code",
   "execution_count": 7,
   "source": [
    "#강의 종류와 갯수 확인 (concept:222  solving question:86  intention:7  starter:3 )\r\n",
    "\r\n",
    "lect_type_of = lectures.type_of.value_counts()\r\n",
    "\r\n",
    "fig = plt.figure(figsize=(12,6))\r\n",
    "plt.bar(lect_type_of.index, lect_type_of.values)\r\n",
    "for i, v in zip(lect_type_of.index, lect_type_of.values):\r\n",
    "    plt.text(i, v, v, color='black', fontweight='bold', fontsize=14, va='bottom', ha='center')\r\n",
    "plt.title(\"유형별 강의 갯수\") #강의 종류와 강의 갯수\r\n",
    "plt.xlabel(\"강의 유형\") #종류\r\n",
    "plt.ylabel(\"강의 갯수\") #이거 삭제해도될듯 # 수\r\n",
    "plt.xticks(rotation=0)\r\n",
    "plt.show()"
   ],
   "outputs": [
    {
     "output_type": "display_data",
     "data": {
      "text/plain": [
       "<Figure size 864x432 with 1 Axes>"
      ],
      "image/svg+xml": "<?xml version=\"1.0\" encoding=\"utf-8\" standalone=\"no\"?>\r\n<!DOCTYPE svg PUBLIC \"-//W3C//DTD SVG 1.1//EN\"\r\n  \"http://www.w3.org/Graphics/SVG/1.1/DTD/svg11.dtd\">\r\n<!-- Created with matplotlib (https://matplotlib.org/) -->\r\n<svg height=\"423.865475pt\" version=\"1.1\" viewBox=\"0 0 813.439312 423.865475\" width=\"813.439312pt\" xmlns=\"http://www.w3.org/2000/svg\" xmlns:xlink=\"http://www.w3.org/1999/xlink\">\r\n <metadata>\r\n  <rdf:RDF xmlns:cc=\"http://creativecommons.org/ns#\" xmlns:dc=\"http://purl.org/dc/elements/1.1/\" xmlns:rdf=\"http://www.w3.org/1999/02/22-rdf-syntax-ns#\">\r\n   <cc:Work>\r\n    <dc:type rdf:resource=\"http://purl.org/dc/dcmitype/StillImage\"/>\r\n    <dc:date>2021-08-18T23:04:35.798744</dc:date>\r\n    <dc:format>image/svg+xml</dc:format>\r\n    <dc:creator>\r\n     <cc:Agent>\r\n      <dc:title>Matplotlib v3.3.4, https://matplotlib.org/</dc:title>\r\n     </cc:Agent>\r\n    </dc:creator>\r\n   </cc:Work>\r\n  </rdf:RDF>\r\n </metadata>\r\n <defs>\r\n  <style type=\"text/css\">*{stroke-linecap:butt;stroke-linejoin:round;}</style>\r\n </defs>\r\n <g id=\"figure_1\">\r\n  <g id=\"patch_1\">\r\n   <path d=\"M 0 423.865475 \r\nL 813.439312 423.865475 \r\nL 813.439312 0 \r\nL 0 0 \r\nz\r\n\" style=\"fill:#f0f0f0;\"/>\r\n  </g>\r\n  <g id=\"axes_1\">\r\n   <g id=\"patch_2\">\r\n    <path d=\"M 54.559313 378.42585 \r\nL 806.239312 378.42585 \r\nL 806.239312 28.50585 \r\nL 54.559313 28.50585 \r\nz\r\n\" style=\"fill:#f0f0f0;\"/>\r\n   </g>\r\n   <g id=\"matplotlib.axis_1\">\r\n    <g id=\"xtick_1\">\r\n     <g id=\"line2d_1\">\r\n      <path clip-path=\"url(#p8281c92a6a)\" d=\"M 160.657686 378.42585 \r\nL 160.657686 28.50585 \r\n\" style=\"fill:none;stroke:#cbcbcb;\"/>\r\n     </g>\r\n     <g id=\"line2d_2\"/>\r\n     <g id=\"text_1\">\r\n      <!-- concept -->\r\n      <g transform=\"translate(135.436904 392.554913)scale(0.14 -0.14)\">\r\n       <defs>\r\n        <path d=\"M 43.171875 2.390625 \r\nQ 37.109375 -1.21875 29.25 -1.21875 \r\nQ 18.5 -1.21875 11.71875 5.8125 \r\nQ 4.9375 12.84375 4.9375 24.46875 \r\nQ 4.9375 37.203125 12.140625 44.84375 \r\nQ 19.34375 52.484375 31.390625 52.484375 \r\nQ 38.03125 52.484375 43.21875 50 \r\nL 43.21875 41.890625 \r\nQ 37.453125 45.953125 30.953125 45.953125 \r\nQ 23.09375 45.953125 17.9375 40.265625 \r\nQ 12.796875 34.578125 12.796875 25.140625 \r\nQ 12.796875 16.15625 17.5 10.765625 \r\nQ 22.21875 5.375 30.421875 5.375 \r\nQ 37.203125 5.375 43.171875 9.859375 \r\nz\r\n\" id=\"MalgunGothic-99\"/>\r\n        <path d=\"M 4.9375 25 \r\nQ 4.9375 37.796875 11.890625 45.140625 \r\nQ 18.84375 52.484375 30.90625 52.484375 \r\nQ 42.140625 52.484375 48.609375 45.421875 \r\nQ 55.078125 38.375 55.078125 25.78125 \r\nQ 55.078125 13.578125 48.09375 6.171875 \r\nQ 41.109375 -1.21875 29.6875 -1.21875 \r\nQ 18.5 -1.21875 11.71875 6 \r\nQ 4.9375 13.234375 4.9375 25 \r\nz\r\nM 12.796875 25.34375 \r\nQ 12.796875 16.265625 17.546875 10.8125 \r\nQ 22.3125 5.375 30.21875 5.375 \r\nQ 38.421875 5.375 42.796875 10.625 \r\nQ 47.171875 15.875 47.171875 25.53125 \r\nQ 47.171875 35.25 42.765625 40.59375 \r\nQ 38.375 45.953125 30.21875 45.953125 \r\nQ 22.265625 45.953125 17.53125 40.421875 \r\nQ 12.796875 34.90625 12.796875 25.34375 \r\nz\r\n\" id=\"MalgunGothic-111\"/>\r\n        <path d=\"M 50.59375 0 \r\nL 42.828125 0 \r\nL 42.828125 29.296875 \r\nQ 42.828125 45.953125 30.671875 45.953125 \r\nQ 24.421875 45.953125 20.28125 41.234375 \r\nQ 16.15625 36.53125 16.15625 29.25 \r\nL 16.15625 0 \r\nL 8.40625 0 \r\nL 8.40625 51.3125 \r\nL 16.15625 51.3125 \r\nL 16.15625 42.71875 \r\nL 16.359375 42.71875 \r\nQ 22.125 52.484375 33.203125 52.484375 \r\nQ 41.65625 52.484375 46.125 47.0625 \r\nQ 50.59375 41.65625 50.59375 31.34375 \r\nz\r\n\" id=\"MalgunGothic-110\"/>\r\n        <path d=\"M 49.3125 23.734375 \r\nL 12.9375 23.734375 \r\nQ 13.1875 14.84375 17.703125 10.125 \r\nQ 22.21875 5.421875 29.828125 5.421875 \r\nQ 38.625 5.421875 45.84375 11.234375 \r\nL 45.84375 3.8125 \r\nQ 38.96875 -1.21875 28.03125 -1.21875 \r\nQ 17.1875 -1.21875 11.0625 5.875 \r\nQ 4.9375 12.984375 4.9375 25.53125 \r\nQ 4.9375 37.203125 11.671875 44.84375 \r\nQ 18.40625 52.484375 28.375 52.484375 \r\nQ 38.328125 52.484375 43.8125 45.96875 \r\nQ 49.3125 39.453125 49.3125 27.9375 \r\nz\r\nM 41.3125 30.5625 \r\nQ 41.3125 37.75 37.859375 41.796875 \r\nQ 34.421875 45.84375 28.265625 45.84375 \r\nQ 22.46875 45.84375 18.265625 41.671875 \r\nQ 14.0625 37.5 13.03125 30.5625 \r\nz\r\n\" id=\"MalgunGothic-101\"/>\r\n        <path d=\"M 16.15625 7.515625 \r\nL 16.15625 -23.640625 \r\nL 8.40625 -23.640625 \r\nL 8.40625 51.3125 \r\nL 16.15625 51.3125 \r\nL 16.15625 42.234375 \r\nL 16.359375 42.234375 \r\nQ 22.46875 52.484375 34.125 52.484375 \r\nQ 43.890625 52.484375 49.546875 45.625 \r\nQ 55.21875 38.765625 55.21875 27.15625 \r\nQ 55.21875 14.15625 48.84375 6.46875 \r\nQ 42.484375 -1.21875 31.78125 -1.21875 \r\nQ 21.78125 -1.21875 16.359375 7.515625 \r\nz\r\nM 16.15625 20.796875 \r\nQ 16.15625 14.40625 20.421875 9.890625 \r\nQ 24.703125 5.375 31.109375 5.375 \r\nQ 38.671875 5.375 42.984375 11.1875 \r\nQ 47.3125 17 47.3125 27.390625 \r\nQ 47.3125 35.9375 43.234375 40.9375 \r\nQ 39.15625 45.953125 32.375 45.953125 \r\nQ 25.296875 45.953125 20.71875 40.921875 \r\nQ 16.15625 35.890625 16.15625 28.21875 \r\nz\r\n\" id=\"MalgunGothic-112\"/>\r\n        <path d=\"M 31.734375 0.484375 \r\nQ 28.8125 -1.125 24.265625 -1.125 \r\nQ 11.03125 -1.125 11.03125 13.765625 \r\nL 11.03125 44.625 \r\nL 2.15625 44.625 \r\nL 2.15625 51.3125 \r\nL 11.03125 51.3125 \r\nL 11.03125 63.921875 \r\nL 18.75 66.40625 \r\nL 18.75 51.3125 \r\nL 31.734375 51.3125 \r\nL 31.734375 44.625 \r\nL 18.75 44.625 \r\nL 18.75 15.1875 \r\nQ 18.75 9.765625 20.546875 7.609375 \r\nQ 22.359375 5.46875 26.421875 5.46875 \r\nQ 29.5 5.46875 31.734375 7.171875 \r\nz\r\n\" id=\"MalgunGothic-116\"/>\r\n       </defs>\r\n       <use xlink:href=\"#MalgunGothic-99\"/>\r\n       <use x=\"47.265625\" xlink:href=\"#MalgunGothic-111\"/>\r\n       <use x=\"107.177734\" xlink:href=\"#MalgunGothic-110\"/>\r\n       <use x=\"164.990234\" xlink:href=\"#MalgunGothic-99\"/>\r\n       <use x=\"212.255859\" xlink:href=\"#MalgunGothic-101\"/>\r\n       <use x=\"265.771484\" xlink:href=\"#MalgunGothic-112\"/>\r\n       <use x=\"325.830078\" xlink:href=\"#MalgunGothic-116\"/>\r\n      </g>\r\n     </g>\r\n    </g>\r\n    <g id=\"xtick_2\">\r\n     <g id=\"line2d_3\">\r\n      <path clip-path=\"url(#p8281c92a6a)\" d=\"M 340.485437 378.42585 \r\nL 340.485437 28.50585 \r\n\" style=\"fill:none;stroke:#cbcbcb;\"/>\r\n     </g>\r\n     <g id=\"line2d_4\"/>\r\n     <g id=\"text_2\">\r\n      <!-- solving question -->\r\n      <g transform=\"translate(288.266531 392.554913)scale(0.14 -0.14)\">\r\n       <defs>\r\n        <path d=\"M 5.171875 10.453125 \r\nQ 11.921875 5.46875 19.96875 5.46875 \r\nQ 30.90625 5.46875 30.90625 12.84375 \r\nQ 30.90625 16.015625 28.515625 18.09375 \r\nQ 26.125 20.171875 19.09375 22.796875 \r\nQ 10.984375 26.03125 8.125 29.34375 \r\nQ 5.28125 32.671875 5.28125 37.75 \r\nQ 5.28125 44.28125 10.9375 48.375 \r\nQ 16.609375 52.484375 24.75 52.484375 \r\nQ 31.296875 52.484375 36.578125 50.203125 \r\nL 36.578125 42.140625 \r\nQ 30.859375 45.84375 23.53125 45.84375 \r\nQ 18.75 45.84375 16.015625 43.71875 \r\nQ 13.28125 41.609375 13.28125 38.421875 \r\nQ 13.28125 35.015625 15.296875 33.203125 \r\nQ 17.328125 31.390625 24.125 28.71875 \r\nQ 33.296875 25.140625 36.078125 21.71875 \r\nQ 38.875 18.3125 38.875 13.578125 \r\nQ 38.875 6.734375 33.234375 2.75 \r\nQ 27.59375 -1.21875 18.796875 -1.21875 \r\nQ 10.84375 -1.21875 5.171875 1.90625 \r\nz\r\n\" id=\"MalgunGothic-115\"/>\r\n        <path d=\"M 8.453125 0 \r\nL 8.453125 75.921875 \r\nL 16.15625 75.921875 \r\nL 16.15625 0 \r\nz\r\n\" id=\"MalgunGothic-108\"/>\r\n        <path d=\"M 48.1875 51.3125 \r\nL 27.640625 0 \r\nL 20.21875 0 \r\nL 0.734375 51.3125 \r\nL 9.28125 51.3125 \r\nL 22.515625 13.625 \r\nQ 23.921875 9.515625 24.3125 6.640625 \r\nL 24.5625 6.640625 \r\nQ 25.046875 10.453125 26.125 13.484375 \r\nL 40.046875 51.3125 \r\nz\r\n\" id=\"MalgunGothic-118\"/>\r\n        <path d=\"M 7.375 69.78125 \r\nQ 7.375 71.96875 8.828125 73.453125 \r\nQ 10.296875 74.953125 12.40625 74.953125 \r\nQ 14.59375 74.953125 16.078125 73.4375 \r\nQ 17.578125 71.921875 17.578125 69.78125 \r\nQ 17.578125 67.578125 16.078125 66.109375 \r\nQ 14.59375 64.65625 12.40625 64.65625 \r\nQ 10.296875 64.65625 8.828125 66.09375 \r\nQ 7.375 67.53125 7.375 69.78125 \r\nz\r\nM 8.453125 0 \r\nL 8.453125 51.3125 \r\nL 16.15625 51.3125 \r\nL 16.15625 0 \r\nz\r\n\" id=\"MalgunGothic-105\"/>\r\n        <path d=\"M 51.765625 4.046875 \r\nQ 51.765625 -24.171875 25.046875 -24.171875 \r\nQ 15.671875 -24.171875 8.40625 -20.515625 \r\nL 8.40625 -12.59375 \r\nQ 17 -17.4375 25 -17.4375 \r\nQ 44.09375 -17.4375 44.09375 3.03125 \r\nL 44.09375 8.734375 \r\nL 43.890625 8.734375 \r\nQ 37.84375 -1.21875 26.171875 -1.21875 \r\nQ 16.65625 -1.21875 10.796875 5.65625 \r\nQ 4.9375 12.546875 4.9375 23.96875 \r\nQ 4.9375 37.109375 11.28125 44.796875 \r\nQ 17.625 52.484375 28.375 52.484375 \r\nQ 38.8125 52.484375 43.890625 44.09375 \r\nL 44.09375 44.09375 \r\nL 44.09375 51.3125 \r\nL 51.765625 51.3125 \r\nz\r\nM 44.09375 30.90625 \r\nQ 44.09375 37.15625 39.796875 41.546875 \r\nQ 35.5 45.953125 29.34375 45.953125 \r\nQ 21.625 45.953125 17.203125 40.265625 \r\nQ 12.796875 34.578125 12.796875 24.5625 \r\nQ 12.796875 15.875 17.0625 10.625 \r\nQ 21.34375 5.375 28.171875 5.375 \r\nQ 35.109375 5.375 39.59375 10.40625 \r\nQ 44.09375 15.4375 44.09375 23.09375 \r\nz\r\n\" id=\"MalgunGothic-103\"/>\r\n        <path id=\"MalgunGothic-32\"/>\r\n        <path d=\"M 51.765625 -23.640625 \r\nL 44.09375 -23.640625 \r\nL 44.09375 8.890625 \r\nL 43.890625 8.890625 \r\nQ 38.53125 -1.21875 26.265625 -1.21875 \r\nQ 16.5 -1.21875 10.71875 5.640625 \r\nQ 4.9375 12.5 4.9375 24.46875 \r\nQ 4.9375 37.25 11.328125 44.859375 \r\nQ 17.71875 52.484375 28.515625 52.484375 \r\nQ 39.109375 52.484375 43.890625 44.09375 \r\nL 44.09375 44.09375 \r\nL 44.09375 51.3125 \r\nL 51.765625 51.3125 \r\nz\r\nM 44.09375 30.71875 \r\nQ 44.09375 36.921875 39.921875 41.4375 \r\nQ 35.75 45.953125 29.203125 45.953125 \r\nQ 21.625 45.953125 17.203125 40.359375 \r\nQ 12.796875 34.765625 12.796875 24.609375 \r\nQ 12.796875 15.671875 17.015625 10.515625 \r\nQ 21.234375 5.375 27.984375 5.375 \r\nQ 35.5 5.375 39.796875 10.5 \r\nQ 44.09375 15.625 44.09375 23 \r\nz\r\n\" id=\"MalgunGothic-113\"/>\r\n        <path d=\"M 49.46875 0 \r\nL 41.703125 0 \r\nL 41.703125 8.109375 \r\nL 41.5 8.109375 \r\nQ 36.421875 -1.21875 25.6875 -1.21875 \r\nQ 7.328125 -1.21875 7.328125 20.65625 \r\nL 7.328125 51.3125 \r\nL 14.984375 51.3125 \r\nL 14.984375 21.921875 \r\nQ 14.984375 5.375 27.59375 5.375 \r\nQ 33.734375 5.375 37.71875 9.9375 \r\nQ 41.703125 14.5 41.703125 21.78125 \r\nL 41.703125 51.3125 \r\nL 49.46875 51.3125 \r\nz\r\n\" id=\"MalgunGothic-117\"/>\r\n       </defs>\r\n       <use xlink:href=\"#MalgunGothic-115\"/>\r\n       <use x=\"43.310547\" xlink:href=\"#MalgunGothic-111\"/>\r\n       <use x=\"103.222656\" xlink:href=\"#MalgunGothic-108\"/>\r\n       <use x=\"127.832031\" xlink:href=\"#MalgunGothic-118\"/>\r\n       <use x=\"176.5625\" xlink:href=\"#MalgunGothic-105\"/>\r\n       <use x=\"201.171875\" xlink:href=\"#MalgunGothic-110\"/>\r\n       <use x=\"258.984375\" xlink:href=\"#MalgunGothic-103\"/>\r\n       <use x=\"319.189453\" xlink:href=\"#MalgunGothic-32\"/>\r\n       <use x=\"354.345703\" xlink:href=\"#MalgunGothic-113\"/>\r\n       <use x=\"414.550781\" xlink:href=\"#MalgunGothic-117\"/>\r\n       <use x=\"472.363281\" xlink:href=\"#MalgunGothic-101\"/>\r\n       <use x=\"525.878906\" xlink:href=\"#MalgunGothic-115\"/>\r\n       <use x=\"569.189453\" xlink:href=\"#MalgunGothic-116\"/>\r\n       <use x=\"603.662109\" xlink:href=\"#MalgunGothic-105\"/>\r\n       <use x=\"628.271484\" xlink:href=\"#MalgunGothic-111\"/>\r\n       <use x=\"688.183594\" xlink:href=\"#MalgunGothic-110\"/>\r\n      </g>\r\n     </g>\r\n    </g>\r\n    <g id=\"xtick_3\">\r\n     <g id=\"line2d_5\">\r\n      <path clip-path=\"url(#p8281c92a6a)\" d=\"M 520.313188 378.42585 \r\nL 520.313188 28.50585 \r\n\" style=\"fill:none;stroke:#cbcbcb;\"/>\r\n     </g>\r\n     <g id=\"line2d_6\"/>\r\n     <g id=\"text_3\">\r\n      <!-- intention -->\r\n      <g transform=\"translate(492.023344 392.554913)scale(0.14 -0.14)\">\r\n       <use xlink:href=\"#MalgunGothic-105\"/>\r\n       <use x=\"24.609375\" xlink:href=\"#MalgunGothic-110\"/>\r\n       <use x=\"82.421875\" xlink:href=\"#MalgunGothic-116\"/>\r\n       <use x=\"116.019531\" xlink:href=\"#MalgunGothic-101\"/>\r\n       <use x=\"169.535156\" xlink:href=\"#MalgunGothic-110\"/>\r\n       <use x=\"227.347656\" xlink:href=\"#MalgunGothic-116\"/>\r\n       <use x=\"261.820312\" xlink:href=\"#MalgunGothic-105\"/>\r\n       <use x=\"286.429688\" xlink:href=\"#MalgunGothic-111\"/>\r\n       <use x=\"346.341797\" xlink:href=\"#MalgunGothic-110\"/>\r\n      </g>\r\n     </g>\r\n    </g>\r\n    <g id=\"xtick_4\">\r\n     <g id=\"line2d_7\">\r\n      <path clip-path=\"url(#p8281c92a6a)\" d=\"M 700.140939 378.42585 \r\nL 700.140939 28.50585 \r\n\" style=\"fill:none;stroke:#cbcbcb;\"/>\r\n     </g>\r\n     <g id=\"line2d_8\"/>\r\n     <g id=\"text_4\">\r\n      <!-- starter -->\r\n      <g transform=\"translate(679.789533 392.554913)scale(0.14 -0.14)\">\r\n       <defs>\r\n        <path d=\"M 9.625 47.65625 \r\nQ 17.140625 52.484375 26.90625 52.484375 \r\nQ 44.78125 52.484375 44.78125 33.546875 \r\nL 44.78125 0 \r\nL 37.015625 0 \r\nL 37.015625 8.0625 \r\nL 36.71875 8.0625 \r\nQ 31.390625 -1.21875 20.953125 -1.21875 \r\nQ 13.421875 -1.21875 9 2.8125 \r\nQ 4.59375 6.84375 4.59375 13.578125 \r\nQ 4.59375 27.875 21.484375 30.21875 \r\nL 36.96875 32.46875 \r\nQ 36.96875 45.84375 26.3125 45.84375 \r\nQ 16.9375 45.84375 9.625 39.453125 \r\nz\r\nM 24.421875 24.359375 \r\nQ 18.40625 23.578125 15.515625 21.421875 \r\nQ 12.640625 19.28125 12.640625 14.109375 \r\nQ 12.640625 10.203125 15.40625 7.8125 \r\nQ 18.171875 5.421875 22.65625 5.421875 \r\nQ 28.859375 5.421875 32.90625 9.8125 \r\nQ 36.96875 14.203125 36.96875 20.84375 \r\nL 36.96875 26.03125 \r\nz\r\n\" id=\"MalgunGothic-97\"/>\r\n        <path d=\"M 34.765625 43.359375 \r\nQ 32.5625 45.015625 28.5625 45.015625 \r\nQ 23.296875 45.015625 19.71875 39.890625 \r\nQ 16.15625 34.765625 16.15625 26.265625 \r\nL 16.15625 0 \r\nL 8.40625 0 \r\nL 8.40625 51.3125 \r\nL 16.15625 51.3125 \r\nL 16.15625 40.671875 \r\nL 16.359375 40.671875 \r\nQ 18.109375 46.09375 21.703125 49.140625 \r\nQ 25.296875 52.203125 29.734375 52.203125 \r\nQ 32.953125 52.203125 34.765625 51.515625 \r\nz\r\n\" id=\"MalgunGothic-114\"/>\r\n       </defs>\r\n       <use xlink:href=\"#MalgunGothic-115\"/>\r\n       <use x=\"43.310547\" xlink:href=\"#MalgunGothic-116\"/>\r\n       <use x=\"77.783203\" xlink:href=\"#MalgunGothic-97\"/>\r\n       <use x=\"129.785156\" xlink:href=\"#MalgunGothic-114\"/>\r\n       <use x=\"168.261719\" xlink:href=\"#MalgunGothic-116\"/>\r\n       <use x=\"201.859375\" xlink:href=\"#MalgunGothic-101\"/>\r\n       <use x=\"255.375\" xlink:href=\"#MalgunGothic-114\"/>\r\n      </g>\r\n     </g>\r\n    </g>\r\n    <g id=\"text_5\">\r\n     <!-- 강의 유형 -->\r\n     <g transform=\"translate(393.846187 412.69385)scale(0.168 -0.168)\">\r\n      <defs>\r\n       <path d=\"M 80.078125 52.6875 \r\nL 80.078125 31.390625 \r\nL 72.796875 31.390625 \r\nL 72.796875 85.40625 \r\nL 80.078125 85.40625 \r\nL 80.078125 59.515625 \r\nL 94.28125 59.515625 \r\nL 94.28125 52.6875 \r\nz\r\nM 54.890625 79.890625 \r\nQ 53.078125 60.15625 39.859375 47.484375 \r\nQ 26.65625 34.8125 12.40625 29.203125 \r\nL 7.171875 35.109375 \r\nQ 21.6875 39.703125 32.9375 50.390625 \r\nQ 44.1875 61.078125 46.296875 73.390625 \r\nL 12.984375 73.390625 \r\nL 12.984375 79.890625 \r\nz\r\nM 50.984375 -7.078125 \r\nQ 36.328125 -7.078125 28.21875 -2 \r\nQ 20.125 3.078125 20.125 11.1875 \r\nQ 20.125 19.234375 28.171875 24.3125 \r\nQ 36.234375 29.390625 50.984375 29.390625 \r\nQ 65.875 29.390625 73.921875 24.328125 \r\nQ 81.984375 19.28125 81.984375 11.1875 \r\nQ 81.984375 3.078125 73.84375 -2 \r\nQ 65.71875 -7.078125 50.984375 -7.078125 \r\nz\r\nM 50.984375 23.09375 \r\nQ 39.984375 23.09375 33.875 19.765625 \r\nQ 27.78125 16.453125 27.78125 11.1875 \r\nQ 27.78125 5.90625 33.78125 2.5625 \r\nQ 39.796875 -0.78125 50.984375 -0.78125 \r\nQ 62.203125 -0.78125 68.203125 2.5625 \r\nQ 74.21875 5.90625 74.21875 11.1875 \r\nQ 74.21875 16.453125 68.109375 19.765625 \r\nQ 62.015625 23.09375 50.984375 23.09375 \r\nz\r\n\" id=\"MalgunGothic-44053\"/>\r\n       <path d=\"M 78.328125 -8.796875 \r\nL 78.328125 85.40625 \r\nL 85.59375 85.40625 \r\nL 85.59375 -8.796875 \r\nz\r\nM 38.28125 33.296875 \r\nQ 27.734375 33.296875 20.546875 39.6875 \r\nQ 13.375 46.09375 13.375 55.8125 \r\nQ 13.375 65.328125 20.5 71.765625 \r\nQ 27.640625 78.21875 38.28125 78.21875 \r\nQ 48.875 78.21875 56.03125 71.71875 \r\nQ 63.1875 65.234375 63.1875 55.8125 \r\nQ 63.1875 46.046875 56.046875 39.671875 \r\nQ 48.921875 33.296875 38.28125 33.296875 \r\nz\r\nM 38.28125 71.78125 \r\nQ 30.859375 71.78125 25.875 67.28125 \r\nQ 20.90625 62.796875 20.90625 55.8125 \r\nQ 20.90625 48.734375 26 44.265625 \r\nQ 31.109375 39.796875 38.28125 39.796875 \r\nQ 45.65625 39.796875 50.6875 44.265625 \r\nQ 55.71875 48.734375 55.71875 55.8125 \r\nQ 55.71875 62.890625 50.734375 67.328125 \r\nQ 45.75 71.78125 38.28125 71.78125 \r\nz\r\nM 7.171875 8.296875 \r\nL 6.5 14.59375 \r\nQ 19.09375 14.59375 41.671875 15.078125 \r\nQ 64.265625 15.578125 71.6875 16.21875 \r\nL 72.125 9.90625 \r\nQ 64.453125 9.28125 41.859375 8.78125 \r\nQ 19.28125 8.296875 7.171875 8.296875 \r\nz\r\n\" id=\"MalgunGothic-51032\"/>\r\n       <path d=\"M 50 43.5 \r\nQ 35.59375 43.5 27.625 48.921875 \r\nQ 19.671875 54.34375 19.671875 63.71875 \r\nQ 19.671875 72.953125 27.734375 78.515625 \r\nQ 35.796875 84.078125 50 84.078125 \r\nQ 64.5 84.078125 72.5 78.515625 \r\nQ 80.515625 72.953125 80.515625 63.71875 \r\nQ 80.515625 54.4375 72.5 48.96875 \r\nQ 64.5 43.5 50 43.5 \r\nz\r\nM 50 77.78125 \r\nQ 39.265625 77.78125 33.28125 74 \r\nQ 27.296875 70.21875 27.296875 63.71875 \r\nQ 27.296875 57.328125 33.28125 53.515625 \r\nQ 39.265625 49.703125 50 49.703125 \r\nQ 60.75 49.703125 66.71875 53.515625 \r\nQ 72.703125 57.328125 72.703125 63.71875 \r\nQ 72.703125 70.21875 66.71875 74 \r\nQ 60.75 77.78125 50 77.78125 \r\nz\r\nM 29.890625 -8.6875 \r\nL 29.890625 26.125 \r\nL 6.296875 26.125 \r\nL 6.296875 32.71875 \r\nL 93.703125 32.71875 \r\nL 93.703125 26.125 \r\nL 70.125 26.125 \r\nL 70.125 -8.6875 \r\nL 62.796875 -8.6875 \r\nL 62.796875 26.125 \r\nL 37.203125 26.125 \r\nL 37.203125 -8.6875 \r\nz\r\n\" id=\"MalgunGothic-50976\"/>\r\n       <path d=\"M 7.71875 67.28125 \r\nL 7.71875 73.6875 \r\nL 31.6875 73.6875 \r\nL 31.6875 85.890625 \r\nL 38.921875 85.890625 \r\nL 38.921875 73.6875 \r\nL 62.890625 73.6875 \r\nL 62.890625 67.28125 \r\nz\r\nM 61.71875 38.484375 \r\nL 61.71875 44.921875 \r\nL 77.296875 44.921875 \r\nL 77.296875 55.328125 \r\nL 61.71875 55.328125 \r\nL 61.71875 61.625 \r\nL 77.296875 61.625 \r\nL 77.296875 85.40625 \r\nL 84.625 85.40625 \r\nL 84.625 27.78125 \r\nL 77.296875 27.78125 \r\nL 77.296875 38.484375 \r\nz\r\nM 35.203125 30.609375 \r\nQ 24.75 30.609375 18.625 35.265625 \r\nQ 12.5 39.9375 12.5 47.015625 \r\nQ 12.5 54.046875 18.578125 58.65625 \r\nQ 24.65625 63.28125 35.296875 63.28125 \r\nQ 45.84375 63.28125 51.921875 58.65625 \r\nQ 58.015625 54.046875 58.015625 47.015625 \r\nQ 58.015625 39.9375 51.875 35.265625 \r\nQ 45.75 30.609375 35.203125 30.609375 \r\nz\r\nM 35.296875 57.078125 \r\nQ 28.078125 57.078125 23.953125 54.296875 \r\nQ 19.828125 51.515625 19.828125 47.015625 \r\nQ 19.828125 42.53125 23.96875 39.671875 \r\nQ 28.125 36.8125 35.296875 36.8125 \r\nQ 42.484375 36.8125 46.578125 39.671875 \r\nQ 50.6875 42.53125 50.6875 47.015625 \r\nQ 50.6875 51.46875 46.609375 54.265625 \r\nQ 42.53125 57.078125 35.296875 57.078125 \r\nz\r\nM 54.390625 -8.109375 \r\nQ 39.359375 -8.109375 31.265625 -3.53125 \r\nQ 23.1875 1.03125 23.1875 8.796875 \r\nQ 23.1875 16.546875 31.25 21.0625 \r\nQ 39.3125 25.59375 54.390625 25.59375 \r\nQ 69.625 25.59375 77.609375 21.046875 \r\nQ 85.59375 16.5 85.59375 8.796875 \r\nQ 85.59375 1.03125 77.5625 -3.53125 \r\nQ 69.53125 -8.109375 54.390625 -8.109375 \r\nz\r\nM 54.390625 19.390625 \r\nQ 43.015625 19.390625 37 16.59375 \r\nQ 31 13.8125 31 8.796875 \r\nQ 31 3.765625 36.9375 0.921875 \r\nQ 42.875 -1.90625 54.390625 -1.90625 \r\nQ 65.96875 -1.90625 71.921875 0.953125 \r\nQ 77.875 3.8125 77.875 8.796875 \r\nQ 77.875 13.8125 71.84375 16.59375 \r\nQ 65.828125 19.390625 54.390625 19.390625 \r\nz\r\n\" id=\"MalgunGothic-54805\"/>\r\n      </defs>\r\n      <use xlink:href=\"#MalgunGothic-44053\"/>\r\n      <use x=\"100\" xlink:href=\"#MalgunGothic-51032\"/>\r\n      <use x=\"200\" xlink:href=\"#MalgunGothic-32\"/>\r\n      <use x=\"235.15625\" xlink:href=\"#MalgunGothic-50976\"/>\r\n      <use x=\"335.15625\" xlink:href=\"#MalgunGothic-54805\"/>\r\n     </g>\r\n    </g>\r\n   </g>\r\n   <g id=\"matplotlib.axis_2\">\r\n    <g id=\"ytick_1\">\r\n     <g id=\"line2d_9\">\r\n      <path clip-path=\"url(#p8281c92a6a)\" d=\"M 54.559313 378.42585 \r\nL 806.239312 378.42585 \r\n\" style=\"fill:none;stroke:#cbcbcb;\"/>\r\n     </g>\r\n     <g id=\"line2d_10\"/>\r\n     <g id=\"text_6\">\r\n      <!-- 0 -->\r\n      <g transform=\"translate(43.348375 383.740381)scale(0.14 -0.14)\">\r\n       <defs>\r\n        <path d=\"M 4.34375 34.46875 \r\nQ 4.34375 53.515625 10.546875 63.28125 \r\nQ 16.75 73.046875 28.421875 73.046875 \r\nQ 50.828125 73.046875 50.828125 36.234375 \r\nQ 50.828125 18.0625 44.59375 8.421875 \r\nQ 38.375 -1.21875 26.8125 -1.21875 \r\nQ 15.875 -1.21875 10.109375 8.125 \r\nQ 4.34375 17.484375 4.34375 34.46875 \r\nz\r\nM 12.25 34.859375 \r\nQ 12.25 5.375 27.640625 5.375 \r\nQ 42.921875 5.375 42.921875 35.296875 \r\nQ 42.921875 66.40625 28.03125 66.40625 \r\nQ 12.25 66.40625 12.25 34.859375 \r\nz\r\n\" id=\"MalgunGothic-48\"/>\r\n       </defs>\r\n       <use xlink:href=\"#MalgunGothic-48\"/>\r\n      </g>\r\n     </g>\r\n    </g>\r\n    <g id=\"ytick_2\">\r\n     <g id=\"line2d_11\">\r\n      <path clip-path=\"url(#p8281c92a6a)\" d=\"M 54.559313 303.367935 \r\nL 806.239312 303.367935 \r\n\" style=\"fill:none;stroke:#cbcbcb;\"/>\r\n     </g>\r\n     <g id=\"line2d_12\"/>\r\n     <g id=\"text_7\">\r\n      <!-- 50 -->\r\n      <g transform=\"translate(35.637438 308.682466)scale(0.14 -0.14)\">\r\n       <defs>\r\n        <path d=\"M 48 21.921875 \r\nQ 48 11.28125 41.1875 5.03125 \r\nQ 34.375 -1.21875 22.953125 -1.21875 \r\nQ 12.9375 -1.21875 8.0625 1.765625 \r\nL 8.0625 10.15625 \r\nQ 15.53125 5.375 23.046875 5.375 \r\nQ 30.765625 5.375 35.46875 9.84375 \r\nQ 40.1875 14.3125 40.1875 21.4375 \r\nQ 40.1875 28.71875 35.390625 32.6875 \r\nQ 30.609375 36.671875 21.578125 36.671875 \r\nQ 15.53125 36.671875 9.421875 35.9375 \r\nL 11.859375 71.875 \r\nL 44.828125 71.875 \r\nL 44.828125 64.796875 \r\nL 18.84375 64.796875 \r\nL 17.28125 43.171875 \r\nQ 21.046875 43.5 24.171875 43.5 \r\nQ 35.359375 43.5 41.671875 37.71875 \r\nQ 48 31.9375 48 21.921875 \r\nz\r\n\" id=\"MalgunGothic-53\"/>\r\n       </defs>\r\n       <use xlink:href=\"#MalgunGothic-53\"/>\r\n       <use x=\"55.078125\" xlink:href=\"#MalgunGothic-48\"/>\r\n      </g>\r\n     </g>\r\n    </g>\r\n    <g id=\"ytick_3\">\r\n     <g id=\"line2d_13\">\r\n      <path clip-path=\"url(#p8281c92a6a)\" d=\"M 54.559313 228.31002 \r\nL 806.239312 228.31002 \r\n\" style=\"fill:none;stroke:#cbcbcb;\"/>\r\n     </g>\r\n     <g id=\"line2d_14\"/>\r\n     <g id=\"text_8\">\r\n      <!-- 100 -->\r\n      <g transform=\"translate(27.9265 233.624551)scale(0.14 -0.14)\">\r\n       <defs>\r\n        <path d=\"M 34.859375 0 \r\nL 27.09375 0 \r\nL 27.09375 62.0625 \r\nQ 24.859375 59.8125 19.78125 57.203125 \r\nQ 14.703125 54.59375 10.5 53.5625 \r\nL 10.5 61.859375 \r\nQ 15.875 63.375 22.015625 66.796875 \r\nQ 28.171875 70.21875 31.734375 73.4375 \r\nL 34.859375 73.4375 \r\nz\r\n\" id=\"MalgunGothic-49\"/>\r\n       </defs>\r\n       <use xlink:href=\"#MalgunGothic-49\"/>\r\n       <use x=\"55.078125\" xlink:href=\"#MalgunGothic-48\"/>\r\n       <use x=\"110.15625\" xlink:href=\"#MalgunGothic-48\"/>\r\n      </g>\r\n     </g>\r\n    </g>\r\n    <g id=\"ytick_4\">\r\n     <g id=\"line2d_15\">\r\n      <path clip-path=\"url(#p8281c92a6a)\" d=\"M 54.559313 153.252105 \r\nL 806.239312 153.252105 \r\n\" style=\"fill:none;stroke:#cbcbcb;\"/>\r\n     </g>\r\n     <g id=\"line2d_16\"/>\r\n     <g id=\"text_9\">\r\n      <!-- 150 -->\r\n      <g transform=\"translate(27.9265 158.566636)scale(0.14 -0.14)\">\r\n       <use xlink:href=\"#MalgunGothic-49\"/>\r\n       <use x=\"55.078125\" xlink:href=\"#MalgunGothic-53\"/>\r\n       <use x=\"110.15625\" xlink:href=\"#MalgunGothic-48\"/>\r\n      </g>\r\n     </g>\r\n    </g>\r\n    <g id=\"ytick_5\">\r\n     <g id=\"line2d_17\">\r\n      <path clip-path=\"url(#p8281c92a6a)\" d=\"M 54.559313 78.19419 \r\nL 806.239312 78.19419 \r\n\" style=\"fill:none;stroke:#cbcbcb;\"/>\r\n     </g>\r\n     <g id=\"line2d_18\"/>\r\n     <g id=\"text_10\">\r\n      <!-- 200 -->\r\n      <g transform=\"translate(27.9265 83.508721)scale(0.14 -0.14)\">\r\n       <defs>\r\n        <path d=\"M 39.359375 52.6875 \r\nQ 39.359375 59.125 35.546875 62.78125 \r\nQ 31.734375 66.453125 25.4375 66.453125 \r\nQ 20.953125 66.453125 16.453125 64.125 \r\nQ 11.96875 61.8125 8.34375 57.765625 \r\nL 8.34375 66.15625 \r\nQ 15.328125 73.046875 26.421875 73.046875 \r\nQ 35.640625 73.046875 41.28125 67.71875 \r\nQ 46.921875 62.40625 46.921875 53.375 \r\nQ 46.921875 45.609375 43.3125 39.765625 \r\nQ 39.703125 33.9375 31 27.734375 \r\nQ 22.796875 21.96875 19.59375 18.984375 \r\nQ 16.40625 16.015625 15.109375 13.34375 \r\nQ 13.8125 10.6875 13.8125 7.03125 \r\nL 48.6875 7.03125 \r\nL 48.6875 0 \r\nL 5.5625 0 \r\nL 5.5625 3.515625 \r\nQ 5.5625 9.421875 7.203125 13.59375 \r\nQ 8.84375 17.78125 12.671875 21.75 \r\nQ 16.5 25.734375 24.953125 31.59375 \r\nQ 32.671875 36.921875 36.015625 41.71875 \r\nQ 39.359375 46.53125 39.359375 52.6875 \r\nz\r\n\" id=\"MalgunGothic-50\"/>\r\n       </defs>\r\n       <use xlink:href=\"#MalgunGothic-50\"/>\r\n       <use x=\"55.078125\" xlink:href=\"#MalgunGothic-48\"/>\r\n       <use x=\"110.15625\" xlink:href=\"#MalgunGothic-48\"/>\r\n      </g>\r\n     </g>\r\n    </g>\r\n    <g id=\"text_11\">\r\n     <!-- 강의 갯수 -->\r\n     <g transform=\"translate(19.954875 240.018975)rotate(-90)scale(0.168 -0.168)\">\r\n      <defs>\r\n       <path d=\"M 79 24.8125 \r\nL 79 51.21875 \r\nL 68.015625 51.21875 \r\nL 68.015625 31.296875 \r\nL 60.796875 31.296875 \r\nL 60.796875 83.5 \r\nL 68.015625 83.5 \r\nL 68.015625 57.71875 \r\nL 79 57.71875 \r\nL 79 85.40625 \r\nL 86.28125 85.40625 \r\nL 86.28125 24.8125 \r\nz\r\nM 50.390625 79.109375 \r\nQ 50.203125 45.21875 14.3125 27.484375 \r\nL 8.6875 33.109375 \r\nQ 22.953125 38.328125 32.15625 49.0625 \r\nQ 41.359375 59.8125 42.828125 72.703125 \r\nL 12.703125 72.703125 \r\nL 12.703125 79.109375 \r\nz\r\nM 87.796875 -6.6875 \r\nQ 78.03125 -4.5 68.609375 2.140625 \r\nQ 59.1875 8.796875 54.78125 16.40625 \r\nQ 51.265625 9.1875 41.84375 2.390625 \r\nQ 32.421875 -4.390625 22.3125 -6.6875 \r\nL 17.671875 -0.390625 \r\nQ 30.515625 1.421875 40.796875 10.25 \r\nQ 51.078125 19.09375 51.21875 27.6875 \r\nL 51.21875 29.890625 \r\nL 58.5 29.890625 \r\nL 58.5 27.78125 \r\nQ 58.5 19.390625 68.671875 10.453125 \r\nQ 78.859375 1.515625 92 -0.390625 \r\nz\r\n\" id=\"MalgunGothic-44079\"/>\r\n       <path d=\"M 85.796875 46.78125 \r\nQ 74.21875 48.390625 63.71875 54.65625 \r\nQ 53.21875 60.9375 50 66.796875 \r\nQ 46.484375 60.796875 36.078125 54.546875 \r\nQ 25.6875 48.296875 14.40625 46.1875 \r\nL 9.90625 52.296875 \r\nQ 24.359375 53.90625 35.328125 61.59375 \r\nQ 46.296875 69.28125 46.296875 78.328125 \r\nL 46.296875 82.421875 \r\nL 53.609375 82.421875 \r\nL 53.609375 78.328125 \r\nQ 53.609375 69.234375 64.34375 61.6875 \r\nQ 75.09375 54.15625 90.09375 52.78125 \r\nz\r\nM 53.609375 28.71875 \r\nL 53.609375 -8.796875 \r\nL 46.296875 -8.796875 \r\nL 46.296875 28.71875 \r\nL 6.296875 28.71875 \r\nL 6.296875 35.203125 \r\nL 93.703125 35.203125 \r\nL 93.703125 28.71875 \r\nz\r\n\" id=\"MalgunGothic-49688\"/>\r\n      </defs>\r\n      <use xlink:href=\"#MalgunGothic-44053\"/>\r\n      <use x=\"100\" xlink:href=\"#MalgunGothic-51032\"/>\r\n      <use x=\"200\" xlink:href=\"#MalgunGothic-32\"/>\r\n      <use x=\"235.15625\" xlink:href=\"#MalgunGothic-44079\"/>\r\n      <use x=\"335.15625\" xlink:href=\"#MalgunGothic-49688\"/>\r\n     </g>\r\n    </g>\r\n   </g>\r\n   <g id=\"patch_3\">\r\n    <path clip-path=\"url(#p8281c92a6a)\" d=\"M 88.726585 378.42585 \r\nL 232.588786 378.42585 \r\nL 232.588786 45.168707 \r\nL 88.726585 45.168707 \r\nz\r\n\" style=\"fill:#008fd5;\"/>\r\n   </g>\r\n   <g id=\"patch_4\">\r\n    <path clip-path=\"url(#p8281c92a6a)\" d=\"M 268.554336 378.42585 \r\nL 412.416537 378.42585 \r\nL 412.416537 99.210406 \r\nL 268.554336 99.210406 \r\nz\r\n\" style=\"fill:#008fd5;\"/>\r\n   </g>\r\n   <g id=\"patch_5\">\r\n    <path clip-path=\"url(#p8281c92a6a)\" d=\"M 448.382088 378.42585 \r\nL 592.244289 378.42585 \r\nL 592.244289 367.917742 \r\nL 448.382088 367.917742 \r\nz\r\n\" style=\"fill:#008fd5;\"/>\r\n   </g>\r\n   <g id=\"patch_6\">\r\n    <path clip-path=\"url(#p8281c92a6a)\" d=\"M 628.209839 378.42585 \r\nL 772.07204 378.42585 \r\nL 772.07204 373.922375 \r\nL 628.209839 373.922375 \r\nz\r\n\" style=\"fill:#008fd5;\"/>\r\n   </g>\r\n   <g id=\"patch_7\">\r\n    <path d=\"M 54.559313 378.42585 \r\nL 54.559313 28.50585 \r\n\" style=\"fill:none;stroke:#f0f0f0;stroke-linecap:square;stroke-linejoin:miter;stroke-width:3;\"/>\r\n   </g>\r\n   <g id=\"patch_8\">\r\n    <path d=\"M 806.239312 378.42585 \r\nL 806.239312 28.50585 \r\n\" style=\"fill:none;stroke:#f0f0f0;stroke-linecap:square;stroke-linejoin:miter;stroke-width:3;\"/>\r\n   </g>\r\n   <g id=\"patch_9\">\r\n    <path d=\"M 54.559313 378.42585 \r\nL 806.239312 378.42585 \r\n\" style=\"fill:none;stroke:#f0f0f0;stroke-linecap:square;stroke-linejoin:miter;stroke-width:3;\"/>\r\n   </g>\r\n   <g id=\"patch_10\">\r\n    <path d=\"M 54.559313 28.50585 \r\nL 806.239312 28.50585 \r\n\" style=\"fill:none;stroke:#f0f0f0;stroke-linecap:square;stroke-linejoin:miter;stroke-width:3;\"/>\r\n   </g>\r\n   <g id=\"text_12\">\r\n    <!-- 222 -->\r\n    <g transform=\"translate(148.487529 41.85902)scale(0.14 -0.14)\">\r\n     <defs>\r\n      <path d=\"M 20.65625 11.46875 \r\nL 51.125 11.46875 \r\nL 51.125 0 \r\nL 6.25 0 \r\nL 6.25 5.421875 \r\nQ 6.25 11.234375 8.21875 16.140625 \r\nQ 10.203125 21.046875 13.890625 25.3125 \r\nQ 17.578125 29.59375 29.390625 38.421875 \r\nQ 33.984375 41.84375 35.984375 44.96875 \r\nQ 37.984375 48.09375 37.984375 51.953125 \r\nQ 37.984375 56.734375 35.171875 59.390625 \r\nQ 32.375 62.0625 26.46875 62.0625 \r\nQ 17.234375 62.0625 8.734375 54.734375 \r\nL 8.734375 67 \r\nQ 17.4375 73.046875 28.421875 73.046875 \r\nQ 39.546875 73.046875 45.625 67.625 \r\nQ 51.703125 62.203125 51.703125 52.640625 \r\nQ 51.703125 47.703125 50.109375 43.890625 \r\nQ 48.53125 40.09375 45.921875 36.984375 \r\nQ 43.3125 33.890625 39.921875 31.21875 \r\nQ 36.53125 28.5625 32.953125 25.921875 \r\nQ 26.375 21.046875 23.515625 17.578125 \r\nQ 20.65625 14.109375 20.65625 11.46875 \r\nz\r\n\" id=\"MalgunGothicBold-50\"/>\r\n     </defs>\r\n     <use xlink:href=\"#MalgunGothicBold-50\"/>\r\n     <use x=\"57.958984\" xlink:href=\"#MalgunGothicBold-50\"/>\r\n     <use x=\"115.917969\" xlink:href=\"#MalgunGothicBold-50\"/>\r\n    </g>\r\n   </g>\r\n   <g id=\"text_13\">\r\n    <!-- 186 -->\r\n    <g transform=\"translate(328.315281 95.900718)scale(0.14 -0.14)\">\r\n     <defs>\r\n      <path d=\"M 39.59375 73.046875 \r\nL 39.59375 0 \r\nL 25.984375 0 \r\nL 25.984375 56.5 \r\nQ 23.6875 54.390625 19.484375 52.578125 \r\nQ 15.28125 50.78125 10.75 50.25 \r\nL 10.75 62.3125 \r\nQ 21.484375 65.53125 31 73.046875 \r\nz\r\n\" id=\"MalgunGothicBold-49\"/>\r\n      <path d=\"M 4.890625 19.34375 \r\nQ 4.890625 25.53125 8.375 30.390625 \r\nQ 11.859375 35.25 18.453125 37.640625 \r\nQ 13.234375 40.328125 10.234375 44.546875 \r\nQ 7.234375 48.78125 7.234375 53.953125 \r\nQ 7.234375 59.28125 10.078125 63.640625 \r\nQ 12.9375 68.015625 18.109375 70.53125 \r\nQ 23.296875 73.046875 29.546875 73.046875 \r\nQ 35.84375 73.046875 41.0625 70.578125 \r\nQ 46.296875 68.109375 49.140625 63.78125 \r\nQ 52 59.46875 52 54.15625 \r\nQ 52 43.5625 40.1875 37.984375 \r\nQ 46.734375 35.640625 50.359375 30.8125 \r\nQ 54 25.984375 54 19.484375 \r\nQ 54 9.96875 47.328125 4.34375 \r\nQ 40.671875 -1.265625 29.390625 -1.265625 \r\nQ 18.265625 -1.265625 11.578125 4.3125 \r\nQ 4.890625 9.90625 4.890625 19.34375 \r\nz\r\nM 17.921875 20.21875 \r\nQ 17.921875 14.796875 21 11.8125 \r\nQ 24.078125 8.84375 29.4375 8.84375 \r\nQ 34.96875 8.84375 37.984375 11.84375 \r\nQ 41.015625 14.84375 41.015625 20.21875 \r\nQ 41.015625 25.140625 37.734375 28.578125 \r\nQ 34.46875 32.03125 29.4375 32.03125 \r\nQ 24.515625 32.03125 21.21875 28.6875 \r\nQ 17.921875 25.34375 17.921875 20.21875 \r\nz\r\nM 20.125 52.984375 \r\nQ 20.125 48.734375 22.90625 45.703125 \r\nQ 25.6875 42.671875 29.640625 42.671875 \r\nQ 33.6875 42.671875 36.46875 45.71875 \r\nQ 39.265625 48.78125 39.265625 52.984375 \r\nQ 39.265625 57.71875 36.671875 60.328125 \r\nQ 34.078125 62.9375 29.640625 62.9375 \r\nQ 25.203125 62.9375 22.65625 60.296875 \r\nQ 20.125 57.671875 20.125 52.984375 \r\nz\r\n\" id=\"MalgunGothicBold-56\"/>\r\n      <path d=\"M 49.46875 59.421875 \r\nQ 44.046875 62.453125 37.59375 62.453125 \r\nQ 28.953125 62.453125 23.84375 55.4375 \r\nQ 18.75 48.4375 18.75 37.5 \r\nL 19.046875 37.5 \r\nQ 24.171875 45.84375 34.515625 45.84375 \r\nQ 43.609375 45.84375 48.96875 39.671875 \r\nQ 54.34375 33.5 54.34375 23.578125 \r\nQ 54.34375 12.703125 47.5 5.71875 \r\nQ 40.671875 -1.265625 30.171875 -1.265625 \r\nQ 18.015625 -1.265625 11.59375 7.671875 \r\nQ 5.171875 16.609375 5.171875 31.984375 \r\nQ 5.171875 50.203125 13.5625 61.625 \r\nQ 21.96875 73.046875 36.8125 73.046875 \r\nQ 45.015625 73.046875 49.46875 71.046875 \r\nz\r\nM 19.234375 23.578125 \r\nQ 19.234375 17.78125 22.21875 13.578125 \r\nQ 25.203125 9.375 30.21875 9.375 \r\nQ 35.15625 9.375 38.03125 13.125 \r\nQ 40.921875 16.890625 40.921875 22.609375 \r\nQ 40.921875 35.5 30.171875 35.5 \r\nQ 25.34375 35.5 22.28125 32.109375 \r\nQ 19.234375 28.71875 19.234375 23.578125 \r\nz\r\n\" id=\"MalgunGothicBold-54\"/>\r\n     </defs>\r\n     <use xlink:href=\"#MalgunGothicBold-49\"/>\r\n     <use x=\"57.958984\" xlink:href=\"#MalgunGothicBold-56\"/>\r\n     <use x=\"115.917969\" xlink:href=\"#MalgunGothicBold-54\"/>\r\n    </g>\r\n   </g>\r\n   <g id=\"text_14\">\r\n    <!-- 7 -->\r\n    <g transform=\"translate(516.256469 364.608054)scale(0.14 -0.14)\">\r\n     <defs>\r\n      <path d=\"M 53.5625 64.359375 \r\nQ 42 42.828125 37.0625 29.078125 \r\nQ 32.125 15.328125 29.9375 0 \r\nL 15.875 0 \r\nQ 18.171875 14.40625 23.75 29.078125 \r\nQ 29.34375 43.75 39.40625 60.546875 \r\nL 4.6875 60.546875 \r\nL 4.6875 71.875 \r\nL 53.5625 71.875 \r\nz\r\n\" id=\"MalgunGothicBold-55\"/>\r\n     </defs>\r\n     <use xlink:href=\"#MalgunGothicBold-55\"/>\r\n    </g>\r\n   </g>\r\n   <g id=\"text_15\">\r\n    <!-- 3 -->\r\n    <g transform=\"translate(696.084221 370.612688)scale(0.14 -0.14)\">\r\n     <defs>\r\n      <path d=\"M 7.125 14.796875 \r\nQ 14.40625 9.375 23.921875 9.375 \r\nQ 30.171875 9.375 33.984375 12.234375 \r\nQ 37.796875 15.09375 37.796875 20.40625 \r\nQ 37.796875 31.59375 20.90625 31.59375 \r\nL 14.546875 31.59375 \r\nL 14.546875 42.234375 \r\nL 20.453125 42.234375 \r\nQ 35.59375 42.234375 35.59375 52.6875 \r\nQ 35.59375 62.453125 23.96875 62.453125 \r\nQ 16.703125 62.453125 9.859375 57.671875 \r\nL 9.859375 69.140625 \r\nQ 17.1875 73.046875 27.15625 73.046875 \r\nQ 37.0625 73.046875 43.265625 68.359375 \r\nQ 49.46875 63.671875 49.46875 55.375 \r\nQ 49.46875 41.359375 35.15625 37.59375 \r\nL 35.15625 37.40625 \r\nQ 42.625 36.625 47.15625 31.90625 \r\nQ 51.703125 27.203125 51.703125 20.515625 \r\nQ 51.703125 10.296875 44.3125 4.515625 \r\nQ 36.921875 -1.265625 24.703125 -1.265625 \r\nQ 13.96875 -1.265625 7.125 2.4375 \r\nz\r\n\" id=\"MalgunGothicBold-51\"/>\r\n     </defs>\r\n     <use xlink:href=\"#MalgunGothicBold-51\"/>\r\n    </g>\r\n   </g>\r\n   <g id=\"text_16\">\r\n    <!-- 유형별 강의 갯수 -->\r\n    <g transform=\"translate(352.751812 22.50585)scale(0.2016 -0.2016)\">\r\n     <defs>\r\n      <path d=\"M 16.21875 40.28125 \r\nL 16.21875 82.625 \r\nL 23.390625 82.625 \r\nL 23.390625 67.09375 \r\nL 52.59375 67.09375 \r\nL 52.59375 82.625 \r\nL 59.8125 82.625 \r\nL 59.8125 72.90625 \r\nL 77.296875 72.90625 \r\nL 77.296875 85.40625 \r\nL 84.625 85.40625 \r\nL 84.625 35.296875 \r\nL 77.296875 35.296875 \r\nL 77.296875 48.875 \r\nL 59.8125 48.875 \r\nL 59.8125 40.28125 \r\nz\r\nM 59.8125 66.609375 \r\nL 59.8125 55.078125 \r\nL 77.296875 55.078125 \r\nL 77.296875 66.609375 \r\nz\r\nM 52.59375 60.6875 \r\nL 23.390625 60.6875 \r\nL 23.390625 46.78125 \r\nL 52.59375 46.78125 \r\nz\r\nM 27 -7.625 \r\nL 27 14.796875 \r\nL 77.390625 14.796875 \r\nL 77.390625 23.6875 \r\nL 27 23.6875 \r\nL 27 30.078125 \r\nL 84.625 30.078125 \r\nL 84.625 8.59375 \r\nL 34.28125 8.59375 \r\nL 34.28125 -1.125 \r\nL 87.203125 -1.125 \r\nL 87.203125 -7.625 \r\nz\r\n\" id=\"MalgunGothic-48324\"/>\r\n     </defs>\r\n     <use xlink:href=\"#MalgunGothic-50976\"/>\r\n     <use x=\"100\" xlink:href=\"#MalgunGothic-54805\"/>\r\n     <use x=\"200\" xlink:href=\"#MalgunGothic-48324\"/>\r\n     <use x=\"300\" xlink:href=\"#MalgunGothic-32\"/>\r\n     <use x=\"335.15625\" xlink:href=\"#MalgunGothic-44053\"/>\r\n     <use x=\"435.15625\" xlink:href=\"#MalgunGothic-51032\"/>\r\n     <use x=\"535.15625\" xlink:href=\"#MalgunGothic-32\"/>\r\n     <use x=\"570.3125\" xlink:href=\"#MalgunGothic-44079\"/>\r\n     <use x=\"670.3125\" xlink:href=\"#MalgunGothic-49688\"/>\r\n    </g>\r\n   </g>\r\n  </g>\r\n </g>\r\n <defs>\r\n  <clipPath id=\"p8281c92a6a\">\r\n   <rect height=\"349.92\" width=\"751.68\" x=\"54.559313\" y=\"28.50585\"/>\r\n  </clipPath>\r\n </defs>\r\n</svg>\r\n",
      "image/png": "[encoded data removed]"
     },
     "metadata": {}
    }
   ],
   "metadata": {}
  },
  {
   "cell_type": "code",
   "execution_count": 11,
   "source": [
    "user_lect = train.groupby([\"user_id\", \"answered_correctly\"]).size().unstack()\r\n",
    "#print(user_lect) # answered_correctly (-1, 0, 1)이 칼럼이 됨\r\n",
    "\r\n",
    "user_lect.columns = ['Lecture', 'Wrong', 'Right'] #칼럼명 지정\r\n",
    "user_lect['Lecture'] = user_lect['Lecture'].fillna(0) #-1값이 없는 사람(강의를 한번도 안들은 사람)은 값이 NaN이므로 0으로 채워줌\r\n",
    "user_lect = user_lect.astype('Int64') #float -> int\r\n",
    "user_lect['Watches_lecture'] = np.where(user_lect.Lecture > 0, True, False) # user_lect.Lecture:강의를 들은 횟수 나타냄\r\n",
    "                                        #user_lect.Lecture가 0보다 크면(강의를 1회 이상 들었으면) True, 아니면 False\r\n",
    "                                #np.where(조건, 조건이 참일때 입력되는 값, 거짓일때 입력되는값)\r\n",
    "#print(user_lect.Lecture)\r\n",
    "\r\n",
    "watches_l = user_lect.groupby(\"Watches_lecture\").agg({'Wrong': ['sum'], 'Right': ['sum']}) #틀린문제, 맞은문제 sum\r\n",
    "#print(watches_l)\r\n",
    "\r\n",
    "watches_l['Percent_correct'] = watches_l.Right/(watches_l.Right + watches_l.Wrong)\r\n",
    "                            #강의안들은사람, 들은사람 각각 맞은문제/전체문제 (맞은문제의비율) 구해서 새로운 칼럼(Percent_correct)으로 추가\r\n",
    "#print(watches_l['Percent_correct']) #False:0.572016   True:0.670602\r\n",
    "\r\n",
    "watches_l = watches_l.iloc[:,2] #watches_l의 칼럼 Wrong, Right, Percent_correct 중에 Percent_correct 만 가져옴\r\n",
    "\r\n",
    "fig = plt.figure(figsize=(12,4))\r\n",
    "watches_l.plot.barh()\r\n",
    "for i, v in zip(watches_l.index, watches_l.values):\r\n",
    "    plt.text(v, i, round(v,2), color='white', fontweight='bold', fontsize=14, ha='right', va='center')\r\n",
    "\r\n",
    "plt.title(\"강의 시청 유무에 따른 정답률\") # 강의 시청 유무에 따른 정답률\r\n",
    "plt.xlabel(\"정답률\") #정답률\r\n",
    "plt.ylabel(\"강의 시청 유무\") # 강의 시청 유무\r\n",
    "plt.xticks(rotation=0)\r\n",
    "plt.show()"
   ],
   "outputs": [
    {
     "output_type": "display_data",
     "data": {
      "text/plain": [
       "<Figure size 864x288 with 1 Axes>"
      ],
      "image/svg+xml": "<?xml version=\"1.0\" encoding=\"utf-8\" standalone=\"no\"?>\r\n<!DOCTYPE svg PUBLIC \"-//W3C//DTD SVG 1.1//EN\"\r\n  \"http://www.w3.org/Graphics/SVG/1.1/DTD/svg11.dtd\">\r\n<!-- Created with matplotlib (https://matplotlib.org/) -->\r\n<svg height=\"307.1511pt\" version=\"1.1\" viewBox=\"0 0 821.008062 307.1511\" width=\"821.008062pt\" xmlns=\"http://www.w3.org/2000/svg\" xmlns:xlink=\"http://www.w3.org/1999/xlink\">\r\n <metadata>\r\n  <rdf:RDF xmlns:cc=\"http://creativecommons.org/ns#\" xmlns:dc=\"http://purl.org/dc/elements/1.1/\" xmlns:rdf=\"http://www.w3.org/1999/02/22-rdf-syntax-ns#\">\r\n   <cc:Work>\r\n    <dc:type rdf:resource=\"http://purl.org/dc/dcmitype/StillImage\"/>\r\n    <dc:date>2021-08-18T23:06:04.877750</dc:date>\r\n    <dc:format>image/svg+xml</dc:format>\r\n    <dc:creator>\r\n     <cc:Agent>\r\n      <dc:title>Matplotlib v3.3.4, https://matplotlib.org/</dc:title>\r\n     </cc:Agent>\r\n    </dc:creator>\r\n   </cc:Work>\r\n  </rdf:RDF>\r\n </metadata>\r\n <defs>\r\n  <style type=\"text/css\">*{stroke-linecap:butt;stroke-linejoin:round;}</style>\r\n </defs>\r\n <g id=\"figure_1\">\r\n  <g id=\"patch_1\">\r\n   <path d=\"M 0 307.1511 \r\nL 821.008062 307.1511 \r\nL 821.008062 0 \r\nL 0 0 \r\nz\r\n\" style=\"fill:#f0f0f0;\"/>\r\n  </g>\r\n  <g id=\"axes_1\">\r\n   <g id=\"patch_2\">\r\n    <path d=\"M 62.128063 261.78585 \r\nL 813.808063 261.78585 \r\nL 813.808063 28.50585 \r\nL 62.128063 28.50585 \r\nz\r\n\" style=\"fill:#f0f0f0;\"/>\r\n   </g>\r\n   <g id=\"matplotlib.axis_1\">\r\n    <g id=\"xtick_1\">\r\n     <g id=\"line2d_1\">\r\n      <path clip-path=\"url(#p2f9533c145)\" d=\"M 62.128063 261.78585 \r\nL 62.128063 28.50585 \r\n\" style=\"fill:none;stroke:#cbcbcb;\"/>\r\n     </g>\r\n     <g id=\"line2d_2\"/>\r\n     <g id=\"text_1\">\r\n      <!-- 0.0 -->\r\n      <g transform=\"translate(52.885875 275.914913)scale(0.14 -0.14)\">\r\n       <defs>\r\n        <path d=\"M 4.34375 34.46875 \r\nQ 4.34375 53.515625 10.546875 63.28125 \r\nQ 16.75 73.046875 28.421875 73.046875 \r\nQ 50.828125 73.046875 50.828125 36.234375 \r\nQ 50.828125 18.0625 44.59375 8.421875 \r\nQ 38.375 -1.21875 26.8125 -1.21875 \r\nQ 15.875 -1.21875 10.109375 8.125 \r\nQ 4.34375 17.484375 4.34375 34.46875 \r\nz\r\nM 12.25 34.859375 \r\nQ 12.25 5.375 27.640625 5.375 \r\nQ 42.921875 5.375 42.921875 35.296875 \r\nQ 42.921875 66.40625 28.03125 66.40625 \r\nQ 12.25 66.40625 12.25 34.859375 \r\nz\r\n\" id=\"MalgunGothic-48\"/>\r\n        <path d=\"M 5.5625 4.296875 \r\nQ 5.5625 6.59375 7.171875 8.171875 \r\nQ 8.796875 9.765625 10.9375 9.765625 \r\nQ 13.09375 9.765625 14.703125 8.171875 \r\nQ 16.3125 6.59375 16.3125 4.296875 \r\nQ 16.3125 2.15625 14.71875 0.515625 \r\nQ 13.140625 -1.125 10.9375 -1.125 \r\nQ 8.734375 -1.125 7.140625 0.453125 \r\nQ 5.5625 2.046875 5.5625 4.296875 \r\nz\r\n\" id=\"MalgunGothic-46\"/>\r\n       </defs>\r\n       <use xlink:href=\"#MalgunGothic-48\"/>\r\n       <use x=\"55.078125\" xlink:href=\"#MalgunGothic-46\"/>\r\n       <use x=\"76.953125\" xlink:href=\"#MalgunGothic-48\"/>\r\n      </g>\r\n     </g>\r\n    </g>\r\n    <g id=\"xtick_2\">\r\n     <g id=\"line2d_3\">\r\n      <path clip-path=\"url(#p2f9533c145)\" d=\"M 167.079167 261.78585 \r\nL 167.079167 28.50585 \r\n\" style=\"fill:none;stroke:#cbcbcb;\"/>\r\n     </g>\r\n     <g id=\"line2d_4\"/>\r\n     <g id=\"text_2\">\r\n      <!-- 0.1 -->\r\n      <g transform=\"translate(157.836979 275.914913)scale(0.14 -0.14)\">\r\n       <defs>\r\n        <path d=\"M 34.859375 0 \r\nL 27.09375 0 \r\nL 27.09375 62.0625 \r\nQ 24.859375 59.8125 19.78125 57.203125 \r\nQ 14.703125 54.59375 10.5 53.5625 \r\nL 10.5 61.859375 \r\nQ 15.875 63.375 22.015625 66.796875 \r\nQ 28.171875 70.21875 31.734375 73.4375 \r\nL 34.859375 73.4375 \r\nz\r\n\" id=\"MalgunGothic-49\"/>\r\n       </defs>\r\n       <use xlink:href=\"#MalgunGothic-48\"/>\r\n       <use x=\"55.078125\" xlink:href=\"#MalgunGothic-46\"/>\r\n       <use x=\"76.953125\" xlink:href=\"#MalgunGothic-49\"/>\r\n      </g>\r\n     </g>\r\n    </g>\r\n    <g id=\"xtick_3\">\r\n     <g id=\"line2d_5\">\r\n      <path clip-path=\"url(#p2f9533c145)\" d=\"M 272.030271 261.78585 \r\nL 272.030271 28.50585 \r\n\" style=\"fill:none;stroke:#cbcbcb;\"/>\r\n     </g>\r\n     <g id=\"line2d_6\"/>\r\n     <g id=\"text_3\">\r\n      <!-- 0.2 -->\r\n      <g transform=\"translate(262.788083 275.914913)scale(0.14 -0.14)\">\r\n       <defs>\r\n        <path d=\"M 39.359375 52.6875 \r\nQ 39.359375 59.125 35.546875 62.78125 \r\nQ 31.734375 66.453125 25.4375 66.453125 \r\nQ 20.953125 66.453125 16.453125 64.125 \r\nQ 11.96875 61.8125 8.34375 57.765625 \r\nL 8.34375 66.15625 \r\nQ 15.328125 73.046875 26.421875 73.046875 \r\nQ 35.640625 73.046875 41.28125 67.71875 \r\nQ 46.921875 62.40625 46.921875 53.375 \r\nQ 46.921875 45.609375 43.3125 39.765625 \r\nQ 39.703125 33.9375 31 27.734375 \r\nQ 22.796875 21.96875 19.59375 18.984375 \r\nQ 16.40625 16.015625 15.109375 13.34375 \r\nQ 13.8125 10.6875 13.8125 7.03125 \r\nL 48.6875 7.03125 \r\nL 48.6875 0 \r\nL 5.5625 0 \r\nL 5.5625 3.515625 \r\nQ 5.5625 9.421875 7.203125 13.59375 \r\nQ 8.84375 17.78125 12.671875 21.75 \r\nQ 16.5 25.734375 24.953125 31.59375 \r\nQ 32.671875 36.921875 36.015625 41.71875 \r\nQ 39.359375 46.53125 39.359375 52.6875 \r\nz\r\n\" id=\"MalgunGothic-50\"/>\r\n       </defs>\r\n       <use xlink:href=\"#MalgunGothic-48\"/>\r\n       <use x=\"55.078125\" xlink:href=\"#MalgunGothic-46\"/>\r\n       <use x=\"76.953125\" xlink:href=\"#MalgunGothic-50\"/>\r\n      </g>\r\n     </g>\r\n    </g>\r\n    <g id=\"xtick_4\">\r\n     <g id=\"line2d_7\">\r\n      <path clip-path=\"url(#p2f9533c145)\" d=\"M 376.981375 261.78585 \r\nL 376.981375 28.50585 \r\n\" style=\"fill:none;stroke:#cbcbcb;\"/>\r\n     </g>\r\n     <g id=\"line2d_8\"/>\r\n     <g id=\"text_4\">\r\n      <!-- 0.3 -->\r\n      <g transform=\"translate(367.739188 275.914913)scale(0.14 -0.14)\">\r\n       <defs>\r\n        <path d=\"M 6.5 11.234375 \r\nQ 13.921875 5.375 23.09375 5.375 \r\nQ 30.609375 5.375 35.21875 9.171875 \r\nQ 39.84375 12.984375 39.84375 19.484375 \r\nQ 39.84375 33.890625 19.578125 33.890625 \r\nL 13.625 33.890625 \r\nL 13.625 40.484375 \r\nL 19.28125 40.484375 \r\nQ 37.3125 40.484375 37.3125 53.953125 \r\nQ 37.3125 66.40625 23.578125 66.40625 \r\nQ 15.96875 66.40625 9.28125 61.1875 \r\nL 9.28125 68.953125 \r\nQ 16.109375 73.046875 25.53125 73.046875 \r\nQ 34.125 73.046875 39.671875 68.3125 \r\nQ 45.21875 63.578125 45.21875 55.953125 \r\nQ 45.21875 41.84375 30.8125 37.640625 \r\nL 30.8125 37.5 \r\nQ 38.578125 36.8125 43.1875 32.078125 \r\nQ 47.796875 27.34375 47.796875 20.3125 \r\nQ 47.796875 10.5 40.6875 4.640625 \r\nQ 33.59375 -1.21875 22.65625 -1.21875 \r\nQ 12.59375 -1.21875 6.5 2.640625 \r\nz\r\n\" id=\"MalgunGothic-51\"/>\r\n       </defs>\r\n       <use xlink:href=\"#MalgunGothic-48\"/>\r\n       <use x=\"55.078125\" xlink:href=\"#MalgunGothic-46\"/>\r\n       <use x=\"76.953125\" xlink:href=\"#MalgunGothic-51\"/>\r\n      </g>\r\n     </g>\r\n    </g>\r\n    <g id=\"xtick_5\">\r\n     <g id=\"line2d_9\">\r\n      <path clip-path=\"url(#p2f9533c145)\" d=\"M 481.932479 261.78585 \r\nL 481.932479 28.50585 \r\n\" style=\"fill:none;stroke:#cbcbcb;\"/>\r\n     </g>\r\n     <g id=\"line2d_10\"/>\r\n     <g id=\"text_5\">\r\n      <!-- 0.4 -->\r\n      <g transform=\"translate(472.690292 275.914913)scale(0.14 -0.14)\">\r\n       <defs>\r\n        <path d=\"M 42.234375 71.875 \r\nL 42.234375 24.421875 \r\nL 51.703125 24.421875 \r\nL 51.703125 17.390625 \r\nL 42.234375 17.390625 \r\nL 42.234375 0 \r\nL 34.578125 0 \r\nL 34.578125 17.390625 \r\nL 0.78125 17.390625 \r\nL 0.78125 23.96875 \r\nQ 11.375 35.890625 20.234375 48.578125 \r\nQ 29.109375 61.28125 33.9375 71.875 \r\nz\r\nM 9.765625 24.421875 \r\nL 34.578125 24.421875 \r\nL 34.578125 59.859375 \r\nQ 25.203125 43.5625 14.984375 30.953125 \r\nz\r\n\" id=\"MalgunGothic-52\"/>\r\n       </defs>\r\n       <use xlink:href=\"#MalgunGothic-48\"/>\r\n       <use x=\"55.078125\" xlink:href=\"#MalgunGothic-46\"/>\r\n       <use x=\"76.953125\" xlink:href=\"#MalgunGothic-52\"/>\r\n      </g>\r\n     </g>\r\n    </g>\r\n    <g id=\"xtick_6\">\r\n     <g id=\"line2d_11\">\r\n      <path clip-path=\"url(#p2f9533c145)\" d=\"M 586.883583 261.78585 \r\nL 586.883583 28.50585 \r\n\" style=\"fill:none;stroke:#cbcbcb;\"/>\r\n     </g>\r\n     <g id=\"line2d_12\"/>\r\n     <g id=\"text_6\">\r\n      <!-- 0.5 -->\r\n      <g transform=\"translate(577.641396 275.914913)scale(0.14 -0.14)\">\r\n       <defs>\r\n        <path d=\"M 48 21.921875 \r\nQ 48 11.28125 41.1875 5.03125 \r\nQ 34.375 -1.21875 22.953125 -1.21875 \r\nQ 12.9375 -1.21875 8.0625 1.765625 \r\nL 8.0625 10.15625 \r\nQ 15.53125 5.375 23.046875 5.375 \r\nQ 30.765625 5.375 35.46875 9.84375 \r\nQ 40.1875 14.3125 40.1875 21.4375 \r\nQ 40.1875 28.71875 35.390625 32.6875 \r\nQ 30.609375 36.671875 21.578125 36.671875 \r\nQ 15.53125 36.671875 9.421875 35.9375 \r\nL 11.859375 71.875 \r\nL 44.828125 71.875 \r\nL 44.828125 64.796875 \r\nL 18.84375 64.796875 \r\nL 17.28125 43.171875 \r\nQ 21.046875 43.5 24.171875 43.5 \r\nQ 35.359375 43.5 41.671875 37.71875 \r\nQ 48 31.9375 48 21.921875 \r\nz\r\n\" id=\"MalgunGothic-53\"/>\r\n       </defs>\r\n       <use xlink:href=\"#MalgunGothic-48\"/>\r\n       <use x=\"55.078125\" xlink:href=\"#MalgunGothic-46\"/>\r\n       <use x=\"76.953125\" xlink:href=\"#MalgunGothic-53\"/>\r\n      </g>\r\n     </g>\r\n    </g>\r\n    <g id=\"xtick_7\">\r\n     <g id=\"line2d_13\">\r\n      <path clip-path=\"url(#p2f9533c145)\" d=\"M 691.834688 261.78585 \r\nL 691.834688 28.50585 \r\n\" style=\"fill:none;stroke:#cbcbcb;\"/>\r\n     </g>\r\n     <g id=\"line2d_14\"/>\r\n     <g id=\"text_7\">\r\n      <!-- 0.6 -->\r\n      <g transform=\"translate(682.5925 275.914913)scale(0.14 -0.14)\">\r\n       <defs>\r\n        <path d=\"M 46.578125 63.578125 \r\nQ 40.921875 66.40625 34.8125 66.40625 \r\nQ 24.859375 66.40625 19.1875 57.640625 \r\nQ 13.53125 48.875 13.578125 34.578125 \r\nL 13.8125 34.578125 \r\nQ 18.796875 44.875 30.28125 44.875 \r\nQ 39.796875 44.875 45.359375 38.71875 \r\nQ 50.921875 32.5625 50.921875 22.65625 \r\nQ 50.921875 12.453125 44.640625 5.609375 \r\nQ 38.375 -1.21875 28.515625 -1.21875 \r\nQ 17.4375 -1.21875 11.5 7.46875 \r\nQ 5.5625 16.15625 5.5625 31.546875 \r\nQ 5.5625 49.703125 13.234375 61.375 \r\nQ 20.90625 73.046875 34.71875 73.046875 \r\nQ 42.1875 73.046875 46.578125 71 \r\nz\r\nM 14.15625 23.53125 \r\nQ 14.15625 15.96875 18.203125 10.671875 \r\nQ 22.265625 5.375 28.8125 5.375 \r\nQ 35.109375 5.375 39.03125 10.078125 \r\nQ 42.96875 14.796875 42.96875 21.6875 \r\nQ 42.96875 29.5 39.203125 33.859375 \r\nQ 35.453125 38.234375 28.71875 38.234375 \r\nQ 22.5625 38.234375 18.359375 33.953125 \r\nQ 14.15625 29.6875 14.15625 23.53125 \r\nz\r\n\" id=\"MalgunGothic-54\"/>\r\n       </defs>\r\n       <use xlink:href=\"#MalgunGothic-48\"/>\r\n       <use x=\"55.078125\" xlink:href=\"#MalgunGothic-46\"/>\r\n       <use x=\"76.953125\" xlink:href=\"#MalgunGothic-54\"/>\r\n      </g>\r\n     </g>\r\n    </g>\r\n    <g id=\"xtick_8\">\r\n     <g id=\"line2d_15\">\r\n      <path clip-path=\"url(#p2f9533c145)\" d=\"M 796.785792 261.78585 \r\nL 796.785792 28.50585 \r\n\" style=\"fill:none;stroke:#cbcbcb;\"/>\r\n     </g>\r\n     <g id=\"line2d_16\"/>\r\n     <g id=\"text_8\">\r\n      <!-- 0.7 -->\r\n      <g transform=\"translate(787.543604 275.914913)scale(0.14 -0.14)\">\r\n       <defs>\r\n        <path d=\"M 50.203125 67.140625 \r\nQ 38.71875 46.96875 32.25 29.96875 \r\nQ 25.78125 12.984375 24.21875 0 \r\nL 15.765625 0 \r\nQ 16.9375 8.296875 20.15625 18.375 \r\nQ 23.390625 28.46875 28.359375 39.640625 \r\nQ 33.34375 50.828125 41.109375 64.796875 \r\nL 4.546875 64.796875 \r\nL 4.546875 71.875 \r\nL 50.203125 71.875 \r\nz\r\n\" id=\"MalgunGothic-55\"/>\r\n       </defs>\r\n       <use xlink:href=\"#MalgunGothic-48\"/>\r\n       <use x=\"55.078125\" xlink:href=\"#MalgunGothic-46\"/>\r\n       <use x=\"76.953125\" xlink:href=\"#MalgunGothic-55\"/>\r\n      </g>\r\n     </g>\r\n    </g>\r\n    <g id=\"text_9\">\r\n     <!-- 정답률 -->\r\n     <g transform=\"translate(412.768062 295.979475)scale(0.168 -0.168)\">\r\n      <defs>\r\n       <path d=\"M 77.296875 31 \r\nL 77.296875 57.71875 \r\nL 55.328125 57.71875 \r\nL 55.328125 64.203125 \r\nL 77.296875 64.203125 \r\nL 77.296875 85.40625 \r\nL 84.625 85.40625 \r\nL 84.625 31 \r\nz\r\nM 57.078125 36.375 \r\nQ 50.6875 39.84375 44.234375 46.09375 \r\nQ 37.796875 52.34375 35.203125 57.8125 \r\nQ 32.421875 51.609375 25.921875 44.65625 \r\nQ 19.4375 37.703125 12.796875 33.984375 \r\nL 7.625 39.015625 \r\nQ 17.71875 43.84375 24.546875 53.015625 \r\nQ 31.390625 62.203125 31.390625 72.3125 \r\nL 31.390625 74.703125 \r\nL 10.6875 74.703125 \r\nL 10.6875 81.203125 \r\nL 59.1875 81.203125 \r\nL 59.1875 74.703125 \r\nL 38.484375 74.703125 \r\nL 38.484375 72.3125 \r\nQ 38.484375 62.890625 45.5625 54.25 \r\nQ 52.640625 45.609375 62.015625 41.703125 \r\nz\r\nM 55.71875 -7.421875 \r\nQ 40.96875 -7.421875 32.9375 -2.3125 \r\nQ 24.90625 2.78125 24.90625 10.890625 \r\nQ 24.90625 19 32.90625 24.046875 \r\nQ 40.921875 29.109375 55.71875 29.109375 \r\nQ 70.515625 29.109375 78.515625 24.046875 \r\nQ 86.53125 19 86.53125 10.890625 \r\nQ 86.53125 2.78125 78.484375 -2.3125 \r\nQ 70.453125 -7.421875 55.71875 -7.421875 \r\nz\r\nM 55.71875 22.90625 \r\nQ 44.53125 22.90625 38.625 19.5 \r\nQ 32.71875 16.109375 32.71875 10.890625 \r\nQ 32.71875 5.609375 38.640625 2.234375 \r\nQ 44.578125 -1.125 55.71875 -1.125 \r\nQ 66.796875 -1.125 72.75 2.21875 \r\nQ 78.71875 5.5625 78.71875 10.890625 \r\nQ 78.71875 16.15625 72.796875 19.53125 \r\nQ 66.890625 22.90625 55.71875 22.90625 \r\nz\r\n\" id=\"MalgunGothic-51221\"/>\r\n       <path d=\"M 79.984375 56.109375 \r\nL 79.984375 37.203125 \r\nL 72.703125 37.203125 \r\nL 72.703125 85.40625 \r\nL 79.984375 85.40625 \r\nL 79.984375 62.59375 \r\nL 94.1875 62.59375 \r\nL 94.1875 56.109375 \r\nz\r\nM 60.890625 42.1875 \r\nQ 47.015625 41.109375 12.984375 41.109375 \r\nL 12.984375 80.71875 \r\nL 57.515625 80.71875 \r\nL 57.515625 74.3125 \r\nL 20.21875 74.3125 \r\nL 20.21875 47.515625 \r\nL 26.515625 47.515625 \r\nQ 48.78125 47.515625 60.40625 48.390625 \r\nz\r\nM 22.703125 -6.203125 \r\nL 22.703125 31.984375 \r\nL 29.890625 31.984375 \r\nL 29.890625 18.796875 \r\nL 72.796875 18.796875 \r\nL 72.796875 31.984375 \r\nL 79.984375 31.984375 \r\nL 79.984375 -6.203125 \r\nz\r\nM 72.796875 12.40625 \r\nL 29.890625 12.40625 \r\nL 29.890625 0.203125 \r\nL 72.796875 0.203125 \r\nz\r\n\" id=\"MalgunGothic-45813\"/>\r\n       <path d=\"M 21 49.21875 \r\nL 21 69.484375 \r\nL 71.78125 69.484375 \r\nL 71.78125 77.390625 \r\nL 21 77.390625 \r\nL 21 83.796875 \r\nL 79 83.796875 \r\nL 79 63.1875 \r\nL 28.21875 63.1875 \r\nL 28.21875 55.609375 \r\nL 81.109375 55.609375 \r\nL 81.109375 49.21875 \r\nz\r\nM 20.703125 -6.984375 \r\nL 20.703125 13.375 \r\nL 72.015625 13.375 \r\nL 72.015625 20.515625 \r\nL 20.703125 20.515625 \r\nL 20.703125 26.90625 \r\nL 31.296875 26.90625 \r\nL 31.296875 35.296875 \r\nL 6.296875 35.296875 \r\nL 6.296875 41.609375 \r\nL 93.703125 41.609375 \r\nL 93.703125 35.296875 \r\nL 68.703125 35.296875 \r\nL 68.703125 26.90625 \r\nL 79.203125 26.90625 \r\nL 79.203125 7.078125 \r\nL 27.875 7.078125 \r\nL 27.875 -0.59375 \r\nL 81.296875 -0.59375 \r\nL 81.296875 -6.984375 \r\nz\r\nM 61.53125 26.90625 \r\nL 61.53125 35.296875 \r\nL 38.484375 35.296875 \r\nL 38.484375 26.90625 \r\nz\r\n\" id=\"MalgunGothic-47456\"/>\r\n      </defs>\r\n      <use xlink:href=\"#MalgunGothic-51221\"/>\r\n      <use x=\"100\" xlink:href=\"#MalgunGothic-45813\"/>\r\n      <use x=\"200\" xlink:href=\"#MalgunGothic-47456\"/>\r\n     </g>\r\n    </g>\r\n   </g>\r\n   <g id=\"matplotlib.axis_2\">\r\n    <g id=\"ytick_1\">\r\n     <g id=\"line2d_17\">\r\n      <path clip-path=\"url(#p2f9533c145)\" d=\"M 62.128063 203.46585 \r\nL 813.808063 203.46585 \r\n\" style=\"fill:none;stroke:#cbcbcb;\"/>\r\n     </g>\r\n     <g id=\"line2d_18\"/>\r\n     <g id=\"text_10\">\r\n      <!-- False -->\r\n      <g transform=\"translate(27.9265 208.780381)scale(0.14 -0.14)\">\r\n       <defs>\r\n        <path d=\"M 45.65625 64.59375 \r\nL 17.390625 64.59375 \r\nL 17.390625 39.3125 \r\nL 43.5625 39.3125 \r\nL 43.5625 32.03125 \r\nL 17.390625 32.03125 \r\nL 17.390625 0 \r\nL 9.515625 0 \r\nL 9.515625 71.875 \r\nL 45.65625 71.875 \r\nz\r\n\" id=\"MalgunGothic-70\"/>\r\n        <path d=\"M 9.625 47.65625 \r\nQ 17.140625 52.484375 26.90625 52.484375 \r\nQ 44.78125 52.484375 44.78125 33.546875 \r\nL 44.78125 0 \r\nL 37.015625 0 \r\nL 37.015625 8.0625 \r\nL 36.71875 8.0625 \r\nQ 31.390625 -1.21875 20.953125 -1.21875 \r\nQ 13.421875 -1.21875 9 2.8125 \r\nQ 4.59375 6.84375 4.59375 13.578125 \r\nQ 4.59375 27.875 21.484375 30.21875 \r\nL 36.96875 32.46875 \r\nQ 36.96875 45.84375 26.3125 45.84375 \r\nQ 16.9375 45.84375 9.625 39.453125 \r\nz\r\nM 24.421875 24.359375 \r\nQ 18.40625 23.578125 15.515625 21.421875 \r\nQ 12.640625 19.28125 12.640625 14.109375 \r\nQ 12.640625 10.203125 15.40625 7.8125 \r\nQ 18.171875 5.421875 22.65625 5.421875 \r\nQ 28.859375 5.421875 32.90625 9.8125 \r\nQ 36.96875 14.203125 36.96875 20.84375 \r\nL 36.96875 26.03125 \r\nz\r\n\" id=\"MalgunGothic-97\"/>\r\n        <path d=\"M 8.453125 0 \r\nL 8.453125 75.921875 \r\nL 16.15625 75.921875 \r\nL 16.15625 0 \r\nz\r\n\" id=\"MalgunGothic-108\"/>\r\n        <path d=\"M 5.171875 10.453125 \r\nQ 11.921875 5.46875 19.96875 5.46875 \r\nQ 30.90625 5.46875 30.90625 12.84375 \r\nQ 30.90625 16.015625 28.515625 18.09375 \r\nQ 26.125 20.171875 19.09375 22.796875 \r\nQ 10.984375 26.03125 8.125 29.34375 \r\nQ 5.28125 32.671875 5.28125 37.75 \r\nQ 5.28125 44.28125 10.9375 48.375 \r\nQ 16.609375 52.484375 24.75 52.484375 \r\nQ 31.296875 52.484375 36.578125 50.203125 \r\nL 36.578125 42.140625 \r\nQ 30.859375 45.84375 23.53125 45.84375 \r\nQ 18.75 45.84375 16.015625 43.71875 \r\nQ 13.28125 41.609375 13.28125 38.421875 \r\nQ 13.28125 35.015625 15.296875 33.203125 \r\nQ 17.328125 31.390625 24.125 28.71875 \r\nQ 33.296875 25.140625 36.078125 21.71875 \r\nQ 38.875 18.3125 38.875 13.578125 \r\nQ 38.875 6.734375 33.234375 2.75 \r\nQ 27.59375 -1.21875 18.796875 -1.21875 \r\nQ 10.84375 -1.21875 5.171875 1.90625 \r\nz\r\n\" id=\"MalgunGothic-115\"/>\r\n        <path d=\"M 49.3125 23.734375 \r\nL 12.9375 23.734375 \r\nQ 13.1875 14.84375 17.703125 10.125 \r\nQ 22.21875 5.421875 29.828125 5.421875 \r\nQ 38.625 5.421875 45.84375 11.234375 \r\nL 45.84375 3.8125 \r\nQ 38.96875 -1.21875 28.03125 -1.21875 \r\nQ 17.1875 -1.21875 11.0625 5.875 \r\nQ 4.9375 12.984375 4.9375 25.53125 \r\nQ 4.9375 37.203125 11.671875 44.84375 \r\nQ 18.40625 52.484375 28.375 52.484375 \r\nQ 38.328125 52.484375 43.8125 45.96875 \r\nQ 49.3125 39.453125 49.3125 27.9375 \r\nz\r\nM 41.3125 30.5625 \r\nQ 41.3125 37.75 37.859375 41.796875 \r\nQ 34.421875 45.84375 28.265625 45.84375 \r\nQ 22.46875 45.84375 18.265625 41.671875 \r\nQ 14.0625 37.5 13.03125 30.5625 \r\nz\r\n\" id=\"MalgunGothic-101\"/>\r\n       </defs>\r\n       <use xlink:href=\"#MalgunGothic-70\"/>\r\n       <use x=\"45.853516\" xlink:href=\"#MalgunGothic-97\"/>\r\n       <use x=\"97.855469\" xlink:href=\"#MalgunGothic-108\"/>\r\n       <use x=\"122.464844\" xlink:href=\"#MalgunGothic-115\"/>\r\n       <use x=\"165.775391\" xlink:href=\"#MalgunGothic-101\"/>\r\n      </g>\r\n     </g>\r\n    </g>\r\n    <g id=\"ytick_2\">\r\n     <g id=\"line2d_19\">\r\n      <path clip-path=\"url(#p2f9533c145)\" d=\"M 62.128063 86.82585 \r\nL 813.808063 86.82585 \r\n\" style=\"fill:none;stroke:#cbcbcb;\"/>\r\n     </g>\r\n     <g id=\"line2d_20\"/>\r\n     <g id=\"text_11\">\r\n      <!-- True -->\r\n      <g transform=\"translate(31.931813 92.140381)scale(0.14 -0.14)\">\r\n       <defs>\r\n        <path d=\"M 51.46875 64.59375 \r\nL 30.71875 64.59375 \r\nL 30.71875 0 \r\nL 22.75 0 \r\nL 22.75 64.59375 \r\nL 2.09375 64.59375 \r\nL 2.09375 71.875 \r\nL 51.46875 71.875 \r\nz\r\n\" id=\"MalgunGothic-84\"/>\r\n        <path d=\"M 34.765625 43.359375 \r\nQ 32.5625 45.015625 28.5625 45.015625 \r\nQ 23.296875 45.015625 19.71875 39.890625 \r\nQ 16.15625 34.765625 16.15625 26.265625 \r\nL 16.15625 0 \r\nL 8.40625 0 \r\nL 8.40625 51.3125 \r\nL 16.15625 51.3125 \r\nL 16.15625 40.671875 \r\nL 16.359375 40.671875 \r\nQ 18.109375 46.09375 21.703125 49.140625 \r\nQ 25.296875 52.203125 29.734375 52.203125 \r\nQ 32.953125 52.203125 34.765625 51.515625 \r\nz\r\n\" id=\"MalgunGothic-114\"/>\r\n        <path d=\"M 49.46875 0 \r\nL 41.703125 0 \r\nL 41.703125 8.109375 \r\nL 41.5 8.109375 \r\nQ 36.421875 -1.21875 25.6875 -1.21875 \r\nQ 7.328125 -1.21875 7.328125 20.65625 \r\nL 7.328125 51.3125 \r\nL 14.984375 51.3125 \r\nL 14.984375 21.921875 \r\nQ 14.984375 5.375 27.59375 5.375 \r\nQ 33.734375 5.375 37.71875 9.9375 \r\nQ 41.703125 14.5 41.703125 21.78125 \r\nL 41.703125 51.3125 \r\nL 49.46875 51.3125 \r\nz\r\n\" id=\"MalgunGothic-117\"/>\r\n       </defs>\r\n       <use xlink:href=\"#MalgunGothic-84\"/>\r\n       <use x=\"43.994141\" xlink:href=\"#MalgunGothic-114\"/>\r\n       <use x=\"79.345703\" xlink:href=\"#MalgunGothic-117\"/>\r\n       <use x=\"137.158203\" xlink:href=\"#MalgunGothic-101\"/>\r\n      </g>\r\n     </g>\r\n    </g>\r\n    <g id=\"text_12\">\r\n     <!-- 강의 시청 유무 -->\r\n     <g transform=\"translate(19.954875 201.4521)rotate(-90)scale(0.168 -0.168)\">\r\n      <defs>\r\n       <path d=\"M 80.078125 52.6875 \r\nL 80.078125 31.390625 \r\nL 72.796875 31.390625 \r\nL 72.796875 85.40625 \r\nL 80.078125 85.40625 \r\nL 80.078125 59.515625 \r\nL 94.28125 59.515625 \r\nL 94.28125 52.6875 \r\nz\r\nM 54.890625 79.890625 \r\nQ 53.078125 60.15625 39.859375 47.484375 \r\nQ 26.65625 34.8125 12.40625 29.203125 \r\nL 7.171875 35.109375 \r\nQ 21.6875 39.703125 32.9375 50.390625 \r\nQ 44.1875 61.078125 46.296875 73.390625 \r\nL 12.984375 73.390625 \r\nL 12.984375 79.890625 \r\nz\r\nM 50.984375 -7.078125 \r\nQ 36.328125 -7.078125 28.21875 -2 \r\nQ 20.125 3.078125 20.125 11.1875 \r\nQ 20.125 19.234375 28.171875 24.3125 \r\nQ 36.234375 29.390625 50.984375 29.390625 \r\nQ 65.875 29.390625 73.921875 24.328125 \r\nQ 81.984375 19.28125 81.984375 11.1875 \r\nQ 81.984375 3.078125 73.84375 -2 \r\nQ 65.71875 -7.078125 50.984375 -7.078125 \r\nz\r\nM 50.984375 23.09375 \r\nQ 39.984375 23.09375 33.875 19.765625 \r\nQ 27.78125 16.453125 27.78125 11.1875 \r\nQ 27.78125 5.90625 33.78125 2.5625 \r\nQ 39.796875 -0.78125 50.984375 -0.78125 \r\nQ 62.203125 -0.78125 68.203125 2.5625 \r\nQ 74.21875 5.90625 74.21875 11.1875 \r\nQ 74.21875 16.453125 68.109375 19.765625 \r\nQ 62.015625 23.09375 50.984375 23.09375 \r\nz\r\n\" id=\"MalgunGothic-44053\"/>\r\n       <path d=\"M 78.328125 -8.796875 \r\nL 78.328125 85.40625 \r\nL 85.59375 85.40625 \r\nL 85.59375 -8.796875 \r\nz\r\nM 38.28125 33.296875 \r\nQ 27.734375 33.296875 20.546875 39.6875 \r\nQ 13.375 46.09375 13.375 55.8125 \r\nQ 13.375 65.328125 20.5 71.765625 \r\nQ 27.640625 78.21875 38.28125 78.21875 \r\nQ 48.875 78.21875 56.03125 71.71875 \r\nQ 63.1875 65.234375 63.1875 55.8125 \r\nQ 63.1875 46.046875 56.046875 39.671875 \r\nQ 48.921875 33.296875 38.28125 33.296875 \r\nz\r\nM 38.28125 71.78125 \r\nQ 30.859375 71.78125 25.875 67.28125 \r\nQ 20.90625 62.796875 20.90625 55.8125 \r\nQ 20.90625 48.734375 26 44.265625 \r\nQ 31.109375 39.796875 38.28125 39.796875 \r\nQ 45.65625 39.796875 50.6875 44.265625 \r\nQ 55.71875 48.734375 55.71875 55.8125 \r\nQ 55.71875 62.890625 50.734375 67.328125 \r\nQ 45.75 71.78125 38.28125 71.78125 \r\nz\r\nM 7.171875 8.296875 \r\nL 6.5 14.59375 \r\nQ 19.09375 14.59375 41.671875 15.078125 \r\nQ 64.265625 15.578125 71.6875 16.21875 \r\nL 72.125 9.90625 \r\nQ 64.453125 9.28125 41.859375 8.78125 \r\nQ 19.28125 8.296875 7.171875 8.296875 \r\nz\r\n\" id=\"MalgunGothic-51032\"/>\r\n       <path id=\"MalgunGothic-32\"/>\r\n       <path d=\"M 77.296875 -8.796875 \r\nL 77.296875 85.40625 \r\nL 84.625 85.40625 \r\nL 84.625 -8.796875 \r\nz\r\nM 58.890625 15.09375 \r\nQ 50.984375 21.140625 44.0625 30.296875 \r\nQ 37.15625 39.453125 35.296875 46.09375 \r\nQ 33.0625 38.484375 26.359375 29.25 \r\nQ 19.671875 20.015625 11.8125 13.921875 \r\nL 6.203125 18.796875 \r\nQ 17.828125 26.609375 24.703125 38.734375 \r\nQ 31.59375 50.875 31.59375 63.484375 \r\nL 31.59375 78.90625 \r\nL 38.8125 78.90625 \r\nL 38.8125 63.8125 \r\nQ 38.8125 51.609375 45.625 39.9375 \r\nQ 52.4375 28.265625 64.015625 20.796875 \r\nz\r\n\" id=\"MalgunGothic-49884\"/>\r\n       <path d=\"M 58.890625 33.203125 \r\nQ 43.109375 40.671875 35.984375 53.21875 \r\nQ 33.203125 47.21875 26.65625 41.015625 \r\nQ 20.125 34.8125 13.09375 31.296875 \r\nL 7.71875 36.921875 \r\nQ 17.625 40.484375 24.96875 48.6875 \r\nQ 32.328125 56.890625 32.328125 64.3125 \r\nL 32.328125 68.890625 \r\nL 10.796875 68.890625 \r\nL 10.796875 75.296875 \r\nL 32.328125 75.296875 \r\nL 32.328125 86.28125 \r\nL 39.59375 86.28125 \r\nL 39.59375 75.296875 \r\nL 61.078125 75.296875 \r\nL 61.078125 68.890625 \r\nL 39.59375 68.890625 \r\nL 39.59375 64.40625 \r\nQ 39.59375 57.234375 47.015625 49.5625 \r\nQ 54.4375 41.890625 63.8125 39.203125 \r\nz\r\nM 76.3125 31 \r\nL 76.3125 53.328125 \r\nL 57.8125 53.328125 \r\nL 57.8125 59.8125 \r\nL 76.3125 59.8125 \r\nL 76.3125 85.40625 \r\nL 83.59375 85.40625 \r\nL 83.59375 31 \r\nz\r\nM 54.6875 -7.421875 \r\nQ 39.9375 -7.421875 31.90625 -2.3125 \r\nQ 23.875 2.78125 23.875 10.890625 \r\nQ 23.875 19 31.875 24.046875 \r\nQ 39.890625 29.109375 54.6875 29.109375 \r\nQ 69.484375 29.109375 77.484375 24.046875 \r\nQ 85.5 19 85.5 10.890625 \r\nQ 85.5 2.78125 77.46875 -2.3125 \r\nQ 69.4375 -7.421875 54.6875 -7.421875 \r\nz\r\nM 54.6875 22.90625 \r\nQ 43.5 22.90625 37.59375 19.5 \r\nQ 31.6875 16.109375 31.6875 10.890625 \r\nQ 31.6875 5.609375 37.625 2.234375 \r\nQ 43.5625 -1.125 54.6875 -1.125 \r\nQ 65.765625 -1.125 71.71875 2.21875 \r\nQ 77.6875 5.5625 77.6875 10.890625 \r\nQ 77.6875 16.15625 71.78125 19.53125 \r\nQ 65.875 22.90625 54.6875 22.90625 \r\nz\r\n\" id=\"MalgunGothic-52397\"/>\r\n       <path d=\"M 50 43.5 \r\nQ 35.59375 43.5 27.625 48.921875 \r\nQ 19.671875 54.34375 19.671875 63.71875 \r\nQ 19.671875 72.953125 27.734375 78.515625 \r\nQ 35.796875 84.078125 50 84.078125 \r\nQ 64.5 84.078125 72.5 78.515625 \r\nQ 80.515625 72.953125 80.515625 63.71875 \r\nQ 80.515625 54.4375 72.5 48.96875 \r\nQ 64.5 43.5 50 43.5 \r\nz\r\nM 50 77.78125 \r\nQ 39.265625 77.78125 33.28125 74 \r\nQ 27.296875 70.21875 27.296875 63.71875 \r\nQ 27.296875 57.328125 33.28125 53.515625 \r\nQ 39.265625 49.703125 50 49.703125 \r\nQ 60.75 49.703125 66.71875 53.515625 \r\nQ 72.703125 57.328125 72.703125 63.71875 \r\nQ 72.703125 70.21875 66.71875 74 \r\nQ 60.75 77.78125 50 77.78125 \r\nz\r\nM 29.890625 -8.6875 \r\nL 29.890625 26.125 \r\nL 6.296875 26.125 \r\nL 6.296875 32.71875 \r\nL 93.703125 32.71875 \r\nL 93.703125 26.125 \r\nL 70.125 26.125 \r\nL 70.125 -8.6875 \r\nL 62.796875 -8.6875 \r\nL 62.796875 26.125 \r\nL 37.203125 26.125 \r\nL 37.203125 -8.6875 \r\nz\r\n\" id=\"MalgunGothic-50976\"/>\r\n       <path d=\"M 20.796875 45.609375 \r\nL 20.796875 81.984375 \r\nL 79.109375 81.984375 \r\nL 79.109375 45.609375 \r\nz\r\nM 71.921875 75.484375 \r\nL 27.984375 75.484375 \r\nL 27.984375 52.09375 \r\nL 71.921875 52.09375 \r\nz\r\nM 53.71875 26.421875 \r\nL 53.71875 -8.796875 \r\nL 46.296875 -8.796875 \r\nL 46.296875 26.421875 \r\nL 6.296875 26.421875 \r\nL 6.296875 32.90625 \r\nL 93.703125 32.90625 \r\nL 93.703125 26.421875 \r\nz\r\n\" id=\"MalgunGothic-47924\"/>\r\n      </defs>\r\n      <use xlink:href=\"#MalgunGothic-44053\"/>\r\n      <use x=\"100\" xlink:href=\"#MalgunGothic-51032\"/>\r\n      <use x=\"200\" xlink:href=\"#MalgunGothic-32\"/>\r\n      <use x=\"235.15625\" xlink:href=\"#MalgunGothic-49884\"/>\r\n      <use x=\"335.15625\" xlink:href=\"#MalgunGothic-52397\"/>\r\n      <use x=\"435.15625\" xlink:href=\"#MalgunGothic-32\"/>\r\n      <use x=\"470.3125\" xlink:href=\"#MalgunGothic-50976\"/>\r\n      <use x=\"570.3125\" xlink:href=\"#MalgunGothic-47924\"/>\r\n     </g>\r\n    </g>\r\n   </g>\r\n   <g id=\"patch_3\">\r\n    <path clip-path=\"url(#p2f9533c145)\" d=\"M 62.128063 232.62585 \r\nL 550.597297 232.62585 \r\nL 550.597297 174.30585 \r\nL 62.128063 174.30585 \r\nz\r\n\" style=\"fill:#008fd5;\"/>\r\n   </g>\r\n   <g id=\"patch_4\">\r\n    <path clip-path=\"url(#p2f9533c145)\" d=\"M 62.128063 115.98585 \r\nL 778.013777 115.98585 \r\nL 778.013777 57.66585 \r\nL 62.128063 57.66585 \r\nz\r\n\" style=\"fill:#008fd5;\"/>\r\n   </g>\r\n   <g id=\"patch_5\">\r\n    <path d=\"M 62.128063 261.78585 \r\nL 62.128063 28.50585 \r\n\" style=\"fill:none;stroke:#f0f0f0;stroke-linecap:square;stroke-linejoin:miter;stroke-width:3;\"/>\r\n   </g>\r\n   <g id=\"patch_6\">\r\n    <path d=\"M 813.808063 261.78585 \r\nL 813.808063 28.50585 \r\n\" style=\"fill:none;stroke:#f0f0f0;stroke-linecap:square;stroke-linejoin:miter;stroke-width:3;\"/>\r\n   </g>\r\n   <g id=\"patch_7\">\r\n    <path d=\"M 62.128063 261.78585 \r\nL 813.808063 261.78585 \r\n\" style=\"fill:none;stroke:#f0f0f0;stroke-linecap:square;stroke-linejoin:miter;stroke-width:3;\"/>\r\n   </g>\r\n   <g id=\"patch_8\">\r\n    <path d=\"M 62.128063 28.50585 \r\nL 813.808063 28.50585 \r\n\" style=\"fill:none;stroke:#f0f0f0;stroke-linecap:square;stroke-linejoin:miter;stroke-width:3;\"/>\r\n   </g>\r\n   <g id=\"text_13\">\r\n    <!-- 0.47 -->\r\n    <g style=\"fill:#ffffff;\" transform=\"translate(522.592922 207.125538)scale(0.14 -0.14)\">\r\n     <defs>\r\n      <path d=\"M 3.765625 34.71875 \r\nQ 3.765625 53.46875 10.46875 63.25 \r\nQ 17.1875 73.046875 29.984375 73.046875 \r\nQ 54.296875 73.046875 54.296875 36.375 \r\nQ 54.296875 18.3125 47.671875 8.515625 \r\nQ 41.0625 -1.265625 28.515625 -1.265625 \r\nQ 3.765625 -1.265625 3.765625 34.71875 \r\nz\r\nM 17.578125 35.0625 \r\nQ 17.578125 9.375 29.109375 9.375 \r\nQ 40.375 9.375 40.375 35.75 \r\nQ 40.375 62.453125 29.34375 62.453125 \r\nQ 17.578125 62.453125 17.578125 35.0625 \r\nz\r\n\" id=\"MalgunGothicBold-48\"/>\r\n      <path d=\"M 4.828125 6.25 \r\nQ 4.828125 9.515625 7.296875 11.609375 \r\nQ 9.765625 13.71875 13.140625 13.71875 \r\nQ 16.5 13.71875 18.890625 11.609375 \r\nQ 21.296875 9.515625 21.296875 6.25 \r\nQ 21.296875 2.9375 18.890625 0.859375 \r\nQ 16.5 -1.21875 12.9375 -1.21875 \r\nQ 9.578125 -1.21875 7.203125 0.921875 \r\nQ 4.828125 3.078125 4.828125 6.25 \r\nz\r\n\" id=\"MalgunGothicBold-46\"/>\r\n      <path d=\"M 46.390625 71.875 \r\nL 46.390625 25.828125 \r\nL 54.984375 25.828125 \r\nL 54.984375 15.875 \r\nL 46.390625 15.875 \r\nL 46.390625 0 \r\nL 33.796875 0 \r\nL 33.796875 15.875 \r\nL 2.484375 15.875 \r\nL 2.484375 26.375 \r\nQ 12.3125 37.59375 20.703125 49.828125 \r\nQ 29.109375 62.0625 33.546875 71.875 \r\nz\r\nM 14.0625 25.828125 \r\nL 33.796875 25.828125 \r\nL 33.796875 53.65625 \r\nQ 30.8125 48.34375 25.34375 40.5 \r\nQ 19.875 32.671875 14.0625 25.828125 \r\nz\r\n\" id=\"MalgunGothicBold-52\"/>\r\n      <path d=\"M 53.5625 64.359375 \r\nQ 42 42.828125 37.0625 29.078125 \r\nQ 32.125 15.328125 29.9375 0 \r\nL 15.875 0 \r\nQ 18.171875 14.40625 23.75 29.078125 \r\nQ 29.34375 43.75 39.40625 60.546875 \r\nL 4.6875 60.546875 \r\nL 4.6875 71.875 \r\nL 53.5625 71.875 \r\nz\r\n\" id=\"MalgunGothicBold-55\"/>\r\n     </defs>\r\n     <use xlink:href=\"#MalgunGothicBold-48\"/>\r\n     <use x=\"57.958984\" xlink:href=\"#MalgunGothicBold-46\"/>\r\n     <use x=\"84.130859\" xlink:href=\"#MalgunGothicBold-52\"/>\r\n     <use x=\"142.089844\" xlink:href=\"#MalgunGothicBold-55\"/>\r\n    </g>\r\n   </g>\r\n   <g id=\"text_14\">\r\n    <!-- 0.68 -->\r\n    <g style=\"fill:#ffffff;\" transform=\"translate(750.009402 90.485537)scale(0.14 -0.14)\">\r\n     <defs>\r\n      <path d=\"M 49.46875 59.421875 \r\nQ 44.046875 62.453125 37.59375 62.453125 \r\nQ 28.953125 62.453125 23.84375 55.4375 \r\nQ 18.75 48.4375 18.75 37.5 \r\nL 19.046875 37.5 \r\nQ 24.171875 45.84375 34.515625 45.84375 \r\nQ 43.609375 45.84375 48.96875 39.671875 \r\nQ 54.34375 33.5 54.34375 23.578125 \r\nQ 54.34375 12.703125 47.5 5.71875 \r\nQ 40.671875 -1.265625 30.171875 -1.265625 \r\nQ 18.015625 -1.265625 11.59375 7.671875 \r\nQ 5.171875 16.609375 5.171875 31.984375 \r\nQ 5.171875 50.203125 13.5625 61.625 \r\nQ 21.96875 73.046875 36.8125 73.046875 \r\nQ 45.015625 73.046875 49.46875 71.046875 \r\nz\r\nM 19.234375 23.578125 \r\nQ 19.234375 17.78125 22.21875 13.578125 \r\nQ 25.203125 9.375 30.21875 9.375 \r\nQ 35.15625 9.375 38.03125 13.125 \r\nQ 40.921875 16.890625 40.921875 22.609375 \r\nQ 40.921875 35.5 30.171875 35.5 \r\nQ 25.34375 35.5 22.28125 32.109375 \r\nQ 19.234375 28.71875 19.234375 23.578125 \r\nz\r\n\" id=\"MalgunGothicBold-54\"/>\r\n      <path d=\"M 4.890625 19.34375 \r\nQ 4.890625 25.53125 8.375 30.390625 \r\nQ 11.859375 35.25 18.453125 37.640625 \r\nQ 13.234375 40.328125 10.234375 44.546875 \r\nQ 7.234375 48.78125 7.234375 53.953125 \r\nQ 7.234375 59.28125 10.078125 63.640625 \r\nQ 12.9375 68.015625 18.109375 70.53125 \r\nQ 23.296875 73.046875 29.546875 73.046875 \r\nQ 35.84375 73.046875 41.0625 70.578125 \r\nQ 46.296875 68.109375 49.140625 63.78125 \r\nQ 52 59.46875 52 54.15625 \r\nQ 52 43.5625 40.1875 37.984375 \r\nQ 46.734375 35.640625 50.359375 30.8125 \r\nQ 54 25.984375 54 19.484375 \r\nQ 54 9.96875 47.328125 4.34375 \r\nQ 40.671875 -1.265625 29.390625 -1.265625 \r\nQ 18.265625 -1.265625 11.578125 4.3125 \r\nQ 4.890625 9.90625 4.890625 19.34375 \r\nz\r\nM 17.921875 20.21875 \r\nQ 17.921875 14.796875 21 11.8125 \r\nQ 24.078125 8.84375 29.4375 8.84375 \r\nQ 34.96875 8.84375 37.984375 11.84375 \r\nQ 41.015625 14.84375 41.015625 20.21875 \r\nQ 41.015625 25.140625 37.734375 28.578125 \r\nQ 34.46875 32.03125 29.4375 32.03125 \r\nQ 24.515625 32.03125 21.21875 28.6875 \r\nQ 17.921875 25.34375 17.921875 20.21875 \r\nz\r\nM 20.125 52.984375 \r\nQ 20.125 48.734375 22.90625 45.703125 \r\nQ 25.6875 42.671875 29.640625 42.671875 \r\nQ 33.6875 42.671875 36.46875 45.71875 \r\nQ 39.265625 48.78125 39.265625 52.984375 \r\nQ 39.265625 57.71875 36.671875 60.328125 \r\nQ 34.078125 62.9375 29.640625 62.9375 \r\nQ 25.203125 62.9375 22.65625 60.296875 \r\nQ 20.125 57.671875 20.125 52.984375 \r\nz\r\n\" id=\"MalgunGothicBold-56\"/>\r\n     </defs>\r\n     <use xlink:href=\"#MalgunGothicBold-48\"/>\r\n     <use x=\"57.958984\" xlink:href=\"#MalgunGothicBold-46\"/>\r\n     <use x=\"84.130859\" xlink:href=\"#MalgunGothicBold-54\"/>\r\n     <use x=\"142.089844\" xlink:href=\"#MalgunGothicBold-56\"/>\r\n    </g>\r\n   </g>\r\n   <g id=\"text_15\">\r\n    <!-- 강의 시청 유무에 따른 정답률 -->\r\n    <g transform=\"translate(302.833062 22.50585)scale(0.2016 -0.2016)\">\r\n     <defs>\r\n      <path d=\"M 79.390625 -8.796875 \r\nL 79.390625 85.40625 \r\nL 86.71875 85.40625 \r\nL 86.71875 -8.796875 \r\nz\r\nM 51.21875 44.09375 \r\nQ 50.6875 30.171875 45.359375 22.625 \r\nQ 40.046875 15.09375 30.609375 15.09375 \r\nQ 20.703125 15.09375 15.359375 23.359375 \r\nQ 10.015625 31.640625 10.015625 47.125 \r\nQ 10.015625 62.59375 15.40625 70.84375 \r\nQ 20.796875 79.109375 30.609375 79.109375 \r\nQ 39.984375 79.109375 45.28125 71.734375 \r\nQ 50.59375 64.359375 51.125 50.59375 \r\nL 62.5 50.59375 \r\nL 62.5 83.5 \r\nL 69.828125 83.5 \r\nL 69.828125 -5.90625 \r\nL 62.5 -5.90625 \r\nL 62.5 44.09375 \r\nz\r\nM 30.609375 72.515625 \r\nQ 24.03125 72.515625 20.5625 66.015625 \r\nQ 17.09375 59.515625 17.09375 47.125 \r\nQ 17.09375 34.71875 20.5625 28.203125 \r\nQ 24.03125 21.6875 30.609375 21.6875 \r\nQ 37.15625 21.6875 40.625 28.21875 \r\nQ 44.09375 34.765625 44.09375 47.125 \r\nQ 44.09375 59.46875 40.625 65.984375 \r\nQ 37.15625 72.515625 30.609375 72.515625 \r\nz\r\n\" id=\"MalgunGothic-50640\"/>\r\n      <path d=\"M 81.5 41.109375 \r\nL 81.5 -8.796875 \r\nL 74.21875 -8.796875 \r\nL 74.21875 85.40625 \r\nL 81.5 85.40625 \r\nL 81.5 47.609375 \r\nL 97.40625 47.609375 \r\nL 97.40625 41.109375 \r\nz\r\nM 69.390625 18.21875 \r\nQ 62.25 16.703125 41.21875 16.703125 \r\nL 41.21875 77 \r\nL 65.921875 77 \r\nL 65.921875 70.609375 \r\nL 48.390625 70.609375 \r\nL 48.390625 23.1875 \r\nQ 62.15625 23.1875 68.703125 24.515625 \r\nz\r\nM 37.015625 18.703125 \r\nQ 28.609375 16.796875 10.5 16.796875 \r\nL 10.5 77 \r\nL 34.8125 77 \r\nL 34.8125 70.609375 \r\nL 17.671875 70.609375 \r\nL 17.671875 23.296875 \r\nQ 31 23.296875 35.984375 24.8125 \r\nz\r\n\" id=\"MalgunGothic-46384\"/>\r\n      <path d=\"M 21 42.578125 \r\nL 21 65.625 \r\nL 71.6875 65.625 \r\nL 71.6875 75.875 \r\nL 21 75.875 \r\nL 21 82.328125 \r\nL 79 82.328125 \r\nL 79 59.1875 \r\nL 28.21875 59.1875 \r\nL 28.21875 49.125 \r\nL 81.203125 49.125 \r\nL 81.203125 42.578125 \r\nz\r\nM 6.296875 26.515625 \r\nL 6.296875 33.015625 \r\nL 93.703125 33.015625 \r\nL 93.703125 26.515625 \r\nz\r\nM 20.703125 -6.59375 \r\nL 20.703125 19.828125 \r\nL 27.984375 19.828125 \r\nL 27.984375 0 \r\nL 81.296875 0 \r\nL 81.296875 -6.59375 \r\nz\r\n\" id=\"MalgunGothic-47480\"/>\r\n     </defs>\r\n     <use xlink:href=\"#MalgunGothic-44053\"/>\r\n     <use x=\"100\" xlink:href=\"#MalgunGothic-51032\"/>\r\n     <use x=\"200\" xlink:href=\"#MalgunGothic-32\"/>\r\n     <use x=\"235.15625\" xlink:href=\"#MalgunGothic-49884\"/>\r\n     <use x=\"335.15625\" xlink:href=\"#MalgunGothic-52397\"/>\r\n     <use x=\"435.15625\" xlink:href=\"#MalgunGothic-32\"/>\r\n     <use x=\"470.3125\" xlink:href=\"#MalgunGothic-50976\"/>\r\n     <use x=\"570.3125\" xlink:href=\"#MalgunGothic-47924\"/>\r\n     <use x=\"670.3125\" xlink:href=\"#MalgunGothic-50640\"/>\r\n     <use x=\"770.3125\" xlink:href=\"#MalgunGothic-32\"/>\r\n     <use x=\"805.46875\" xlink:href=\"#MalgunGothic-46384\"/>\r\n     <use x=\"905.46875\" xlink:href=\"#MalgunGothic-47480\"/>\r\n     <use x=\"1005.46875\" xlink:href=\"#MalgunGothic-32\"/>\r\n     <use x=\"1040.625\" xlink:href=\"#MalgunGothic-51221\"/>\r\n     <use x=\"1140.625\" xlink:href=\"#MalgunGothic-45813\"/>\r\n     <use x=\"1240.625\" xlink:href=\"#MalgunGothic-47456\"/>\r\n    </g>\r\n   </g>\r\n  </g>\r\n </g>\r\n <defs>\r\n  <clipPath id=\"p2f9533c145\">\r\n   <rect height=\"233.28\" width=\"751.68\" x=\"62.128063\" y=\"28.50585\"/>\r\n  </clipPath>\r\n </defs>\r\n</svg>\r\n",
      "image/png": "[encoded data removed]"
     },
     "metadata": {}
    }
   ],
   "metadata": {
    "scrolled": true
   }
  },
  {
   "cell_type": "code",
   "execution_count": 36,
   "source": [
    "train.task_container_id"
   ],
   "outputs": [
    {
     "output_type": "execute_result",
     "data": {
      "text/plain": [
       "0         1\n",
       "1         2\n",
       "2         0\n",
       "3         3\n",
       "4         4\n",
       "       ... \n",
       "9995    775\n",
       "9996    776\n",
       "9997    777\n",
       "9998    778\n",
       "9999    779\n",
       "Name: task_container_id, Length: 10000, dtype: int64"
      ]
     },
     "metadata": {},
     "execution_count": 36
    }
   ],
   "metadata": {}
  },
  {
   "cell_type": "code",
   "execution_count": 16,
   "source": [
    "#추가 분석 필요\r\n",
    "\r\n",
    "batch_lect = train.groupby([\"task_container_id\", \"answered_correctly\"]).size().unstack()\r\n",
    "print(batch_lect)\r\n",
    "\r\n",
    "batch_lect.columns = ['Lecture', 'Wrong', 'Right']\r\n",
    "batch_lect['Lecture'] = batch_lect['Lecture'].fillna(0)\r\n",
    "batch_lect = batch_lect.astype('Int64')\r\n",
    "batch_lect['Percent_correct'] = batch_lect.Right/(batch_lect.Wrong + batch_lect.Right)\r\n",
    "batch_lect['Percent_lecture'] = batch_lect.Lecture/(batch_lect.Lecture + batch_lect.Wrong + batch_lect.Right)\r\n",
    "batch_lect = batch_lect.sort_values(by = \"Percent_lecture\", ascending = False)\r\n",
    "\r\n",
    "print(f'The highest number of lectures watched within a single task_container_id is {batch_lect.Lecture.max()}.')"
   ],
   "outputs": [
    {
     "output_type": "stream",
     "name": "stdout",
     "text": [
      "answered_correctly  -1     0     1\n",
      "task_container_id                 \n",
      "0                  NaN   7.0  14.0\n",
      "1                  NaN  15.0   6.0\n",
      "2                  NaN  10.0  11.0\n",
      "3                  NaN   8.0  13.0\n",
      "4                  NaN  20.0  19.0\n",
      "...                 ..   ...   ...\n",
      "4885               NaN   1.0   NaN\n",
      "4886               NaN   NaN   1.0\n",
      "4887               NaN   NaN   1.0\n",
      "4888               NaN   NaN   1.0\n",
      "4889               NaN   NaN   1.0\n",
      "\n",
      "[4890 rows x 3 columns]\n",
      "The highest number of lectures watched within a single task_container_id is 2.\n"
     ]
    }
   ],
   "metadata": {
    "scrolled": true
   }
  },
  {
   "cell_type": "code",
   "execution_count": 35,
   "source": [
    "batch_lect = train.groupby([\"task_container_id\", \"answered_correctly\"]).size().unstack()\r\n",
    "batch_lect"
   ],
   "outputs": [
    {
     "output_type": "execute_result",
     "data": {
      "text/plain": [
       "answered_correctly  -1     0     1\n",
       "task_container_id                 \n",
       "0                  NaN   7.0  14.0\n",
       "1                  NaN  15.0   6.0\n",
       "2                  NaN  10.0  11.0\n",
       "3                  NaN   8.0  13.0\n",
       "4                  NaN  20.0  19.0\n",
       "...                 ..   ...   ...\n",
       "4885               NaN   1.0   NaN\n",
       "4886               NaN   NaN   1.0\n",
       "4887               NaN   NaN   1.0\n",
       "4888               NaN   NaN   1.0\n",
       "4889               NaN   NaN   1.0\n",
       "\n",
       "[4890 rows x 3 columns]"
      ],
      "text/html": [
       "<div>\n",
       "<style scoped>\n",
       "    .dataframe tbody tr th:only-of-type {\n",
       "        vertical-align: middle;\n",
       "    }\n",
       "\n",
       "    .dataframe tbody tr th {\n",
       "        vertical-align: top;\n",
       "    }\n",
       "\n",
       "    .dataframe thead th {\n",
       "        text-align: right;\n",
       "    }\n",
       "</style>\n",
       "<table border=\"1\" class=\"dataframe\">\n",
       "  <thead>\n",
       "    <tr style=\"text-align: right;\">\n",
       "      <th>answered_correctly</th>\n",
       "      <th>-1</th>\n",
       "      <th>0</th>\n",
       "      <th>1</th>\n",
       "    </tr>\n",
       "    <tr>\n",
       "      <th>task_container_id</th>\n",
       "      <th></th>\n",
       "      <th></th>\n",
       "      <th></th>\n",
       "    </tr>\n",
       "  </thead>\n",
       "  <tbody>\n",
       "    <tr>\n",
       "      <th>0</th>\n",
       "      <td>NaN</td>\n",
       "      <td>7.0</td>\n",
       "      <td>14.0</td>\n",
       "    </tr>\n",
       "    <tr>\n",
       "      <th>1</th>\n",
       "      <td>NaN</td>\n",
       "      <td>15.0</td>\n",
       "      <td>6.0</td>\n",
       "    </tr>\n",
       "    <tr>\n",
       "      <th>2</th>\n",
       "      <td>NaN</td>\n",
       "      <td>10.0</td>\n",
       "      <td>11.0</td>\n",
       "    </tr>\n",
       "    <tr>\n",
       "      <th>3</th>\n",
       "      <td>NaN</td>\n",
       "      <td>8.0</td>\n",
       "      <td>13.0</td>\n",
       "    </tr>\n",
       "    <tr>\n",
       "      <th>4</th>\n",
       "      <td>NaN</td>\n",
       "      <td>20.0</td>\n",
       "      <td>19.0</td>\n",
       "    </tr>\n",
       "    <tr>\n",
       "      <th>...</th>\n",
       "      <td>...</td>\n",
       "      <td>...</td>\n",
       "      <td>...</td>\n",
       "    </tr>\n",
       "    <tr>\n",
       "      <th>4885</th>\n",
       "      <td>NaN</td>\n",
       "      <td>1.0</td>\n",
       "      <td>NaN</td>\n",
       "    </tr>\n",
       "    <tr>\n",
       "      <th>4886</th>\n",
       "      <td>NaN</td>\n",
       "      <td>NaN</td>\n",
       "      <td>1.0</td>\n",
       "    </tr>\n",
       "    <tr>\n",
       "      <th>4887</th>\n",
       "      <td>NaN</td>\n",
       "      <td>NaN</td>\n",
       "      <td>1.0</td>\n",
       "    </tr>\n",
       "    <tr>\n",
       "      <th>4888</th>\n",
       "      <td>NaN</td>\n",
       "      <td>NaN</td>\n",
       "      <td>1.0</td>\n",
       "    </tr>\n",
       "    <tr>\n",
       "      <th>4889</th>\n",
       "      <td>NaN</td>\n",
       "      <td>NaN</td>\n",
       "      <td>1.0</td>\n",
       "    </tr>\n",
       "  </tbody>\n",
       "</table>\n",
       "<p>4890 rows × 3 columns</p>\n",
       "</div>"
      ]
     },
     "metadata": {},
     "execution_count": 35
    }
   ],
   "metadata": {}
  },
  {
   "cell_type": "code",
   "execution_count": 17,
   "source": [
    "#추가 분석 필요\r\n",
    "batch = batch_lect.iloc[:, 3:]\r\n",
    "\r\n",
    "fig = plt.figure(figsize=(12,6))\r\n",
    "x = batch.Percent_lecture\r\n",
    "y = batch.Percent_correct\r\n",
    "plt.scatter(x, y, marker='o')\r\n",
    "plt.title(\"Percent lectures in a task_container versus percent answered correctly\")\r\n",
    "plt.xticks(rotation=0)\r\n",
    "plt.xlabel(\"Percent lectures\")\r\n",
    "plt.ylabel(\"Percent answered correctly\")\r\n",
    "\r\n",
    "plt.show()"
   ],
   "outputs": [
    {
     "output_type": "error",
     "ename": "TypeError",
     "evalue": "float() argument must be a string or a number, not 'NAType'",
     "traceback": [
      "\u001b[1;31m---------------------------------------------------------------------------\u001b[0m",
      "\u001b[1;31mTypeError\u001b[0m                                 Traceback (most recent call last)",
      "\u001b[1;32m<ipython-input-17-e47ecf810b75>\u001b[0m in \u001b[0;36m<module>\u001b[1;34m\u001b[0m\n\u001b[0;32m      5\u001b[0m \u001b[0mx\u001b[0m \u001b[1;33m=\u001b[0m \u001b[0mbatch\u001b[0m\u001b[1;33m.\u001b[0m\u001b[0mPercent_lecture\u001b[0m\u001b[1;33m\u001b[0m\u001b[1;33m\u001b[0m\u001b[0m\n\u001b[0;32m      6\u001b[0m \u001b[0my\u001b[0m \u001b[1;33m=\u001b[0m \u001b[0mbatch\u001b[0m\u001b[1;33m.\u001b[0m\u001b[0mPercent_correct\u001b[0m\u001b[1;33m\u001b[0m\u001b[1;33m\u001b[0m\u001b[0m\n\u001b[1;32m----> 7\u001b[1;33m \u001b[0mplt\u001b[0m\u001b[1;33m.\u001b[0m\u001b[0mscatter\u001b[0m\u001b[1;33m(\u001b[0m\u001b[0mx\u001b[0m\u001b[1;33m,\u001b[0m \u001b[0my\u001b[0m\u001b[1;33m,\u001b[0m \u001b[0mmarker\u001b[0m\u001b[1;33m=\u001b[0m\u001b[1;34m'o'\u001b[0m\u001b[1;33m)\u001b[0m\u001b[1;33m\u001b[0m\u001b[1;33m\u001b[0m\u001b[0m\n\u001b[0m\u001b[0;32m      8\u001b[0m \u001b[0mplt\u001b[0m\u001b[1;33m.\u001b[0m\u001b[0mtitle\u001b[0m\u001b[1;33m(\u001b[0m\u001b[1;34m\"Percent lectures in a task_container versus percent answered correctly\"\u001b[0m\u001b[1;33m)\u001b[0m\u001b[1;33m\u001b[0m\u001b[1;33m\u001b[0m\u001b[0m\n\u001b[0;32m      9\u001b[0m \u001b[0mplt\u001b[0m\u001b[1;33m.\u001b[0m\u001b[0mxticks\u001b[0m\u001b[1;33m(\u001b[0m\u001b[0mrotation\u001b[0m\u001b[1;33m=\u001b[0m\u001b[1;36m0\u001b[0m\u001b[1;33m)\u001b[0m\u001b[1;33m\u001b[0m\u001b[1;33m\u001b[0m\u001b[0m\n",
      "\u001b[1;32m~\\anaconda3\\lib\\site-packages\\matplotlib\\pyplot.py\u001b[0m in \u001b[0;36mscatter\u001b[1;34m(x, y, s, c, marker, cmap, norm, vmin, vmax, alpha, linewidths, verts, edgecolors, plotnonfinite, data, **kwargs)\u001b[0m\n\u001b[0;32m   2888\u001b[0m         \u001b[0mverts\u001b[0m\u001b[1;33m=\u001b[0m\u001b[0mcbook\u001b[0m\u001b[1;33m.\u001b[0m\u001b[0mdeprecation\u001b[0m\u001b[1;33m.\u001b[0m\u001b[0m_deprecated_parameter\u001b[0m\u001b[1;33m,\u001b[0m\u001b[1;33m\u001b[0m\u001b[1;33m\u001b[0m\u001b[0m\n\u001b[0;32m   2889\u001b[0m         edgecolors=None, *, plotnonfinite=False, data=None, **kwargs):\n\u001b[1;32m-> 2890\u001b[1;33m     __ret = gca().scatter(\n\u001b[0m\u001b[0;32m   2891\u001b[0m         \u001b[0mx\u001b[0m\u001b[1;33m,\u001b[0m \u001b[0my\u001b[0m\u001b[1;33m,\u001b[0m \u001b[0ms\u001b[0m\u001b[1;33m=\u001b[0m\u001b[0ms\u001b[0m\u001b[1;33m,\u001b[0m \u001b[0mc\u001b[0m\u001b[1;33m=\u001b[0m\u001b[0mc\u001b[0m\u001b[1;33m,\u001b[0m \u001b[0mmarker\u001b[0m\u001b[1;33m=\u001b[0m\u001b[0mmarker\u001b[0m\u001b[1;33m,\u001b[0m \u001b[0mcmap\u001b[0m\u001b[1;33m=\u001b[0m\u001b[0mcmap\u001b[0m\u001b[1;33m,\u001b[0m \u001b[0mnorm\u001b[0m\u001b[1;33m=\u001b[0m\u001b[0mnorm\u001b[0m\u001b[1;33m,\u001b[0m\u001b[1;33m\u001b[0m\u001b[1;33m\u001b[0m\u001b[0m\n\u001b[0;32m   2892\u001b[0m         \u001b[0mvmin\u001b[0m\u001b[1;33m=\u001b[0m\u001b[0mvmin\u001b[0m\u001b[1;33m,\u001b[0m \u001b[0mvmax\u001b[0m\u001b[1;33m=\u001b[0m\u001b[0mvmax\u001b[0m\u001b[1;33m,\u001b[0m \u001b[0malpha\u001b[0m\u001b[1;33m=\u001b[0m\u001b[0malpha\u001b[0m\u001b[1;33m,\u001b[0m \u001b[0mlinewidths\u001b[0m\u001b[1;33m=\u001b[0m\u001b[0mlinewidths\u001b[0m\u001b[1;33m,\u001b[0m\u001b[1;33m\u001b[0m\u001b[1;33m\u001b[0m\u001b[0m\n",
      "\u001b[1;32m~\\anaconda3\\lib\\site-packages\\matplotlib\\__init__.py\u001b[0m in \u001b[0;36minner\u001b[1;34m(ax, data, *args, **kwargs)\u001b[0m\n\u001b[0;32m   1445\u001b[0m     \u001b[1;32mdef\u001b[0m \u001b[0minner\u001b[0m\u001b[1;33m(\u001b[0m\u001b[0max\u001b[0m\u001b[1;33m,\u001b[0m \u001b[1;33m*\u001b[0m\u001b[0margs\u001b[0m\u001b[1;33m,\u001b[0m \u001b[0mdata\u001b[0m\u001b[1;33m=\u001b[0m\u001b[1;32mNone\u001b[0m\u001b[1;33m,\u001b[0m \u001b[1;33m**\u001b[0m\u001b[0mkwargs\u001b[0m\u001b[1;33m)\u001b[0m\u001b[1;33m:\u001b[0m\u001b[1;33m\u001b[0m\u001b[1;33m\u001b[0m\u001b[0m\n\u001b[0;32m   1446\u001b[0m         \u001b[1;32mif\u001b[0m \u001b[0mdata\u001b[0m \u001b[1;32mis\u001b[0m \u001b[1;32mNone\u001b[0m\u001b[1;33m:\u001b[0m\u001b[1;33m\u001b[0m\u001b[1;33m\u001b[0m\u001b[0m\n\u001b[1;32m-> 1447\u001b[1;33m             \u001b[1;32mreturn\u001b[0m \u001b[0mfunc\u001b[0m\u001b[1;33m(\u001b[0m\u001b[0max\u001b[0m\u001b[1;33m,\u001b[0m \u001b[1;33m*\u001b[0m\u001b[0mmap\u001b[0m\u001b[1;33m(\u001b[0m\u001b[0msanitize_sequence\u001b[0m\u001b[1;33m,\u001b[0m \u001b[0margs\u001b[0m\u001b[1;33m)\u001b[0m\u001b[1;33m,\u001b[0m \u001b[1;33m**\u001b[0m\u001b[0mkwargs\u001b[0m\u001b[1;33m)\u001b[0m\u001b[1;33m\u001b[0m\u001b[1;33m\u001b[0m\u001b[0m\n\u001b[0m\u001b[0;32m   1448\u001b[0m \u001b[1;33m\u001b[0m\u001b[0m\n\u001b[0;32m   1449\u001b[0m         \u001b[0mbound\u001b[0m \u001b[1;33m=\u001b[0m \u001b[0mnew_sig\u001b[0m\u001b[1;33m.\u001b[0m\u001b[0mbind\u001b[0m\u001b[1;33m(\u001b[0m\u001b[0max\u001b[0m\u001b[1;33m,\u001b[0m \u001b[1;33m*\u001b[0m\u001b[0margs\u001b[0m\u001b[1;33m,\u001b[0m \u001b[1;33m**\u001b[0m\u001b[0mkwargs\u001b[0m\u001b[1;33m)\u001b[0m\u001b[1;33m\u001b[0m\u001b[1;33m\u001b[0m\u001b[0m\n",
      "\u001b[1;32m~\\anaconda3\\lib\\site-packages\\matplotlib\\cbook\\deprecation.py\u001b[0m in \u001b[0;36mwrapper\u001b[1;34m(*inner_args, **inner_kwargs)\u001b[0m\n\u001b[0;32m    409\u001b[0m                          \u001b[1;32melse\u001b[0m \u001b[0mdeprecation_addendum\u001b[0m\u001b[1;33m,\u001b[0m\u001b[1;33m\u001b[0m\u001b[1;33m\u001b[0m\u001b[0m\n\u001b[0;32m    410\u001b[0m                 **kwargs)\n\u001b[1;32m--> 411\u001b[1;33m         \u001b[1;32mreturn\u001b[0m \u001b[0mfunc\u001b[0m\u001b[1;33m(\u001b[0m\u001b[1;33m*\u001b[0m\u001b[0minner_args\u001b[0m\u001b[1;33m,\u001b[0m \u001b[1;33m**\u001b[0m\u001b[0minner_kwargs\u001b[0m\u001b[1;33m)\u001b[0m\u001b[1;33m\u001b[0m\u001b[1;33m\u001b[0m\u001b[0m\n\u001b[0m\u001b[0;32m    412\u001b[0m \u001b[1;33m\u001b[0m\u001b[0m\n\u001b[0;32m    413\u001b[0m     \u001b[1;32mreturn\u001b[0m \u001b[0mwrapper\u001b[0m\u001b[1;33m\u001b[0m\u001b[1;33m\u001b[0m\u001b[0m\n",
      "\u001b[1;32m~\\anaconda3\\lib\\site-packages\\matplotlib\\axes\\_axes.py\u001b[0m in \u001b[0;36mscatter\u001b[1;34m(self, x, y, s, c, marker, cmap, norm, vmin, vmax, alpha, linewidths, verts, edgecolors, plotnonfinite, **kwargs)\u001b[0m\n\u001b[0;32m   4486\u001b[0m         \u001b[0moffsets\u001b[0m \u001b[1;33m=\u001b[0m \u001b[0mnp\u001b[0m\u001b[1;33m.\u001b[0m\u001b[0mma\u001b[0m\u001b[1;33m.\u001b[0m\u001b[0mcolumn_stack\u001b[0m\u001b[1;33m(\u001b[0m\u001b[1;33m[\u001b[0m\u001b[0mx\u001b[0m\u001b[1;33m,\u001b[0m \u001b[0my\u001b[0m\u001b[1;33m]\u001b[0m\u001b[1;33m)\u001b[0m\u001b[1;33m\u001b[0m\u001b[1;33m\u001b[0m\u001b[0m\n\u001b[0;32m   4487\u001b[0m \u001b[1;33m\u001b[0m\u001b[0m\n\u001b[1;32m-> 4488\u001b[1;33m         collection = mcoll.PathCollection(\n\u001b[0m\u001b[0;32m   4489\u001b[0m                 \u001b[1;33m(\u001b[0m\u001b[0mpath\u001b[0m\u001b[1;33m,\u001b[0m\u001b[1;33m)\u001b[0m\u001b[1;33m,\u001b[0m \u001b[0mscales\u001b[0m\u001b[1;33m,\u001b[0m\u001b[1;33m\u001b[0m\u001b[1;33m\u001b[0m\u001b[0m\n\u001b[0;32m   4490\u001b[0m                 \u001b[0mfacecolors\u001b[0m\u001b[1;33m=\u001b[0m\u001b[0mcolors\u001b[0m\u001b[1;33m,\u001b[0m\u001b[1;33m\u001b[0m\u001b[1;33m\u001b[0m\u001b[0m\n",
      "\u001b[1;32m~\\anaconda3\\lib\\site-packages\\matplotlib\\collections.py\u001b[0m in \u001b[0;36m__init__\u001b[1;34m(self, paths, sizes, **kwargs)\u001b[0m\n\u001b[0;32m    951\u001b[0m         \"\"\"\n\u001b[0;32m    952\u001b[0m \u001b[1;33m\u001b[0m\u001b[0m\n\u001b[1;32m--> 953\u001b[1;33m         \u001b[0msuper\u001b[0m\u001b[1;33m(\u001b[0m\u001b[1;33m)\u001b[0m\u001b[1;33m.\u001b[0m\u001b[0m__init__\u001b[0m\u001b[1;33m(\u001b[0m\u001b[1;33m**\u001b[0m\u001b[0mkwargs\u001b[0m\u001b[1;33m)\u001b[0m\u001b[1;33m\u001b[0m\u001b[1;33m\u001b[0m\u001b[0m\n\u001b[0m\u001b[0;32m    954\u001b[0m         \u001b[0mself\u001b[0m\u001b[1;33m.\u001b[0m\u001b[0mset_paths\u001b[0m\u001b[1;33m(\u001b[0m\u001b[0mpaths\u001b[0m\u001b[1;33m)\u001b[0m\u001b[1;33m\u001b[0m\u001b[1;33m\u001b[0m\u001b[0m\n\u001b[0;32m    955\u001b[0m         \u001b[0mself\u001b[0m\u001b[1;33m.\u001b[0m\u001b[0mset_sizes\u001b[0m\u001b[1;33m(\u001b[0m\u001b[0msizes\u001b[0m\u001b[1;33m)\u001b[0m\u001b[1;33m\u001b[0m\u001b[1;33m\u001b[0m\u001b[0m\n",
      "\u001b[1;32m~\\anaconda3\\lib\\site-packages\\matplotlib\\cbook\\deprecation.py\u001b[0m in \u001b[0;36mwrapper\u001b[1;34m(*inner_args, **inner_kwargs)\u001b[0m\n\u001b[0;32m    409\u001b[0m                          \u001b[1;32melse\u001b[0m \u001b[0mdeprecation_addendum\u001b[0m\u001b[1;33m,\u001b[0m\u001b[1;33m\u001b[0m\u001b[1;33m\u001b[0m\u001b[0m\n\u001b[0;32m    410\u001b[0m                 **kwargs)\n\u001b[1;32m--> 411\u001b[1;33m         \u001b[1;32mreturn\u001b[0m \u001b[0mfunc\u001b[0m\u001b[1;33m(\u001b[0m\u001b[1;33m*\u001b[0m\u001b[0minner_args\u001b[0m\u001b[1;33m,\u001b[0m \u001b[1;33m**\u001b[0m\u001b[0minner_kwargs\u001b[0m\u001b[1;33m)\u001b[0m\u001b[1;33m\u001b[0m\u001b[1;33m\u001b[0m\u001b[0m\n\u001b[0m\u001b[0;32m    412\u001b[0m \u001b[1;33m\u001b[0m\u001b[0m\n\u001b[0;32m    413\u001b[0m     \u001b[1;32mreturn\u001b[0m \u001b[0mwrapper\u001b[0m\u001b[1;33m\u001b[0m\u001b[1;33m\u001b[0m\u001b[0m\n",
      "\u001b[1;32m~\\anaconda3\\lib\\site-packages\\matplotlib\\collections.py\u001b[0m in \u001b[0;36m__init__\u001b[1;34m(self, edgecolors, facecolors, linewidths, linestyles, capstyle, joinstyle, antialiaseds, offsets, transOffset, norm, cmap, pickradius, hatch, urls, offset_position, zorder, **kwargs)\u001b[0m\n\u001b[0;32m    200\u001b[0m         \u001b[0mself\u001b[0m\u001b[1;33m.\u001b[0m\u001b[0m_uniform_offsets\u001b[0m \u001b[1;33m=\u001b[0m \u001b[1;32mNone\u001b[0m\u001b[1;33m\u001b[0m\u001b[1;33m\u001b[0m\u001b[0m\n\u001b[0;32m    201\u001b[0m         \u001b[1;32mif\u001b[0m \u001b[0moffsets\u001b[0m \u001b[1;32mis\u001b[0m \u001b[1;32mnot\u001b[0m \u001b[1;32mNone\u001b[0m\u001b[1;33m:\u001b[0m\u001b[1;33m\u001b[0m\u001b[1;33m\u001b[0m\u001b[0m\n\u001b[1;32m--> 202\u001b[1;33m             \u001b[0moffsets\u001b[0m \u001b[1;33m=\u001b[0m \u001b[0mnp\u001b[0m\u001b[1;33m.\u001b[0m\u001b[0masanyarray\u001b[0m\u001b[1;33m(\u001b[0m\u001b[0moffsets\u001b[0m\u001b[1;33m,\u001b[0m \u001b[0mfloat\u001b[0m\u001b[1;33m)\u001b[0m\u001b[1;33m\u001b[0m\u001b[1;33m\u001b[0m\u001b[0m\n\u001b[0m\u001b[0;32m    203\u001b[0m             \u001b[1;31m# Broadcast (2,) -> (1, 2) but nothing else.\u001b[0m\u001b[1;33m\u001b[0m\u001b[1;33m\u001b[0m\u001b[1;33m\u001b[0m\u001b[0m\n\u001b[0;32m    204\u001b[0m             \u001b[1;32mif\u001b[0m \u001b[0moffsets\u001b[0m\u001b[1;33m.\u001b[0m\u001b[0mshape\u001b[0m \u001b[1;33m==\u001b[0m \u001b[1;33m(\u001b[0m\u001b[1;36m2\u001b[0m\u001b[1;33m,\u001b[0m\u001b[1;33m)\u001b[0m\u001b[1;33m:\u001b[0m\u001b[1;33m\u001b[0m\u001b[1;33m\u001b[0m\u001b[0m\n",
      "\u001b[1;32m~\\anaconda3\\lib\\site-packages\\numpy\\core\\_asarray.py\u001b[0m in \u001b[0;36masanyarray\u001b[1;34m(a, dtype, order, like)\u001b[0m\n\u001b[0;32m    169\u001b[0m         \u001b[1;32mreturn\u001b[0m \u001b[0m_asanyarray_with_like\u001b[0m\u001b[1;33m(\u001b[0m\u001b[0ma\u001b[0m\u001b[1;33m,\u001b[0m \u001b[0mdtype\u001b[0m\u001b[1;33m=\u001b[0m\u001b[0mdtype\u001b[0m\u001b[1;33m,\u001b[0m \u001b[0morder\u001b[0m\u001b[1;33m=\u001b[0m\u001b[0morder\u001b[0m\u001b[1;33m,\u001b[0m \u001b[0mlike\u001b[0m\u001b[1;33m=\u001b[0m\u001b[0mlike\u001b[0m\u001b[1;33m)\u001b[0m\u001b[1;33m\u001b[0m\u001b[1;33m\u001b[0m\u001b[0m\n\u001b[0;32m    170\u001b[0m \u001b[1;33m\u001b[0m\u001b[0m\n\u001b[1;32m--> 171\u001b[1;33m     \u001b[1;32mreturn\u001b[0m \u001b[0marray\u001b[0m\u001b[1;33m(\u001b[0m\u001b[0ma\u001b[0m\u001b[1;33m,\u001b[0m \u001b[0mdtype\u001b[0m\u001b[1;33m,\u001b[0m \u001b[0mcopy\u001b[0m\u001b[1;33m=\u001b[0m\u001b[1;32mFalse\u001b[0m\u001b[1;33m,\u001b[0m \u001b[0morder\u001b[0m\u001b[1;33m=\u001b[0m\u001b[0morder\u001b[0m\u001b[1;33m,\u001b[0m \u001b[0msubok\u001b[0m\u001b[1;33m=\u001b[0m\u001b[1;32mTrue\u001b[0m\u001b[1;33m)\u001b[0m\u001b[1;33m\u001b[0m\u001b[1;33m\u001b[0m\u001b[0m\n\u001b[0m\u001b[0;32m    172\u001b[0m \u001b[1;33m\u001b[0m\u001b[0m\n\u001b[0;32m    173\u001b[0m \u001b[1;33m\u001b[0m\u001b[0m\n",
      "\u001b[1;31mTypeError\u001b[0m: float() argument must be a string or a number, not 'NAType'"
     ]
    },
    {
     "output_type": "display_data",
     "data": {
      "text/plain": [
       "<Figure size 864x432 with 1 Axes>"
      ],
      "image/png": "[encoded data removed]"
     },
     "metadata": {}
    }
   ],
   "metadata": {}
  },
  {
   "cell_type": "code",
   "execution_count": 10,
   "source": [
    "batch_lect['Has_lecture'] = np.where(batch_lect.Lecture == 0, False, True)\r\n",
    "print(f'We have {batch_lect[batch_lect.Has_lecture == True].shape[0]} task_container_ids with lectures and {batch_lect[batch_lect.Has_lecture == False].shape[0]} task_container_ids without lectures.')"
   ],
   "outputs": [
    {
     "output_type": "stream",
     "name": "stdout",
     "text": [
      "We have 5979 task_container_ids with lectures and 4021 task_container_ids without lectures.\n"
     ]
    }
   ],
   "metadata": {}
  },
  {
   "cell_type": "code",
   "execution_count": 11,
   "source": [
    "batch_lect = batch_lect[['Wrong', 'Right', 'Has_lecture']]\r\n",
    "batch_lect = batch_lect.groupby(\"Has_lecture\").sum()\r\n",
    "batch_lect['Percent_correct'] = batch_lect.Right/(batch_lect.Wrong + batch_lect.Right)\r\n",
    "batch_lect = batch_lect[['Percent_correct']]\r\n",
    "batch_lect"
   ],
   "outputs": [
    {
     "output_type": "execute_result",
     "data": {
      "text/plain": [
       "             Percent_correct\n",
       "Has_lecture                 \n",
       "False               0.735944\n",
       "True                0.656856"
      ],
      "text/html": [
       "<div>\n",
       "<style scoped>\n",
       "    .dataframe tbody tr th:only-of-type {\n",
       "        vertical-align: middle;\n",
       "    }\n",
       "\n",
       "    .dataframe tbody tr th {\n",
       "        vertical-align: top;\n",
       "    }\n",
       "\n",
       "    .dataframe thead th {\n",
       "        text-align: right;\n",
       "    }\n",
       "</style>\n",
       "<table border=\"1\" class=\"dataframe\">\n",
       "  <thead>\n",
       "    <tr style=\"text-align: right;\">\n",
       "      <th></th>\n",
       "      <th>Percent_correct</th>\n",
       "    </tr>\n",
       "    <tr>\n",
       "      <th>Has_lecture</th>\n",
       "      <th></th>\n",
       "    </tr>\n",
       "  </thead>\n",
       "  <tbody>\n",
       "    <tr>\n",
       "      <th>False</th>\n",
       "      <td>0.735944</td>\n",
       "    </tr>\n",
       "    <tr>\n",
       "      <th>True</th>\n",
       "      <td>0.656856</td>\n",
       "    </tr>\n",
       "  </tbody>\n",
       "</table>\n",
       "</div>"
      ]
     },
     "metadata": {},
     "execution_count": 11
    }
   ],
   "metadata": {}
  },
  {
   "cell_type": "code",
   "execution_count": null,
   "source": [],
   "outputs": [],
   "metadata": {}
  }
 ],
 "metadata": {
  "kernelspec": {
   "name": "python3",
   "display_name": "Python 3.8.8 64-bit ('base': conda)"
  },
  "language_info": {
   "codemirror_mode": {
    "name": "ipython",
    "version": 3
   },
   "file_extension": ".py",
   "mimetype": "text/x-python",
   "name": "python",
   "nbconvert_exporter": "python",
   "pygments_lexer": "ipython3",
   "version": "3.8.8"
  },
  "interpreter": {
   "hash": "875e0117d8ea5b779eeabe865ab4109ca4e07a1748b183c60c8bf81061fa9044"
  }
 },
 "nbformat": 4,
 "nbformat_minor": 5
}