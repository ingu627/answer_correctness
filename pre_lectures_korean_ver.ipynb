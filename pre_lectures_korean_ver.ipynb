{
 "cells": [
  {
   "cell_type": "code",
   "execution_count": 1,
   "source": [
    "import numpy as np\r\n",
    "import pandas as pd\r\n",
    "import matplotlib.pyplot as plt\r\n",
    "%matplotlib inline\r\n",
    "import matplotlib.style as style\r\n",
    "style.use('fivethirtyeight')\r\n",
    "import seaborn as sns\r\n",
    "import os\r\n",
    "from matplotlib.ticker import FuncFormatter\r\n",
    "\r\n",
    "import os\r\n",
    "for dirname, _, filenames in os.walk('/kaggle/input/riiid-test-answer-prediction'):\r\n",
    "    for filename in filenames:\r\n",
    "        print(os.path.join(dirname, filename))"
   ],
   "outputs": [],
   "metadata": {}
  },
  {
   "cell_type": "code",
   "execution_count": 2,
   "source": [
    "# 한글 깨짐 방지 코드\r\n",
    "import matplotlib\r\n",
    "from matplotlib import font_manager, rc\r\n",
    "import platform\r\n",
    "if platform.system()==\"Windows\":\r\n",
    "    font_name=font_manager.FontProperties(fname=\"c:/Windows/Fonts/malgun.ttf\").get_name()\r\n",
    "    rc('font', family=font_name)\r\n",
    "matplotlib.rcParams['axes.unicode_minus']=False\r\n",
    "\r\n",
    "import warnings\r\n",
    "warnings.filterwarnings(\"ignore\")"
   ],
   "outputs": [],
   "metadata": {}
  },
  {
   "cell_type": "code",
   "execution_count": 3,
   "source": [
    "train = pd.read_csv('F:/data/riiid-test-answer-prediction/train.csv', nrows=10**7)\r\n",
    "test = pd.read_csv(\"F:/data/riiid-test-answer-prediction/example_test.csv\")\r\n",
    "lectures = pd.read_csv(\"F:/data/riiid-test-answer-prediction/lectures.csv\")\r\n",
    "questions = pd.read_csv(\"F:/data/riiid-test-answer-prediction/questions.csv\")"
   ],
   "outputs": [],
   "metadata": {}
  },
  {
   "cell_type": "code",
   "execution_count": 4,
   "source": [
    "# train = pd.read_csv('riiid-test-answer-prediction/train.csv', nrows=10**4)\r\n",
    "# test = pd.read_csv(\"riiid-test-answer-prediction/example_test.csv\")\r\n",
    "# lectures = pd.read_csv(\"riiid-test-answer-prediction/lectures.csv\")\r\n",
    "# questions = pd.read_csv(\"riiid-test-answer-prediction/questions.csv\")"
   ],
   "outputs": [],
   "metadata": {}
  },
  {
   "cell_type": "code",
   "execution_count": 5,
   "source": [
    "# train = pd.read_csv('D:/Project_dataset/Pr_riid//train.csv', nrows=10**4)\r\n",
    "# test = pd.read_csv(\"D:/Project_dataset/Pr_riid/example_test.csv\")\r\n",
    "# lectures = pd.read_csv(\"D:/Project_dataset/Pr_riid/lectures.csv\")\r\n",
    "# questions = pd.read_csv(\"D:/Project_dataset/Pr_riid/questions.csv\")"
   ],
   "outputs": [],
   "metadata": {}
  },
  {
   "cell_type": "code",
   "execution_count": 6,
   "source": [
    "'''\r\n",
    "lecture_id: foreign key for the train/test content_id column, when the content type is lecture (1).\r\n",
    "part: top level category code for the lecture.\r\n",
    "tag: one tag codes for the lecture. The meaning of the tags will not be provided, but these codes are sufficient for clustering the lectures together.\r\n",
    "type_of: brief description of the core purpose of the lecture\r\n",
    "'''"
   ],
   "outputs": [
    {
     "output_type": "execute_result",
     "data": {
      "text/plain": [
       "'\\nlecture_id: foreign key for the train/test content_id column, when the content type is lecture (1).\\npart: top level category code for the lecture.\\ntag: one tag codes for the lecture. The meaning of the tags will not be provided, but these codes are sufficient for clustering the lectures together.\\ntype_of: brief description of the core purpose of the lecture\\n'"
      ]
     },
     "metadata": {},
     "execution_count": 6
    }
   ],
   "metadata": {}
  },
  {
   "cell_type": "code",
   "execution_count": 7,
   "source": [
    "# lecture_id: foreign key for the train/test content_id column, when the content type is lecture (1).\r\n",
    "# 각각의 강의번호 (train/test에 있는 content_id의 외래키)\r\n",
    "\r\n",
    "lectures.lecture_id.nunique() # 418개의 강의"
   ],
   "outputs": [
    {
     "output_type": "execute_result",
     "data": {
      "text/plain": [
       "418"
      ]
     },
     "metadata": {},
     "execution_count": 7
    }
   ],
   "metadata": {}
  },
  {
   "cell_type": "code",
   "execution_count": 8,
   "source": [
    "# part: top level category code for the lecture.\r\n",
    "#part : 단원\r\n",
    "lectures.part.unique()\r\n"
   ],
   "outputs": [
    {
     "output_type": "execute_result",
     "data": {
      "text/plain": [
       "array([5, 1, 6, 2, 7, 3, 4], dtype=int64)"
      ]
     },
     "metadata": {},
     "execution_count": 8
    }
   ],
   "metadata": {}
  },
  {
   "cell_type": "code",
   "execution_count": 9,
   "source": [
    "lectures.part.value_counts() "
   ],
   "outputs": [
    {
     "output_type": "execute_result",
     "data": {
      "text/plain": [
       "5    143\n",
       "6     83\n",
       "2     56\n",
       "1     54\n",
       "7     32\n",
       "4     31\n",
       "3     19\n",
       "Name: part, dtype: int64"
      ]
     },
     "metadata": {},
     "execution_count": 9
    }
   ],
   "metadata": {
    "scrolled": true
   }
  },
  {
   "cell_type": "code",
   "execution_count": 10,
   "source": [
    "lectures.tag"
   ],
   "outputs": [
    {
     "output_type": "execute_result",
     "data": {
      "text/plain": [
       "0      159\n",
       "1       70\n",
       "2       45\n",
       "3       79\n",
       "4      156\n",
       "      ... \n",
       "413      8\n",
       "414    113\n",
       "415     24\n",
       "416    142\n",
       "417     82\n",
       "Name: tag, Length: 418, dtype: int64"
      ]
     },
     "metadata": {},
     "execution_count": 10
    }
   ],
   "metadata": {
    "scrolled": true
   }
  },
  {
   "cell_type": "code",
   "execution_count": 11,
   "source": [
    "# tag: one tag codes for the lecture. The meaning of the tags will not be provided, \r\n",
    "#      but these codes are sufficient for clustering the lectures together.\r\n",
    "# 강의를 위한 코드 넘버링\r\n",
    "\r\n",
    "lectures[lectures.tag==40]\r\n"
   ],
   "outputs": [
    {
     "output_type": "execute_result",
     "data": {
      "text/plain": [
       "     lecture_id  tag  part           type_of\n",
       "202       16736   40     1           concept\n",
       "215       17649   40     1  solving question"
      ],
      "text/html": [
       "<div>\n",
       "<style scoped>\n",
       "    .dataframe tbody tr th:only-of-type {\n",
       "        vertical-align: middle;\n",
       "    }\n",
       "\n",
       "    .dataframe tbody tr th {\n",
       "        vertical-align: top;\n",
       "    }\n",
       "\n",
       "    .dataframe thead th {\n",
       "        text-align: right;\n",
       "    }\n",
       "</style>\n",
       "<table border=\"1\" class=\"dataframe\">\n",
       "  <thead>\n",
       "    <tr style=\"text-align: right;\">\n",
       "      <th></th>\n",
       "      <th>lecture_id</th>\n",
       "      <th>tag</th>\n",
       "      <th>part</th>\n",
       "      <th>type_of</th>\n",
       "    </tr>\n",
       "  </thead>\n",
       "  <tbody>\n",
       "    <tr>\n",
       "      <th>202</th>\n",
       "      <td>16736</td>\n",
       "      <td>40</td>\n",
       "      <td>1</td>\n",
       "      <td>concept</td>\n",
       "    </tr>\n",
       "    <tr>\n",
       "      <th>215</th>\n",
       "      <td>17649</td>\n",
       "      <td>40</td>\n",
       "      <td>1</td>\n",
       "      <td>solving question</td>\n",
       "    </tr>\n",
       "  </tbody>\n",
       "</table>\n",
       "</div>"
      ]
     },
     "metadata": {},
     "execution_count": 11
    }
   ],
   "metadata": {}
  },
  {
   "cell_type": "code",
   "execution_count": 12,
   "source": [
    "# type_of: brief description of the core purpose of the lecture\r\n",
    "\r\n",
    "lectures.type_of.value_counts()\r\n"
   ],
   "outputs": [
    {
     "output_type": "execute_result",
     "data": {
      "text/plain": [
       "concept             222\n",
       "solving question    186\n",
       "intention             7\n",
       "starter               3\n",
       "Name: type_of, dtype: int64"
      ]
     },
     "metadata": {},
     "execution_count": 12
    }
   ],
   "metadata": {}
  },
  {
   "cell_type": "code",
   "execution_count": 13,
   "source": [
    "lectures.head()"
   ],
   "outputs": [
    {
     "output_type": "execute_result",
     "data": {
      "text/plain": [
       "   lecture_id  tag  part           type_of\n",
       "0          89  159     5           concept\n",
       "1         100   70     1           concept\n",
       "2         185   45     6           concept\n",
       "3         192   79     5  solving question\n",
       "4         317  156     5  solving question"
      ],
      "text/html": [
       "<div>\n",
       "<style scoped>\n",
       "    .dataframe tbody tr th:only-of-type {\n",
       "        vertical-align: middle;\n",
       "    }\n",
       "\n",
       "    .dataframe tbody tr th {\n",
       "        vertical-align: top;\n",
       "    }\n",
       "\n",
       "    .dataframe thead th {\n",
       "        text-align: right;\n",
       "    }\n",
       "</style>\n",
       "<table border=\"1\" class=\"dataframe\">\n",
       "  <thead>\n",
       "    <tr style=\"text-align: right;\">\n",
       "      <th></th>\n",
       "      <th>lecture_id</th>\n",
       "      <th>tag</th>\n",
       "      <th>part</th>\n",
       "      <th>type_of</th>\n",
       "    </tr>\n",
       "  </thead>\n",
       "  <tbody>\n",
       "    <tr>\n",
       "      <th>0</th>\n",
       "      <td>89</td>\n",
       "      <td>159</td>\n",
       "      <td>5</td>\n",
       "      <td>concept</td>\n",
       "    </tr>\n",
       "    <tr>\n",
       "      <th>1</th>\n",
       "      <td>100</td>\n",
       "      <td>70</td>\n",
       "      <td>1</td>\n",
       "      <td>concept</td>\n",
       "    </tr>\n",
       "    <tr>\n",
       "      <th>2</th>\n",
       "      <td>185</td>\n",
       "      <td>45</td>\n",
       "      <td>6</td>\n",
       "      <td>concept</td>\n",
       "    </tr>\n",
       "    <tr>\n",
       "      <th>3</th>\n",
       "      <td>192</td>\n",
       "      <td>79</td>\n",
       "      <td>5</td>\n",
       "      <td>solving question</td>\n",
       "    </tr>\n",
       "    <tr>\n",
       "      <th>4</th>\n",
       "      <td>317</td>\n",
       "      <td>156</td>\n",
       "      <td>5</td>\n",
       "      <td>solving question</td>\n",
       "    </tr>\n",
       "  </tbody>\n",
       "</table>\n",
       "</div>"
      ]
     },
     "metadata": {},
     "execution_count": 13
    }
   ],
   "metadata": {}
  },
  {
   "cell_type": "code",
   "execution_count": 14,
   "source": [
    "print(f'There are {lectures.shape[0]} lecture_ids.')"
   ],
   "outputs": [
    {
     "output_type": "stream",
     "name": "stdout",
     "text": [
      "There are 418 lecture_ids.\n"
     ]
    }
   ],
   "metadata": {}
  },
  {
   "cell_type": "code",
   "execution_count": 21,
   "source": [
    "font1 = {'weight': 'bold',\r\n",
    "         'size': 14\r\n",
    "         }\r\n",
    "\r\n",
    "title_font = {\r\n",
    "    'fontsize': 16,\r\n",
    "    'fontweight': 'bold'\r\n",
    "}"
   ],
   "outputs": [],
   "metadata": {}
  },
  {
   "cell_type": "code",
   "execution_count": 23,
   "source": [
    "#강의 종류와 갯수 확인 (concept:222  solving question:86  intention:7  starter:3 )\r\n",
    "\r\n",
    "lect_type_of = lectures.type_of.value_counts()\r\n",
    "\r\n",
    "fig = plt.figure(figsize=(12,6))\r\n",
    "plt.bar(lect_type_of.index, lect_type_of.values, color='#9467bd')\r\n",
    "for i, v in zip(lect_type_of.index, lect_type_of.values):\r\n",
    "    plt.text(i, v, v, color='black', fontweight='bold', fontsize=14, va='bottom', ha='center')\r\n",
    "plt.title(\"유형별 강의 갯수\", fontdict=title_font, pad=20) #강의 종류와 강의 갯수\r\n",
    "plt.xlabel(\"강의 유형\", labelpad=15, fontdict=font1) #종류\r\n",
    "plt.ylabel(\"강의 갯수\", labelpad=15, fontdict=font1) #이거 삭제해도될듯 # 수\r\n",
    "plt.xticks(rotation=0)\r\n",
    "plt.tick_params(axis='both', direction='in', length=3, pad=6, labelsize=14)\r\n",
    "\r\n",
    "plt.show()"
   ],
   "outputs": [
    {
     "output_type": "display_data",
     "data": {
      "text/plain": [
       "<Figure size 864x432 with 1 Axes>"
      ],
      "image/svg+xml": "<?xml version=\"1.0\" encoding=\"utf-8\" standalone=\"no\"?>\r\n<!DOCTYPE svg PUBLIC \"-//W3C//DTD SVG 1.1//EN\"\r\n  \"http://www.w3.org/Graphics/SVG/1.1/DTD/svg11.dtd\">\r\n<!-- Created with matplotlib (https://matplotlib.org/) -->\r\n<svg height=\"445.419375pt\" version=\"1.1\" viewBox=\"0 0 824.151562 445.419375\" width=\"824.151562pt\" xmlns=\"http://www.w3.org/2000/svg\" xmlns:xlink=\"http://www.w3.org/1999/xlink\">\r\n <metadata>\r\n  <rdf:RDF xmlns:cc=\"http://creativecommons.org/ns#\" xmlns:dc=\"http://purl.org/dc/elements/1.1/\" xmlns:rdf=\"http://www.w3.org/1999/02/22-rdf-syntax-ns#\">\r\n   <cc:Work>\r\n    <dc:type rdf:resource=\"http://purl.org/dc/dcmitype/StillImage\"/>\r\n    <dc:date>2021-08-19T09:53:40.543845</dc:date>\r\n    <dc:format>image/svg+xml</dc:format>\r\n    <dc:creator>\r\n     <cc:Agent>\r\n      <dc:title>Matplotlib v3.3.4, https://matplotlib.org/</dc:title>\r\n     </cc:Agent>\r\n    </dc:creator>\r\n   </cc:Work>\r\n  </rdf:RDF>\r\n </metadata>\r\n <defs>\r\n  <style type=\"text/css\">*{stroke-linecap:butt;stroke-linejoin:round;}</style>\r\n </defs>\r\n <g id=\"figure_1\">\r\n  <g id=\"patch_1\">\r\n   <path d=\"M 0 445.419375 \r\nL 824.151562 445.419375 \r\nL 824.151562 0 \r\nL 0 0 \r\nz\r\n\" style=\"fill:#f0f0f0;\"/>\r\n  </g>\r\n  <g id=\"axes_1\">\r\n   <g id=\"patch_2\">\r\n    <path d=\"M 65.271563 389.2675 \r\nL 816.951562 389.2675 \r\nL 816.951562 39.3475 \r\nL 65.271563 39.3475 \r\nz\r\n\" style=\"fill:#f0f0f0;\"/>\r\n   </g>\r\n   <g id=\"matplotlib.axis_1\">\r\n    <g id=\"xtick_1\">\r\n     <g id=\"line2d_1\">\r\n      <path clip-path=\"url(#p68f80ae8cb)\" d=\"M 171.369936 389.2675 \r\nL 171.369936 39.3475 \r\n\" style=\"fill:none;stroke:#cbcbcb;\"/>\r\n     </g>\r\n     <g id=\"line2d_2\">\r\n      <defs>\r\n       <path d=\"M 0 0 \r\nL 0 -3 \r\n\" id=\"m751674783b\" style=\"stroke:#000000;stroke-width:0.8;\"/>\r\n      </defs>\r\n      <g>\r\n       <use style=\"stroke:#000000;stroke-width:0.8;\" x=\"171.369936\" xlink:href=\"#m751674783b\" y=\"389.2675\"/>\r\n      </g>\r\n     </g>\r\n     <g id=\"text_1\">\r\n      <!-- concept -->\r\n      <g transform=\"translate(146.149154 405.896563)scale(0.14 -0.14)\">\r\n       <defs>\r\n        <path d=\"M 43.171875 2.390625 \r\nQ 37.109375 -1.21875 29.25 -1.21875 \r\nQ 18.5 -1.21875 11.71875 5.8125 \r\nQ 4.9375 12.84375 4.9375 24.46875 \r\nQ 4.9375 37.203125 12.140625 44.84375 \r\nQ 19.34375 52.484375 31.390625 52.484375 \r\nQ 38.03125 52.484375 43.21875 50 \r\nL 43.21875 41.890625 \r\nQ 37.453125 45.953125 30.953125 45.953125 \r\nQ 23.09375 45.953125 17.9375 40.265625 \r\nQ 12.796875 34.578125 12.796875 25.140625 \r\nQ 12.796875 16.15625 17.5 10.765625 \r\nQ 22.21875 5.375 30.421875 5.375 \r\nQ 37.203125 5.375 43.171875 9.859375 \r\nz\r\n\" id=\"MalgunGothic-99\"/>\r\n        <path d=\"M 4.9375 25 \r\nQ 4.9375 37.796875 11.890625 45.140625 \r\nQ 18.84375 52.484375 30.90625 52.484375 \r\nQ 42.140625 52.484375 48.609375 45.421875 \r\nQ 55.078125 38.375 55.078125 25.78125 \r\nQ 55.078125 13.578125 48.09375 6.171875 \r\nQ 41.109375 -1.21875 29.6875 -1.21875 \r\nQ 18.5 -1.21875 11.71875 6 \r\nQ 4.9375 13.234375 4.9375 25 \r\nz\r\nM 12.796875 25.34375 \r\nQ 12.796875 16.265625 17.546875 10.8125 \r\nQ 22.3125 5.375 30.21875 5.375 \r\nQ 38.421875 5.375 42.796875 10.625 \r\nQ 47.171875 15.875 47.171875 25.53125 \r\nQ 47.171875 35.25 42.765625 40.59375 \r\nQ 38.375 45.953125 30.21875 45.953125 \r\nQ 22.265625 45.953125 17.53125 40.421875 \r\nQ 12.796875 34.90625 12.796875 25.34375 \r\nz\r\n\" id=\"MalgunGothic-111\"/>\r\n        <path d=\"M 50.59375 0 \r\nL 42.828125 0 \r\nL 42.828125 29.296875 \r\nQ 42.828125 45.953125 30.671875 45.953125 \r\nQ 24.421875 45.953125 20.28125 41.234375 \r\nQ 16.15625 36.53125 16.15625 29.25 \r\nL 16.15625 0 \r\nL 8.40625 0 \r\nL 8.40625 51.3125 \r\nL 16.15625 51.3125 \r\nL 16.15625 42.71875 \r\nL 16.359375 42.71875 \r\nQ 22.125 52.484375 33.203125 52.484375 \r\nQ 41.65625 52.484375 46.125 47.0625 \r\nQ 50.59375 41.65625 50.59375 31.34375 \r\nz\r\n\" id=\"MalgunGothic-110\"/>\r\n        <path d=\"M 49.3125 23.734375 \r\nL 12.9375 23.734375 \r\nQ 13.1875 14.84375 17.703125 10.125 \r\nQ 22.21875 5.421875 29.828125 5.421875 \r\nQ 38.625 5.421875 45.84375 11.234375 \r\nL 45.84375 3.8125 \r\nQ 38.96875 -1.21875 28.03125 -1.21875 \r\nQ 17.1875 -1.21875 11.0625 5.875 \r\nQ 4.9375 12.984375 4.9375 25.53125 \r\nQ 4.9375 37.203125 11.671875 44.84375 \r\nQ 18.40625 52.484375 28.375 52.484375 \r\nQ 38.328125 52.484375 43.8125 45.96875 \r\nQ 49.3125 39.453125 49.3125 27.9375 \r\nz\r\nM 41.3125 30.5625 \r\nQ 41.3125 37.75 37.859375 41.796875 \r\nQ 34.421875 45.84375 28.265625 45.84375 \r\nQ 22.46875 45.84375 18.265625 41.671875 \r\nQ 14.0625 37.5 13.03125 30.5625 \r\nz\r\n\" id=\"MalgunGothic-101\"/>\r\n        <path d=\"M 16.15625 7.515625 \r\nL 16.15625 -23.640625 \r\nL 8.40625 -23.640625 \r\nL 8.40625 51.3125 \r\nL 16.15625 51.3125 \r\nL 16.15625 42.234375 \r\nL 16.359375 42.234375 \r\nQ 22.46875 52.484375 34.125 52.484375 \r\nQ 43.890625 52.484375 49.546875 45.625 \r\nQ 55.21875 38.765625 55.21875 27.15625 \r\nQ 55.21875 14.15625 48.84375 6.46875 \r\nQ 42.484375 -1.21875 31.78125 -1.21875 \r\nQ 21.78125 -1.21875 16.359375 7.515625 \r\nz\r\nM 16.15625 20.796875 \r\nQ 16.15625 14.40625 20.421875 9.890625 \r\nQ 24.703125 5.375 31.109375 5.375 \r\nQ 38.671875 5.375 42.984375 11.1875 \r\nQ 47.3125 17 47.3125 27.390625 \r\nQ 47.3125 35.9375 43.234375 40.9375 \r\nQ 39.15625 45.953125 32.375 45.953125 \r\nQ 25.296875 45.953125 20.71875 40.921875 \r\nQ 16.15625 35.890625 16.15625 28.21875 \r\nz\r\n\" id=\"MalgunGothic-112\"/>\r\n        <path d=\"M 31.734375 0.484375 \r\nQ 28.8125 -1.125 24.265625 -1.125 \r\nQ 11.03125 -1.125 11.03125 13.765625 \r\nL 11.03125 44.625 \r\nL 2.15625 44.625 \r\nL 2.15625 51.3125 \r\nL 11.03125 51.3125 \r\nL 11.03125 63.921875 \r\nL 18.75 66.40625 \r\nL 18.75 51.3125 \r\nL 31.734375 51.3125 \r\nL 31.734375 44.625 \r\nL 18.75 44.625 \r\nL 18.75 15.1875 \r\nQ 18.75 9.765625 20.546875 7.609375 \r\nQ 22.359375 5.46875 26.421875 5.46875 \r\nQ 29.5 5.46875 31.734375 7.171875 \r\nz\r\n\" id=\"MalgunGothic-116\"/>\r\n       </defs>\r\n       <use xlink:href=\"#MalgunGothic-99\"/>\r\n       <use x=\"47.265625\" xlink:href=\"#MalgunGothic-111\"/>\r\n       <use x=\"107.177734\" xlink:href=\"#MalgunGothic-110\"/>\r\n       <use x=\"164.990234\" xlink:href=\"#MalgunGothic-99\"/>\r\n       <use x=\"212.255859\" xlink:href=\"#MalgunGothic-101\"/>\r\n       <use x=\"265.771484\" xlink:href=\"#MalgunGothic-112\"/>\r\n       <use x=\"325.830078\" xlink:href=\"#MalgunGothic-116\"/>\r\n      </g>\r\n     </g>\r\n    </g>\r\n    <g id=\"xtick_2\">\r\n     <g id=\"line2d_3\">\r\n      <path clip-path=\"url(#p68f80ae8cb)\" d=\"M 351.197687 389.2675 \r\nL 351.197687 39.3475 \r\n\" style=\"fill:none;stroke:#cbcbcb;\"/>\r\n     </g>\r\n     <g id=\"line2d_4\">\r\n      <g>\r\n       <use style=\"stroke:#000000;stroke-width:0.8;\" x=\"351.197687\" xlink:href=\"#m751674783b\" y=\"389.2675\"/>\r\n      </g>\r\n     </g>\r\n     <g id=\"text_2\">\r\n      <!-- solving question -->\r\n      <g transform=\"translate(298.978781 405.896563)scale(0.14 -0.14)\">\r\n       <defs>\r\n        <path d=\"M 5.171875 10.453125 \r\nQ 11.921875 5.46875 19.96875 5.46875 \r\nQ 30.90625 5.46875 30.90625 12.84375 \r\nQ 30.90625 16.015625 28.515625 18.09375 \r\nQ 26.125 20.171875 19.09375 22.796875 \r\nQ 10.984375 26.03125 8.125 29.34375 \r\nQ 5.28125 32.671875 5.28125 37.75 \r\nQ 5.28125 44.28125 10.9375 48.375 \r\nQ 16.609375 52.484375 24.75 52.484375 \r\nQ 31.296875 52.484375 36.578125 50.203125 \r\nL 36.578125 42.140625 \r\nQ 30.859375 45.84375 23.53125 45.84375 \r\nQ 18.75 45.84375 16.015625 43.71875 \r\nQ 13.28125 41.609375 13.28125 38.421875 \r\nQ 13.28125 35.015625 15.296875 33.203125 \r\nQ 17.328125 31.390625 24.125 28.71875 \r\nQ 33.296875 25.140625 36.078125 21.71875 \r\nQ 38.875 18.3125 38.875 13.578125 \r\nQ 38.875 6.734375 33.234375 2.75 \r\nQ 27.59375 -1.21875 18.796875 -1.21875 \r\nQ 10.84375 -1.21875 5.171875 1.90625 \r\nz\r\n\" id=\"MalgunGothic-115\"/>\r\n        <path d=\"M 8.453125 0 \r\nL 8.453125 75.921875 \r\nL 16.15625 75.921875 \r\nL 16.15625 0 \r\nz\r\n\" id=\"MalgunGothic-108\"/>\r\n        <path d=\"M 48.1875 51.3125 \r\nL 27.640625 0 \r\nL 20.21875 0 \r\nL 0.734375 51.3125 \r\nL 9.28125 51.3125 \r\nL 22.515625 13.625 \r\nQ 23.921875 9.515625 24.3125 6.640625 \r\nL 24.5625 6.640625 \r\nQ 25.046875 10.453125 26.125 13.484375 \r\nL 40.046875 51.3125 \r\nz\r\n\" id=\"MalgunGothic-118\"/>\r\n        <path d=\"M 7.375 69.78125 \r\nQ 7.375 71.96875 8.828125 73.453125 \r\nQ 10.296875 74.953125 12.40625 74.953125 \r\nQ 14.59375 74.953125 16.078125 73.4375 \r\nQ 17.578125 71.921875 17.578125 69.78125 \r\nQ 17.578125 67.578125 16.078125 66.109375 \r\nQ 14.59375 64.65625 12.40625 64.65625 \r\nQ 10.296875 64.65625 8.828125 66.09375 \r\nQ 7.375 67.53125 7.375 69.78125 \r\nz\r\nM 8.453125 0 \r\nL 8.453125 51.3125 \r\nL 16.15625 51.3125 \r\nL 16.15625 0 \r\nz\r\n\" id=\"MalgunGothic-105\"/>\r\n        <path d=\"M 51.765625 4.046875 \r\nQ 51.765625 -24.171875 25.046875 -24.171875 \r\nQ 15.671875 -24.171875 8.40625 -20.515625 \r\nL 8.40625 -12.59375 \r\nQ 17 -17.4375 25 -17.4375 \r\nQ 44.09375 -17.4375 44.09375 3.03125 \r\nL 44.09375 8.734375 \r\nL 43.890625 8.734375 \r\nQ 37.84375 -1.21875 26.171875 -1.21875 \r\nQ 16.65625 -1.21875 10.796875 5.65625 \r\nQ 4.9375 12.546875 4.9375 23.96875 \r\nQ 4.9375 37.109375 11.28125 44.796875 \r\nQ 17.625 52.484375 28.375 52.484375 \r\nQ 38.8125 52.484375 43.890625 44.09375 \r\nL 44.09375 44.09375 \r\nL 44.09375 51.3125 \r\nL 51.765625 51.3125 \r\nz\r\nM 44.09375 30.90625 \r\nQ 44.09375 37.15625 39.796875 41.546875 \r\nQ 35.5 45.953125 29.34375 45.953125 \r\nQ 21.625 45.953125 17.203125 40.265625 \r\nQ 12.796875 34.578125 12.796875 24.5625 \r\nQ 12.796875 15.875 17.0625 10.625 \r\nQ 21.34375 5.375 28.171875 5.375 \r\nQ 35.109375 5.375 39.59375 10.40625 \r\nQ 44.09375 15.4375 44.09375 23.09375 \r\nz\r\n\" id=\"MalgunGothic-103\"/>\r\n        <path id=\"MalgunGothic-32\"/>\r\n        <path d=\"M 51.765625 -23.640625 \r\nL 44.09375 -23.640625 \r\nL 44.09375 8.890625 \r\nL 43.890625 8.890625 \r\nQ 38.53125 -1.21875 26.265625 -1.21875 \r\nQ 16.5 -1.21875 10.71875 5.640625 \r\nQ 4.9375 12.5 4.9375 24.46875 \r\nQ 4.9375 37.25 11.328125 44.859375 \r\nQ 17.71875 52.484375 28.515625 52.484375 \r\nQ 39.109375 52.484375 43.890625 44.09375 \r\nL 44.09375 44.09375 \r\nL 44.09375 51.3125 \r\nL 51.765625 51.3125 \r\nz\r\nM 44.09375 30.71875 \r\nQ 44.09375 36.921875 39.921875 41.4375 \r\nQ 35.75 45.953125 29.203125 45.953125 \r\nQ 21.625 45.953125 17.203125 40.359375 \r\nQ 12.796875 34.765625 12.796875 24.609375 \r\nQ 12.796875 15.671875 17.015625 10.515625 \r\nQ 21.234375 5.375 27.984375 5.375 \r\nQ 35.5 5.375 39.796875 10.5 \r\nQ 44.09375 15.625 44.09375 23 \r\nz\r\n\" id=\"MalgunGothic-113\"/>\r\n        <path d=\"M 49.46875 0 \r\nL 41.703125 0 \r\nL 41.703125 8.109375 \r\nL 41.5 8.109375 \r\nQ 36.421875 -1.21875 25.6875 -1.21875 \r\nQ 7.328125 -1.21875 7.328125 20.65625 \r\nL 7.328125 51.3125 \r\nL 14.984375 51.3125 \r\nL 14.984375 21.921875 \r\nQ 14.984375 5.375 27.59375 5.375 \r\nQ 33.734375 5.375 37.71875 9.9375 \r\nQ 41.703125 14.5 41.703125 21.78125 \r\nL 41.703125 51.3125 \r\nL 49.46875 51.3125 \r\nz\r\n\" id=\"MalgunGothic-117\"/>\r\n       </defs>\r\n       <use xlink:href=\"#MalgunGothic-115\"/>\r\n       <use x=\"43.310547\" xlink:href=\"#MalgunGothic-111\"/>\r\n       <use x=\"103.222656\" xlink:href=\"#MalgunGothic-108\"/>\r\n       <use x=\"127.832031\" xlink:href=\"#MalgunGothic-118\"/>\r\n       <use x=\"176.5625\" xlink:href=\"#MalgunGothic-105\"/>\r\n       <use x=\"201.171875\" xlink:href=\"#MalgunGothic-110\"/>\r\n       <use x=\"258.984375\" xlink:href=\"#MalgunGothic-103\"/>\r\n       <use x=\"319.189453\" xlink:href=\"#MalgunGothic-32\"/>\r\n       <use x=\"354.345703\" xlink:href=\"#MalgunGothic-113\"/>\r\n       <use x=\"414.550781\" xlink:href=\"#MalgunGothic-117\"/>\r\n       <use x=\"472.363281\" xlink:href=\"#MalgunGothic-101\"/>\r\n       <use x=\"525.878906\" xlink:href=\"#MalgunGothic-115\"/>\r\n       <use x=\"569.189453\" xlink:href=\"#MalgunGothic-116\"/>\r\n       <use x=\"603.662109\" xlink:href=\"#MalgunGothic-105\"/>\r\n       <use x=\"628.271484\" xlink:href=\"#MalgunGothic-111\"/>\r\n       <use x=\"688.183594\" xlink:href=\"#MalgunGothic-110\"/>\r\n      </g>\r\n     </g>\r\n    </g>\r\n    <g id=\"xtick_3\">\r\n     <g id=\"line2d_5\">\r\n      <path clip-path=\"url(#p68f80ae8cb)\" d=\"M 531.025438 389.2675 \r\nL 531.025438 39.3475 \r\n\" style=\"fill:none;stroke:#cbcbcb;\"/>\r\n     </g>\r\n     <g id=\"line2d_6\">\r\n      <g>\r\n       <use style=\"stroke:#000000;stroke-width:0.8;\" x=\"531.025438\" xlink:href=\"#m751674783b\" y=\"389.2675\"/>\r\n      </g>\r\n     </g>\r\n     <g id=\"text_3\">\r\n      <!-- intention -->\r\n      <g transform=\"translate(502.735594 405.896563)scale(0.14 -0.14)\">\r\n       <use xlink:href=\"#MalgunGothic-105\"/>\r\n       <use x=\"24.609375\" xlink:href=\"#MalgunGothic-110\"/>\r\n       <use x=\"82.421875\" xlink:href=\"#MalgunGothic-116\"/>\r\n       <use x=\"116.019531\" xlink:href=\"#MalgunGothic-101\"/>\r\n       <use x=\"169.535156\" xlink:href=\"#MalgunGothic-110\"/>\r\n       <use x=\"227.347656\" xlink:href=\"#MalgunGothic-116\"/>\r\n       <use x=\"261.820312\" xlink:href=\"#MalgunGothic-105\"/>\r\n       <use x=\"286.429688\" xlink:href=\"#MalgunGothic-111\"/>\r\n       <use x=\"346.341797\" xlink:href=\"#MalgunGothic-110\"/>\r\n      </g>\r\n     </g>\r\n    </g>\r\n    <g id=\"xtick_4\">\r\n     <g id=\"line2d_7\">\r\n      <path clip-path=\"url(#p68f80ae8cb)\" d=\"M 710.853189 389.2675 \r\nL 710.853189 39.3475 \r\n\" style=\"fill:none;stroke:#cbcbcb;\"/>\r\n     </g>\r\n     <g id=\"line2d_8\">\r\n      <g>\r\n       <use style=\"stroke:#000000;stroke-width:0.8;\" x=\"710.853189\" xlink:href=\"#m751674783b\" y=\"389.2675\"/>\r\n      </g>\r\n     </g>\r\n     <g id=\"text_4\">\r\n      <!-- starter -->\r\n      <g transform=\"translate(690.501783 405.896563)scale(0.14 -0.14)\">\r\n       <defs>\r\n        <path d=\"M 9.625 47.65625 \r\nQ 17.140625 52.484375 26.90625 52.484375 \r\nQ 44.78125 52.484375 44.78125 33.546875 \r\nL 44.78125 0 \r\nL 37.015625 0 \r\nL 37.015625 8.0625 \r\nL 36.71875 8.0625 \r\nQ 31.390625 -1.21875 20.953125 -1.21875 \r\nQ 13.421875 -1.21875 9 2.8125 \r\nQ 4.59375 6.84375 4.59375 13.578125 \r\nQ 4.59375 27.875 21.484375 30.21875 \r\nL 36.96875 32.46875 \r\nQ 36.96875 45.84375 26.3125 45.84375 \r\nQ 16.9375 45.84375 9.625 39.453125 \r\nz\r\nM 24.421875 24.359375 \r\nQ 18.40625 23.578125 15.515625 21.421875 \r\nQ 12.640625 19.28125 12.640625 14.109375 \r\nQ 12.640625 10.203125 15.40625 7.8125 \r\nQ 18.171875 5.421875 22.65625 5.421875 \r\nQ 28.859375 5.421875 32.90625 9.8125 \r\nQ 36.96875 14.203125 36.96875 20.84375 \r\nL 36.96875 26.03125 \r\nz\r\n\" id=\"MalgunGothic-97\"/>\r\n        <path d=\"M 34.765625 43.359375 \r\nQ 32.5625 45.015625 28.5625 45.015625 \r\nQ 23.296875 45.015625 19.71875 39.890625 \r\nQ 16.15625 34.765625 16.15625 26.265625 \r\nL 16.15625 0 \r\nL 8.40625 0 \r\nL 8.40625 51.3125 \r\nL 16.15625 51.3125 \r\nL 16.15625 40.671875 \r\nL 16.359375 40.671875 \r\nQ 18.109375 46.09375 21.703125 49.140625 \r\nQ 25.296875 52.203125 29.734375 52.203125 \r\nQ 32.953125 52.203125 34.765625 51.515625 \r\nz\r\n\" id=\"MalgunGothic-114\"/>\r\n       </defs>\r\n       <use xlink:href=\"#MalgunGothic-115\"/>\r\n       <use x=\"43.310547\" xlink:href=\"#MalgunGothic-116\"/>\r\n       <use x=\"77.783203\" xlink:href=\"#MalgunGothic-97\"/>\r\n       <use x=\"129.785156\" xlink:href=\"#MalgunGothic-114\"/>\r\n       <use x=\"168.261719\" xlink:href=\"#MalgunGothic-116\"/>\r\n       <use x=\"201.859375\" xlink:href=\"#MalgunGothic-101\"/>\r\n       <use x=\"255.375\" xlink:href=\"#MalgunGothic-114\"/>\r\n      </g>\r\n     </g>\r\n    </g>\r\n    <g id=\"text_5\">\r\n     <!-- 강의 유형 -->\r\n     <g transform=\"translate(410.650625 434.909688)scale(0.14 -0.14)\">\r\n      <defs>\r\n       <path d=\"M 82.171875 52 \r\nL 82.171875 30.421875 \r\nL 69.921875 30.421875 \r\nL 69.921875 85.40625 \r\nL 82.171875 85.40625 \r\nL 82.171875 62.3125 \r\nL 96.484375 62.3125 \r\nL 96.484375 52 \r\nz\r\nM 57.71875 80.328125 \r\nQ 52.78125 47.078125 14.890625 29.984375 \r\nL 6.203125 39.5 \r\nQ 18.65625 42.96875 28.46875 51.390625 \r\nQ 38.28125 59.8125 42.1875 70.015625 \r\nL 12.109375 70.015625 \r\nL 12.109375 80.328125 \r\nz\r\nM 52.296875 -8.40625 \r\nQ 37.3125 -8.40625 29.109375 -3.25 \r\nQ 20.90625 1.90625 20.90625 10.40625 \r\nQ 20.90625 18.84375 29.203125 23.921875 \r\nQ 37.5 29 52.296875 29 \r\nQ 67.140625 29 75.40625 23.9375 \r\nQ 83.6875 18.890625 83.6875 10.40625 \r\nQ 83.6875 1.859375 75.453125 -3.265625 \r\nQ 67.234375 -8.40625 52.296875 -8.40625 \r\nz\r\nM 52.296875 18.796875 \r\nQ 33.59375 18.796875 33.59375 10.40625 \r\nQ 33.59375 1.8125 52.296875 1.8125 \r\nQ 71.09375 1.8125 71.09375 10.40625 \r\nQ 71.09375 18.796875 52.296875 18.796875 \r\nz\r\n\" id=\"MalgunGothicBold-44053\"/>\r\n       <path d=\"M 75 -8.796875 \r\nL 75 85.40625 \r\nL 87.109375 85.40625 \r\nL 87.109375 -8.796875 \r\nz\r\nM 36.375 32.171875 \r\nQ 25.296875 32.171875 17.796875 38.734375 \r\nQ 10.296875 45.3125 10.296875 55.8125 \r\nQ 10.296875 66.40625 17.96875 73 \r\nQ 25.640625 79.59375 36.921875 79.59375 \r\nQ 48.09375 79.59375 55.390625 73 \r\nQ 62.703125 66.40625 62.703125 55.8125 \r\nQ 62.703125 45.359375 55.125 38.765625 \r\nQ 47.5625 32.171875 36.375 32.171875 \r\nz\r\nM 36.53125 69.28125 \r\nQ 30.328125 69.28125 26.5625 65.46875 \r\nQ 22.796875 61.671875 22.796875 55.8125 \r\nQ 22.796875 50.046875 26.65625 46.265625 \r\nQ 30.515625 42.484375 36.53125 42.484375 \r\nQ 42.625 42.484375 46.40625 46.3125 \r\nQ 50.203125 50.140625 50.203125 55.8125 \r\nQ 50.203125 61.53125 46.359375 65.40625 \r\nQ 42.53125 69.28125 36.53125 69.28125 \r\nz\r\nM 4.984375 6.78125 \r\nL 3.71875 17.09375 \r\nQ 48.4375 17.09375 70.703125 18.5 \r\nL 71.390625 8.40625 \r\nQ 40.375 6.78125 4.984375 6.78125 \r\nz\r\n\" id=\"MalgunGothicBold-51032\"/>\r\n       <path id=\"MalgunGothicBold-32\"/>\r\n       <path d=\"M 50 40.71875 \r\nQ 35.75 40.71875 27.171875 46.96875 \r\nQ 18.609375 53.21875 18.609375 62.703125 \r\nQ 18.609375 72.078125 27.125 78.078125 \r\nQ 35.640625 84.078125 49.8125 84.078125 \r\nQ 64.15625 84.078125 72.671875 78.09375 \r\nQ 81.203125 72.125 81.203125 62.703125 \r\nQ 81.203125 53.46875 72.53125 47.09375 \r\nQ 63.875 40.71875 50 40.71875 \r\nz\r\nM 49.8125 74.125 \r\nQ 40.921875 74.125 36.015625 70.890625 \r\nQ 31.109375 67.671875 31.109375 62.703125 \r\nQ 31.109375 57.765625 36.078125 54.53125 \r\nQ 41.0625 51.3125 49.8125 51.3125 \r\nQ 58.546875 51.3125 63.515625 54.53125 \r\nQ 68.5 57.765625 68.5 62.703125 \r\nQ 68.5 67.78125 63.5 70.953125 \r\nQ 58.5 74.125 49.8125 74.125 \r\nz\r\nM 28.421875 -8.6875 \r\nL 28.421875 22.515625 \r\nL 6.296875 22.515625 \r\nL 6.296875 32.8125 \r\nL 93.703125 32.8125 \r\nL 93.703125 22.515625 \r\nL 71.578125 22.515625 \r\nL 71.578125 -8.6875 \r\nL 59.421875 -8.6875 \r\nL 59.421875 22.515625 \r\nL 40.578125 22.515625 \r\nL 40.578125 -8.6875 \r\nz\r\n\" id=\"MalgunGothicBold-50976\"/>\r\n       <path d=\"M 6.984375 67.28125 \r\nL 6.984375 77.09375 \r\nL 29.6875 77.09375 \r\nL 29.6875 86.71875 \r\nL 42 86.71875 \r\nL 42 77.09375 \r\nL 64.703125 77.09375 \r\nL 64.703125 67.28125 \r\nz\r\nM 60.796875 35.5 \r\nL 60.796875 45.40625 \r\nL 74.3125 45.40625 \r\nL 74.3125 52.59375 \r\nL 60.796875 52.59375 \r\nL 60.796875 62.5 \r\nL 74.3125 62.5 \r\nL 74.3125 85.40625 \r\nL 86.53125 85.40625 \r\nL 86.53125 27.390625 \r\nL 74.3125 27.390625 \r\nL 74.3125 35.5 \r\nz\r\nM 35.015625 29.890625 \r\nQ 23.828125 29.890625 17.671875 34.515625 \r\nQ 11.53125 39.15625 11.53125 46.921875 \r\nQ 11.53125 54.59375 17.71875 59.25 \r\nQ 23.921875 63.921875 35.109375 63.921875 \r\nQ 46.296875 63.921875 52.484375 59.25 \r\nQ 58.6875 54.59375 58.6875 46.921875 \r\nQ 58.6875 39.109375 52.390625 34.5 \r\nQ 46.09375 29.890625 35.015625 29.890625 \r\nz\r\nM 35.109375 54.109375 \r\nQ 23.296875 54.109375 23.296875 46.921875 \r\nQ 23.296875 39.59375 35.109375 39.59375 \r\nQ 47.015625 39.59375 47.015625 46.921875 \r\nQ 47.015625 54.109375 35.109375 54.109375 \r\nz\r\nM 55.90625 -8.6875 \r\nQ 40.765625 -8.6875 32.3125 -3.703125 \r\nQ 23.875 1.265625 23.875 9.625 \r\nQ 23.875 17.921875 32.421875 22.953125 \r\nQ 40.96875 27.984375 55.90625 27.984375 \r\nQ 70.75 27.984375 79.265625 22.90625 \r\nQ 87.796875 17.828125 87.796875 9.625 \r\nQ 87.796875 1.375 79.390625 -3.65625 \r\nQ 71 -8.6875 55.90625 -8.6875 \r\nz\r\nM 55.90625 17.921875 \r\nQ 46.1875 17.921875 41.28125 15.625 \r\nQ 36.375 13.328125 36.375 9.625 \r\nQ 36.375 5.765625 41.375 3.53125 \r\nQ 46.390625 1.3125 55.90625 1.3125 \r\nQ 65.375 1.3125 70.328125 3.515625 \r\nQ 75.296875 5.71875 75.296875 9.625 \r\nQ 75.296875 13.375 70.40625 15.640625 \r\nQ 65.53125 17.921875 55.90625 17.921875 \r\nz\r\n\" id=\"MalgunGothicBold-54805\"/>\r\n      </defs>\r\n      <use xlink:href=\"#MalgunGothicBold-44053\"/>\r\n      <use x=\"100\" xlink:href=\"#MalgunGothicBold-51032\"/>\r\n      <use x=\"200\" xlink:href=\"#MalgunGothicBold-32\"/>\r\n      <use x=\"235.15625\" xlink:href=\"#MalgunGothicBold-50976\"/>\r\n      <use x=\"335.15625\" xlink:href=\"#MalgunGothicBold-54805\"/>\r\n     </g>\r\n    </g>\r\n   </g>\r\n   <g id=\"matplotlib.axis_2\">\r\n    <g id=\"ytick_1\">\r\n     <g id=\"line2d_9\">\r\n      <path clip-path=\"url(#p68f80ae8cb)\" d=\"M 65.271563 389.2675 \r\nL 816.951562 389.2675 \r\n\" style=\"fill:none;stroke:#cbcbcb;\"/>\r\n     </g>\r\n     <g id=\"line2d_10\">\r\n      <defs>\r\n       <path d=\"M 0 0 \r\nL 3 0 \r\n\" id=\"mc09b0d138d\" style=\"stroke:#000000;stroke-width:0.8;\"/>\r\n      </defs>\r\n      <g>\r\n       <use style=\"stroke:#000000;stroke-width:0.8;\" x=\"65.271563\" xlink:href=\"#mc09b0d138d\" y=\"389.2675\"/>\r\n      </g>\r\n     </g>\r\n     <g id=\"text_6\">\r\n      <!-- 0 -->\r\n      <g transform=\"translate(51.560625 394.582031)scale(0.14 -0.14)\">\r\n       <defs>\r\n        <path d=\"M 4.34375 34.46875 \r\nQ 4.34375 53.515625 10.546875 63.28125 \r\nQ 16.75 73.046875 28.421875 73.046875 \r\nQ 50.828125 73.046875 50.828125 36.234375 \r\nQ 50.828125 18.0625 44.59375 8.421875 \r\nQ 38.375 -1.21875 26.8125 -1.21875 \r\nQ 15.875 -1.21875 10.109375 8.125 \r\nQ 4.34375 17.484375 4.34375 34.46875 \r\nz\r\nM 12.25 34.859375 \r\nQ 12.25 5.375 27.640625 5.375 \r\nQ 42.921875 5.375 42.921875 35.296875 \r\nQ 42.921875 66.40625 28.03125 66.40625 \r\nQ 12.25 66.40625 12.25 34.859375 \r\nz\r\n\" id=\"MalgunGothic-48\"/>\r\n       </defs>\r\n       <use xlink:href=\"#MalgunGothic-48\"/>\r\n      </g>\r\n     </g>\r\n    </g>\r\n    <g id=\"ytick_2\">\r\n     <g id=\"line2d_11\">\r\n      <path clip-path=\"url(#p68f80ae8cb)\" d=\"M 65.271563 314.209585 \r\nL 816.951562 314.209585 \r\n\" style=\"fill:none;stroke:#cbcbcb;\"/>\r\n     </g>\r\n     <g id=\"line2d_12\">\r\n      <g>\r\n       <use style=\"stroke:#000000;stroke-width:0.8;\" x=\"65.271563\" xlink:href=\"#mc09b0d138d\" y=\"314.209585\"/>\r\n      </g>\r\n     </g>\r\n     <g id=\"text_7\">\r\n      <!-- 50 -->\r\n      <g transform=\"translate(43.849688 319.524116)scale(0.14 -0.14)\">\r\n       <defs>\r\n        <path d=\"M 48 21.921875 \r\nQ 48 11.28125 41.1875 5.03125 \r\nQ 34.375 -1.21875 22.953125 -1.21875 \r\nQ 12.9375 -1.21875 8.0625 1.765625 \r\nL 8.0625 10.15625 \r\nQ 15.53125 5.375 23.046875 5.375 \r\nQ 30.765625 5.375 35.46875 9.84375 \r\nQ 40.1875 14.3125 40.1875 21.4375 \r\nQ 40.1875 28.71875 35.390625 32.6875 \r\nQ 30.609375 36.671875 21.578125 36.671875 \r\nQ 15.53125 36.671875 9.421875 35.9375 \r\nL 11.859375 71.875 \r\nL 44.828125 71.875 \r\nL 44.828125 64.796875 \r\nL 18.84375 64.796875 \r\nL 17.28125 43.171875 \r\nQ 21.046875 43.5 24.171875 43.5 \r\nQ 35.359375 43.5 41.671875 37.71875 \r\nQ 48 31.9375 48 21.921875 \r\nz\r\n\" id=\"MalgunGothic-53\"/>\r\n       </defs>\r\n       <use xlink:href=\"#MalgunGothic-53\"/>\r\n       <use x=\"55.078125\" xlink:href=\"#MalgunGothic-48\"/>\r\n      </g>\r\n     </g>\r\n    </g>\r\n    <g id=\"ytick_3\">\r\n     <g id=\"line2d_13\">\r\n      <path clip-path=\"url(#p68f80ae8cb)\" d=\"M 65.271563 239.15167 \r\nL 816.951562 239.15167 \r\n\" style=\"fill:none;stroke:#cbcbcb;\"/>\r\n     </g>\r\n     <g id=\"line2d_14\">\r\n      <g>\r\n       <use style=\"stroke:#000000;stroke-width:0.8;\" x=\"65.271563\" xlink:href=\"#mc09b0d138d\" y=\"239.15167\"/>\r\n      </g>\r\n     </g>\r\n     <g id=\"text_8\">\r\n      <!-- 100 -->\r\n      <g transform=\"translate(36.13875 244.466201)scale(0.14 -0.14)\">\r\n       <defs>\r\n        <path d=\"M 34.859375 0 \r\nL 27.09375 0 \r\nL 27.09375 62.0625 \r\nQ 24.859375 59.8125 19.78125 57.203125 \r\nQ 14.703125 54.59375 10.5 53.5625 \r\nL 10.5 61.859375 \r\nQ 15.875 63.375 22.015625 66.796875 \r\nQ 28.171875 70.21875 31.734375 73.4375 \r\nL 34.859375 73.4375 \r\nz\r\n\" id=\"MalgunGothic-49\"/>\r\n       </defs>\r\n       <use xlink:href=\"#MalgunGothic-49\"/>\r\n       <use x=\"55.078125\" xlink:href=\"#MalgunGothic-48\"/>\r\n       <use x=\"110.15625\" xlink:href=\"#MalgunGothic-48\"/>\r\n      </g>\r\n     </g>\r\n    </g>\r\n    <g id=\"ytick_4\">\r\n     <g id=\"line2d_15\">\r\n      <path clip-path=\"url(#p68f80ae8cb)\" d=\"M 65.271563 164.093755 \r\nL 816.951562 164.093755 \r\n\" style=\"fill:none;stroke:#cbcbcb;\"/>\r\n     </g>\r\n     <g id=\"line2d_16\">\r\n      <g>\r\n       <use style=\"stroke:#000000;stroke-width:0.8;\" x=\"65.271563\" xlink:href=\"#mc09b0d138d\" y=\"164.093755\"/>\r\n      </g>\r\n     </g>\r\n     <g id=\"text_9\">\r\n      <!-- 150 -->\r\n      <g transform=\"translate(36.13875 169.408286)scale(0.14 -0.14)\">\r\n       <use xlink:href=\"#MalgunGothic-49\"/>\r\n       <use x=\"55.078125\" xlink:href=\"#MalgunGothic-53\"/>\r\n       <use x=\"110.15625\" xlink:href=\"#MalgunGothic-48\"/>\r\n      </g>\r\n     </g>\r\n    </g>\r\n    <g id=\"ytick_5\">\r\n     <g id=\"line2d_17\">\r\n      <path clip-path=\"url(#p68f80ae8cb)\" d=\"M 65.271563 89.03584 \r\nL 816.951562 89.03584 \r\n\" style=\"fill:none;stroke:#cbcbcb;\"/>\r\n     </g>\r\n     <g id=\"line2d_18\">\r\n      <g>\r\n       <use style=\"stroke:#000000;stroke-width:0.8;\" x=\"65.271563\" xlink:href=\"#mc09b0d138d\" y=\"89.03584\"/>\r\n      </g>\r\n     </g>\r\n     <g id=\"text_10\">\r\n      <!-- 200 -->\r\n      <g transform=\"translate(36.13875 94.350371)scale(0.14 -0.14)\">\r\n       <defs>\r\n        <path d=\"M 39.359375 52.6875 \r\nQ 39.359375 59.125 35.546875 62.78125 \r\nQ 31.734375 66.453125 25.4375 66.453125 \r\nQ 20.953125 66.453125 16.453125 64.125 \r\nQ 11.96875 61.8125 8.34375 57.765625 \r\nL 8.34375 66.15625 \r\nQ 15.328125 73.046875 26.421875 73.046875 \r\nQ 35.640625 73.046875 41.28125 67.71875 \r\nQ 46.921875 62.40625 46.921875 53.375 \r\nQ 46.921875 45.609375 43.3125 39.765625 \r\nQ 39.703125 33.9375 31 27.734375 \r\nQ 22.796875 21.96875 19.59375 18.984375 \r\nQ 16.40625 16.015625 15.109375 13.34375 \r\nQ 13.8125 10.6875 13.8125 7.03125 \r\nL 48.6875 7.03125 \r\nL 48.6875 0 \r\nL 5.5625 0 \r\nL 5.5625 3.515625 \r\nQ 5.5625 9.421875 7.203125 13.59375 \r\nQ 8.84375 17.78125 12.671875 21.75 \r\nQ 16.5 25.734375 24.953125 31.59375 \r\nQ 32.671875 36.921875 36.015625 41.71875 \r\nQ 39.359375 46.53125 39.359375 52.6875 \r\nz\r\n\" id=\"MalgunGothic-50\"/>\r\n       </defs>\r\n       <use xlink:href=\"#MalgunGothic-50\"/>\r\n       <use x=\"55.078125\" xlink:href=\"#MalgunGothic-48\"/>\r\n       <use x=\"110.15625\" xlink:href=\"#MalgunGothic-48\"/>\r\n      </g>\r\n     </g>\r\n    </g>\r\n    <g id=\"text_11\">\r\n     <!-- 강의 갯수 -->\r\n     <g transform=\"translate(17.829062 244.768438)rotate(-90)scale(0.14 -0.14)\">\r\n      <defs>\r\n       <path d=\"M 75.875 25.296875 \r\nL 75.875 51.125 \r\nL 68.5 51.125 \r\nL 68.5 32.078125 \r\nL 56.5 32.078125 \r\nL 56.5 83.5 \r\nL 68.5 83.5 \r\nL 68.5 61.375 \r\nL 75.875 61.375 \r\nL 75.875 85.40625 \r\nL 87.984375 85.40625 \r\nL 87.984375 25.296875 \r\nz\r\nM 49.703125 79.109375 \r\nQ 48 45.90625 13.484375 27.296875 \r\nL 4.59375 36.625 \r\nQ 15.671875 40.71875 24.53125 49.890625 \r\nQ 33.40625 59.078125 35.796875 68.890625 \r\nL 10.015625 68.890625 \r\nL 10.015625 79.109375 \r\nz\r\nM 84.71875 -8.890625 \r\nQ 75.828125 -7.46875 66.296875 -1.484375 \r\nQ 56.78125 4.5 52.78125 10.59375 \r\nQ 49.265625 4.734375 39.90625 -1.078125 \r\nQ 30.5625 -6.890625 21.578125 -8.890625 \r\nL 14.203125 0.78125 \r\nQ 28.328125 2.59375 37.5 10.03125 \r\nQ 46.6875 17.484375 46.6875 25.09375 \r\nL 46.6875 29.296875 \r\nL 58.890625 29.296875 \r\nL 58.890625 25.203125 \r\nQ 58.890625 17.625 68.09375 10.15625 \r\nQ 77.296875 2.6875 91.5 0.6875 \r\nz\r\n\" id=\"MalgunGothicBold-44079\"/>\r\n       <path d=\"M 83.796875 45.40625 \r\nQ 72.75 47.703125 63.328125 53.015625 \r\nQ 53.90625 58.34375 49.90625 64.109375 \r\nQ 45.90625 58.0625 36.421875 52.6875 \r\nQ 26.953125 47.3125 16.796875 45.40625 \r\nL 9.515625 54.6875 \r\nQ 24.953125 56.546875 34.375 63.625 \r\nQ 43.796875 70.703125 43.796875 79.109375 \r\nL 43.796875 83.40625 \r\nL 56 83.40625 \r\nL 56 79.109375 \r\nQ 56 70.609375 65.328125 63.46875 \r\nQ 74.65625 56.34375 90.09375 54.59375 \r\nz\r\nM 56 26.21875 \r\nL 56 -8.796875 \r\nL 43.796875 -8.796875 \r\nL 43.796875 26.21875 \r\nL 6.296875 26.21875 \r\nL 6.296875 36.53125 \r\nL 93.703125 36.53125 \r\nL 93.703125 26.21875 \r\nz\r\n\" id=\"MalgunGothicBold-49688\"/>\r\n      </defs>\r\n      <use xlink:href=\"#MalgunGothicBold-44053\"/>\r\n      <use x=\"100\" xlink:href=\"#MalgunGothicBold-51032\"/>\r\n      <use x=\"200\" xlink:href=\"#MalgunGothicBold-32\"/>\r\n      <use x=\"235.15625\" xlink:href=\"#MalgunGothicBold-44079\"/>\r\n      <use x=\"335.15625\" xlink:href=\"#MalgunGothicBold-49688\"/>\r\n     </g>\r\n    </g>\r\n   </g>\r\n   <g id=\"patch_3\">\r\n    <path clip-path=\"url(#p68f80ae8cb)\" d=\"M 99.438835 389.2675 \r\nL 243.301036 389.2675 \r\nL 243.301036 56.010357 \r\nL 99.438835 56.010357 \r\nz\r\n\" style=\"fill:#9467bd;\"/>\r\n   </g>\r\n   <g id=\"patch_4\">\r\n    <path clip-path=\"url(#p68f80ae8cb)\" d=\"M 279.266586 389.2675 \r\nL 423.128787 389.2675 \r\nL 423.128787 110.052056 \r\nL 279.266586 110.052056 \r\nz\r\n\" style=\"fill:#9467bd;\"/>\r\n   </g>\r\n   <g id=\"patch_5\">\r\n    <path clip-path=\"url(#p68f80ae8cb)\" d=\"M 459.094338 389.2675 \r\nL 602.956539 389.2675 \r\nL 602.956539 378.759392 \r\nL 459.094338 378.759392 \r\nz\r\n\" style=\"fill:#9467bd;\"/>\r\n   </g>\r\n   <g id=\"patch_6\">\r\n    <path clip-path=\"url(#p68f80ae8cb)\" d=\"M 638.922089 389.2675 \r\nL 782.78429 389.2675 \r\nL 782.78429 384.764025 \r\nL 638.922089 384.764025 \r\nz\r\n\" style=\"fill:#9467bd;\"/>\r\n   </g>\r\n   <g id=\"patch_7\">\r\n    <path d=\"M 65.271563 389.2675 \r\nL 65.271563 39.3475 \r\n\" style=\"fill:none;stroke:#f0f0f0;stroke-linecap:square;stroke-linejoin:miter;stroke-width:3;\"/>\r\n   </g>\r\n   <g id=\"patch_8\">\r\n    <path d=\"M 816.951562 389.2675 \r\nL 816.951562 39.3475 \r\n\" style=\"fill:none;stroke:#f0f0f0;stroke-linecap:square;stroke-linejoin:miter;stroke-width:3;\"/>\r\n   </g>\r\n   <g id=\"patch_9\">\r\n    <path d=\"M 65.271563 389.2675 \r\nL 816.951562 389.2675 \r\n\" style=\"fill:none;stroke:#f0f0f0;stroke-linecap:square;stroke-linejoin:miter;stroke-width:3;\"/>\r\n   </g>\r\n   <g id=\"patch_10\">\r\n    <path d=\"M 65.271563 39.3475 \r\nL 816.951562 39.3475 \r\n\" style=\"fill:none;stroke:#f0f0f0;stroke-linecap:square;stroke-linejoin:miter;stroke-width:3;\"/>\r\n   </g>\r\n   <g id=\"text_12\">\r\n    <!-- 222 -->\r\n    <g transform=\"translate(159.199779 52.70067)scale(0.14 -0.14)\">\r\n     <defs>\r\n      <path d=\"M 20.65625 11.46875 \r\nL 51.125 11.46875 \r\nL 51.125 0 \r\nL 6.25 0 \r\nL 6.25 5.421875 \r\nQ 6.25 11.234375 8.21875 16.140625 \r\nQ 10.203125 21.046875 13.890625 25.3125 \r\nQ 17.578125 29.59375 29.390625 38.421875 \r\nQ 33.984375 41.84375 35.984375 44.96875 \r\nQ 37.984375 48.09375 37.984375 51.953125 \r\nQ 37.984375 56.734375 35.171875 59.390625 \r\nQ 32.375 62.0625 26.46875 62.0625 \r\nQ 17.234375 62.0625 8.734375 54.734375 \r\nL 8.734375 67 \r\nQ 17.4375 73.046875 28.421875 73.046875 \r\nQ 39.546875 73.046875 45.625 67.625 \r\nQ 51.703125 62.203125 51.703125 52.640625 \r\nQ 51.703125 47.703125 50.109375 43.890625 \r\nQ 48.53125 40.09375 45.921875 36.984375 \r\nQ 43.3125 33.890625 39.921875 31.21875 \r\nQ 36.53125 28.5625 32.953125 25.921875 \r\nQ 26.375 21.046875 23.515625 17.578125 \r\nQ 20.65625 14.109375 20.65625 11.46875 \r\nz\r\n\" id=\"MalgunGothicBold-50\"/>\r\n     </defs>\r\n     <use xlink:href=\"#MalgunGothicBold-50\"/>\r\n     <use x=\"57.958984\" xlink:href=\"#MalgunGothicBold-50\"/>\r\n     <use x=\"115.917969\" xlink:href=\"#MalgunGothicBold-50\"/>\r\n    </g>\r\n   </g>\r\n   <g id=\"text_13\">\r\n    <!-- 186 -->\r\n    <g transform=\"translate(339.027531 106.742368)scale(0.14 -0.14)\">\r\n     <defs>\r\n      <path d=\"M 39.59375 73.046875 \r\nL 39.59375 0 \r\nL 25.984375 0 \r\nL 25.984375 56.5 \r\nQ 23.6875 54.390625 19.484375 52.578125 \r\nQ 15.28125 50.78125 10.75 50.25 \r\nL 10.75 62.3125 \r\nQ 21.484375 65.53125 31 73.046875 \r\nz\r\n\" id=\"MalgunGothicBold-49\"/>\r\n      <path d=\"M 4.890625 19.34375 \r\nQ 4.890625 25.53125 8.375 30.390625 \r\nQ 11.859375 35.25 18.453125 37.640625 \r\nQ 13.234375 40.328125 10.234375 44.546875 \r\nQ 7.234375 48.78125 7.234375 53.953125 \r\nQ 7.234375 59.28125 10.078125 63.640625 \r\nQ 12.9375 68.015625 18.109375 70.53125 \r\nQ 23.296875 73.046875 29.546875 73.046875 \r\nQ 35.84375 73.046875 41.0625 70.578125 \r\nQ 46.296875 68.109375 49.140625 63.78125 \r\nQ 52 59.46875 52 54.15625 \r\nQ 52 43.5625 40.1875 37.984375 \r\nQ 46.734375 35.640625 50.359375 30.8125 \r\nQ 54 25.984375 54 19.484375 \r\nQ 54 9.96875 47.328125 4.34375 \r\nQ 40.671875 -1.265625 29.390625 -1.265625 \r\nQ 18.265625 -1.265625 11.578125 4.3125 \r\nQ 4.890625 9.90625 4.890625 19.34375 \r\nz\r\nM 17.921875 20.21875 \r\nQ 17.921875 14.796875 21 11.8125 \r\nQ 24.078125 8.84375 29.4375 8.84375 \r\nQ 34.96875 8.84375 37.984375 11.84375 \r\nQ 41.015625 14.84375 41.015625 20.21875 \r\nQ 41.015625 25.140625 37.734375 28.578125 \r\nQ 34.46875 32.03125 29.4375 32.03125 \r\nQ 24.515625 32.03125 21.21875 28.6875 \r\nQ 17.921875 25.34375 17.921875 20.21875 \r\nz\r\nM 20.125 52.984375 \r\nQ 20.125 48.734375 22.90625 45.703125 \r\nQ 25.6875 42.671875 29.640625 42.671875 \r\nQ 33.6875 42.671875 36.46875 45.71875 \r\nQ 39.265625 48.78125 39.265625 52.984375 \r\nQ 39.265625 57.71875 36.671875 60.328125 \r\nQ 34.078125 62.9375 29.640625 62.9375 \r\nQ 25.203125 62.9375 22.65625 60.296875 \r\nQ 20.125 57.671875 20.125 52.984375 \r\nz\r\n\" id=\"MalgunGothicBold-56\"/>\r\n      <path d=\"M 49.46875 59.421875 \r\nQ 44.046875 62.453125 37.59375 62.453125 \r\nQ 28.953125 62.453125 23.84375 55.4375 \r\nQ 18.75 48.4375 18.75 37.5 \r\nL 19.046875 37.5 \r\nQ 24.171875 45.84375 34.515625 45.84375 \r\nQ 43.609375 45.84375 48.96875 39.671875 \r\nQ 54.34375 33.5 54.34375 23.578125 \r\nQ 54.34375 12.703125 47.5 5.71875 \r\nQ 40.671875 -1.265625 30.171875 -1.265625 \r\nQ 18.015625 -1.265625 11.59375 7.671875 \r\nQ 5.171875 16.609375 5.171875 31.984375 \r\nQ 5.171875 50.203125 13.5625 61.625 \r\nQ 21.96875 73.046875 36.8125 73.046875 \r\nQ 45.015625 73.046875 49.46875 71.046875 \r\nz\r\nM 19.234375 23.578125 \r\nQ 19.234375 17.78125 22.21875 13.578125 \r\nQ 25.203125 9.375 30.21875 9.375 \r\nQ 35.15625 9.375 38.03125 13.125 \r\nQ 40.921875 16.890625 40.921875 22.609375 \r\nQ 40.921875 35.5 30.171875 35.5 \r\nQ 25.34375 35.5 22.28125 32.109375 \r\nQ 19.234375 28.71875 19.234375 23.578125 \r\nz\r\n\" id=\"MalgunGothicBold-54\"/>\r\n     </defs>\r\n     <use xlink:href=\"#MalgunGothicBold-49\"/>\r\n     <use x=\"57.958984\" xlink:href=\"#MalgunGothicBold-56\"/>\r\n     <use x=\"115.917969\" xlink:href=\"#MalgunGothicBold-54\"/>\r\n    </g>\r\n   </g>\r\n   <g id=\"text_14\">\r\n    <!-- 7 -->\r\n    <g transform=\"translate(526.968719 375.449704)scale(0.14 -0.14)\">\r\n     <defs>\r\n      <path d=\"M 53.5625 64.359375 \r\nQ 42 42.828125 37.0625 29.078125 \r\nQ 32.125 15.328125 29.9375 0 \r\nL 15.875 0 \r\nQ 18.171875 14.40625 23.75 29.078125 \r\nQ 29.34375 43.75 39.40625 60.546875 \r\nL 4.6875 60.546875 \r\nL 4.6875 71.875 \r\nL 53.5625 71.875 \r\nz\r\n\" id=\"MalgunGothicBold-55\"/>\r\n     </defs>\r\n     <use xlink:href=\"#MalgunGothicBold-55\"/>\r\n    </g>\r\n   </g>\r\n   <g id=\"text_15\">\r\n    <!-- 3 -->\r\n    <g transform=\"translate(706.796471 381.454338)scale(0.14 -0.14)\">\r\n     <defs>\r\n      <path d=\"M 7.125 14.796875 \r\nQ 14.40625 9.375 23.921875 9.375 \r\nQ 30.171875 9.375 33.984375 12.234375 \r\nQ 37.796875 15.09375 37.796875 20.40625 \r\nQ 37.796875 31.59375 20.90625 31.59375 \r\nL 14.546875 31.59375 \r\nL 14.546875 42.234375 \r\nL 20.453125 42.234375 \r\nQ 35.59375 42.234375 35.59375 52.6875 \r\nQ 35.59375 62.453125 23.96875 62.453125 \r\nQ 16.703125 62.453125 9.859375 57.671875 \r\nL 9.859375 69.140625 \r\nQ 17.1875 73.046875 27.15625 73.046875 \r\nQ 37.0625 73.046875 43.265625 68.359375 \r\nQ 49.46875 63.671875 49.46875 55.375 \r\nQ 49.46875 41.359375 35.15625 37.59375 \r\nL 35.15625 37.40625 \r\nQ 42.625 36.625 47.15625 31.90625 \r\nQ 51.703125 27.203125 51.703125 20.515625 \r\nQ 51.703125 10.296875 44.3125 4.515625 \r\nQ 36.921875 -1.265625 24.703125 -1.265625 \r\nQ 13.96875 -1.265625 7.125 2.4375 \r\nz\r\n\" id=\"MalgunGothicBold-51\"/>\r\n     </defs>\r\n     <use xlink:href=\"#MalgunGothicBold-51\"/>\r\n    </g>\r\n   </g>\r\n   <g id=\"text_16\">\r\n    <!-- 유형별 강의 갯수 -->\r\n    <g transform=\"translate(379.486562 19.3475)scale(0.16 -0.16)\">\r\n     <defs>\r\n      <path d=\"M 11.28125 39.703125 \r\nL 11.28125 82.328125 \r\nL 23.296875 82.328125 \r\nL 23.296875 70.703125 \r\nL 44.484375 70.703125 \r\nL 44.484375 82.328125 \r\nL 56.59375 82.328125 \r\nL 56.59375 73.6875 \r\nL 74.90625 73.6875 \r\nL 74.90625 85.40625 \r\nL 86.921875 85.40625 \r\nL 86.921875 38.09375 \r\nL 74.90625 38.09375 \r\nL 74.90625 46.1875 \r\nL 56.59375 46.1875 \r\nL 56.59375 39.703125 \r\nz\r\nM 56.59375 55.421875 \r\nL 74.90625 55.421875 \r\nL 74.90625 64.5 \r\nL 56.59375 64.5 \r\nz\r\nM 44.484375 60.40625 \r\nL 23.296875 60.40625 \r\nL 23.296875 49.90625 \r\nL 44.484375 49.90625 \r\nz\r\nM 25.984375 -7.28125 \r\nL 25.984375 18.21875 \r\nL 74.90625 18.21875 \r\nL 74.90625 24.03125 \r\nL 25.984375 24.03125 \r\nL 25.984375 33.984375 \r\nL 86.921875 33.984375 \r\nL 86.921875 8.796875 \r\nL 38.09375 8.796875 \r\nL 38.09375 2.6875 \r\nL 89.3125 2.6875 \r\nL 89.3125 -7.28125 \r\nz\r\n\" id=\"MalgunGothicBold-48324\"/>\r\n     </defs>\r\n     <use xlink:href=\"#MalgunGothicBold-50976\"/>\r\n     <use x=\"100\" xlink:href=\"#MalgunGothicBold-54805\"/>\r\n     <use x=\"200\" xlink:href=\"#MalgunGothicBold-48324\"/>\r\n     <use x=\"300\" xlink:href=\"#MalgunGothicBold-32\"/>\r\n     <use x=\"335.15625\" xlink:href=\"#MalgunGothicBold-44053\"/>\r\n     <use x=\"435.15625\" xlink:href=\"#MalgunGothicBold-51032\"/>\r\n     <use x=\"535.15625\" xlink:href=\"#MalgunGothicBold-32\"/>\r\n     <use x=\"570.3125\" xlink:href=\"#MalgunGothicBold-44079\"/>\r\n     <use x=\"670.3125\" xlink:href=\"#MalgunGothicBold-49688\"/>\r\n    </g>\r\n   </g>\r\n  </g>\r\n </g>\r\n <defs>\r\n  <clipPath id=\"p68f80ae8cb\">\r\n   <rect height=\"349.92\" width=\"751.68\" x=\"65.271563\" y=\"39.3475\"/>\r\n  </clipPath>\r\n </defs>\r\n</svg>\r\n",
      "image/png": "[encoded data removed]"
     },
     "metadata": {}
    }
   ],
   "metadata": {}
  },
  {
   "cell_type": "code",
   "execution_count": 24,
   "source": [
    "user_lect = train.groupby([\"user_id\", \"answered_correctly\"]).size().unstack()\r\n",
    "#print(user_lect) # answered_correctly (-1, 0, 1)이 칼럼이 됨\r\n",
    "\r\n",
    "user_lect.columns = ['Lecture', 'Wrong', 'Right'] #칼럼명 지정\r\n",
    "user_lect['Lecture'] = user_lect['Lecture'].fillna(0) #-1값이 없는 사람(강의를 한번도 안들은 사람)은 값이 NaN이므로 0으로 채워줌\r\n",
    "user_lect = user_lect.astype('Int64') #float -> int\r\n",
    "user_lect['Watches_lecture'] = np.where(user_lect.Lecture > 0, True, False) # user_lect.Lecture:강의를 들은 횟수 나타냄\r\n",
    "                                        #user_lect.Lecture가 0보다 크면(강의를 1회 이상 들었으면) True, 아니면 False\r\n",
    "                                #np.where(조건, 조건이 참일때 입력되는 값, 거짓일때 입력되는값)\r\n",
    "#print(user_lect.Lecture)\r\n",
    "\r\n",
    "watches_l = user_lect.groupby(\"Watches_lecture\").agg({'Wrong': ['sum'], 'Right': ['sum']}) #틀린문제, 맞은문제 sum\r\n",
    "#print(watches_l)\r\n",
    "\r\n",
    "watches_l['Percent_correct'] = watches_l.Right/(watches_l.Right + watches_l.Wrong)\r\n",
    "                            #강의안들은사람, 들은사람 각각 맞은문제/전체문제 (맞은문제의비율) 구해서 새로운 칼럼(Percent_correct)으로 추가\r\n",
    "#print(watches_l['Percent_correct']) #False:0.572016   True:0.670602\r\n",
    "\r\n",
    "watches_l = watches_l.iloc[:,2] #watches_l의 칼럼 Wrong, Right, Percent_correct 중에 Percent_correct 만 가져옴\r\n",
    "\r\n",
    "fig = plt.figure(figsize=(12,4))\r\n",
    "watches_l.plot.barh(color='#9467bd')\r\n",
    "for i, v in zip(watches_l.index, watches_l.values):\r\n",
    "    plt.text(v, i, round(v,2), color='white', fontweight='bold', fontsize=14, ha='right', va='center')\r\n",
    "\r\n",
    "plt.title(\"강의 시청 유무에 따른 정답률\", fontdict=title_font, pad=20) # 강의 시청 유무에 따른 정답률\r\n",
    "plt.xlabel(\"정답률\", labelpad=15, fontdict=font1) #정답률\r\n",
    "plt.ylabel(\"강의 시청 유무\", labelpad=15, fontdict=font1) # 강의 시청 유무\r\n",
    "plt.xticks(rotation=0)\r\n",
    "plt.tick_params(axis='both', direction='in', length=3, pad=6, labelsize=14)\r\n",
    "\r\n",
    "plt.show()"
   ],
   "outputs": [
    {
     "output_type": "display_data",
     "data": {
      "text/plain": [
       "<Figure size 864x288 with 1 Axes>"
      ],
      "image/svg+xml": "<?xml version=\"1.0\" encoding=\"utf-8\" standalone=\"no\"?>\r\n<!DOCTYPE svg PUBLIC \"-//W3C//DTD SVG 1.1//EN\"\r\n  \"http://www.w3.org/Graphics/SVG/1.1/DTD/svg11.dtd\">\r\n<!-- Created with matplotlib (https://matplotlib.org/) -->\r\n<svg height=\"328.705pt\" version=\"1.1\" viewBox=\"0 0 836.551316 328.705\" width=\"836.551316pt\" xmlns=\"http://www.w3.org/2000/svg\" xmlns:xlink=\"http://www.w3.org/1999/xlink\">\r\n <metadata>\r\n  <rdf:RDF xmlns:cc=\"http://creativecommons.org/ns#\" xmlns:dc=\"http://purl.org/dc/elements/1.1/\" xmlns:rdf=\"http://www.w3.org/1999/02/22-rdf-syntax-ns#\">\r\n   <cc:Work>\r\n    <dc:type rdf:resource=\"http://purl.org/dc/dcmitype/StillImage\"/>\r\n    <dc:date>2021-08-19T09:55:42.009210</dc:date>\r\n    <dc:format>image/svg+xml</dc:format>\r\n    <dc:creator>\r\n     <cc:Agent>\r\n      <dc:title>Matplotlib v3.3.4, https://matplotlib.org/</dc:title>\r\n     </cc:Agent>\r\n    </dc:creator>\r\n   </cc:Work>\r\n  </rdf:RDF>\r\n </metadata>\r\n <defs>\r\n  <style type=\"text/css\">*{stroke-linecap:butt;stroke-linejoin:round;}</style>\r\n </defs>\r\n <g id=\"figure_1\">\r\n  <g id=\"patch_1\">\r\n   <path d=\"M -0 328.705 \r\nL 836.551316 328.705 \r\nL 836.551316 0 \r\nL -0 0 \r\nz\r\n\" style=\"fill:#f0f0f0;\"/>\r\n  </g>\r\n  <g id=\"axes_1\">\r\n   <g id=\"patch_2\">\r\n    <path d=\"M 72.840313 272.6275 \r\nL 824.520312 272.6275 \r\nL 824.520312 39.3475 \r\nL 72.840313 39.3475 \r\nz\r\n\" style=\"fill:#f0f0f0;\"/>\r\n   </g>\r\n   <g id=\"matplotlib.axis_1\">\r\n    <g id=\"xtick_1\">\r\n     <g id=\"line2d_1\">\r\n      <path clip-path=\"url(#p1e1d226024)\" d=\"M 72.840313 272.6275 \r\nL 72.840313 39.3475 \r\n\" style=\"fill:none;stroke:#cbcbcb;\"/>\r\n     </g>\r\n     <g id=\"line2d_2\">\r\n      <defs>\r\n       <path d=\"M 0 0 \r\nL 0 -3 \r\n\" id=\"mf7c1f7e345\" style=\"stroke:#000000;stroke-width:0.8;\"/>\r\n      </defs>\r\n      <g>\r\n       <use style=\"stroke:#000000;stroke-width:0.8;\" x=\"72.840313\" xlink:href=\"#mf7c1f7e345\" y=\"272.6275\"/>\r\n      </g>\r\n     </g>\r\n     <g id=\"text_1\">\r\n      <!-- 0.0 -->\r\n      <g transform=\"translate(63.598125 289.256562)scale(0.14 -0.14)\">\r\n       <defs>\r\n        <path d=\"M 4.34375 34.46875 \r\nQ 4.34375 53.515625 10.546875 63.28125 \r\nQ 16.75 73.046875 28.421875 73.046875 \r\nQ 50.828125 73.046875 50.828125 36.234375 \r\nQ 50.828125 18.0625 44.59375 8.421875 \r\nQ 38.375 -1.21875 26.8125 -1.21875 \r\nQ 15.875 -1.21875 10.109375 8.125 \r\nQ 4.34375 17.484375 4.34375 34.46875 \r\nz\r\nM 12.25 34.859375 \r\nQ 12.25 5.375 27.640625 5.375 \r\nQ 42.921875 5.375 42.921875 35.296875 \r\nQ 42.921875 66.40625 28.03125 66.40625 \r\nQ 12.25 66.40625 12.25 34.859375 \r\nz\r\n\" id=\"MalgunGothic-48\"/>\r\n        <path d=\"M 5.5625 4.296875 \r\nQ 5.5625 6.59375 7.171875 8.171875 \r\nQ 8.796875 9.765625 10.9375 9.765625 \r\nQ 13.09375 9.765625 14.703125 8.171875 \r\nQ 16.3125 6.59375 16.3125 4.296875 \r\nQ 16.3125 2.15625 14.71875 0.515625 \r\nQ 13.140625 -1.125 10.9375 -1.125 \r\nQ 8.734375 -1.125 7.140625 0.453125 \r\nQ 5.5625 2.046875 5.5625 4.296875 \r\nz\r\n\" id=\"MalgunGothic-46\"/>\r\n       </defs>\r\n       <use xlink:href=\"#MalgunGothic-48\"/>\r\n       <use x=\"55.078125\" xlink:href=\"#MalgunGothic-46\"/>\r\n       <use x=\"76.953125\" xlink:href=\"#MalgunGothic-48\"/>\r\n      </g>\r\n     </g>\r\n    </g>\r\n    <g id=\"xtick_2\">\r\n     <g id=\"line2d_3\">\r\n      <path clip-path=\"url(#p1e1d226024)\" d=\"M 179.593 272.6275 \r\nL 179.593 39.3475 \r\n\" style=\"fill:none;stroke:#cbcbcb;\"/>\r\n     </g>\r\n     <g id=\"line2d_4\">\r\n      <g>\r\n       <use style=\"stroke:#000000;stroke-width:0.8;\" x=\"179.593\" xlink:href=\"#mf7c1f7e345\" y=\"272.6275\"/>\r\n      </g>\r\n     </g>\r\n     <g id=\"text_2\">\r\n      <!-- 0.1 -->\r\n      <g transform=\"translate(170.350813 289.256562)scale(0.14 -0.14)\">\r\n       <defs>\r\n        <path d=\"M 34.859375 0 \r\nL 27.09375 0 \r\nL 27.09375 62.0625 \r\nQ 24.859375 59.8125 19.78125 57.203125 \r\nQ 14.703125 54.59375 10.5 53.5625 \r\nL 10.5 61.859375 \r\nQ 15.875 63.375 22.015625 66.796875 \r\nQ 28.171875 70.21875 31.734375 73.4375 \r\nL 34.859375 73.4375 \r\nz\r\n\" id=\"MalgunGothic-49\"/>\r\n       </defs>\r\n       <use xlink:href=\"#MalgunGothic-48\"/>\r\n       <use x=\"55.078125\" xlink:href=\"#MalgunGothic-46\"/>\r\n       <use x=\"76.953125\" xlink:href=\"#MalgunGothic-49\"/>\r\n      </g>\r\n     </g>\r\n    </g>\r\n    <g id=\"xtick_3\">\r\n     <g id=\"line2d_5\">\r\n      <path clip-path=\"url(#p1e1d226024)\" d=\"M 286.345688 272.6275 \r\nL 286.345688 39.3475 \r\n\" style=\"fill:none;stroke:#cbcbcb;\"/>\r\n     </g>\r\n     <g id=\"line2d_6\">\r\n      <g>\r\n       <use style=\"stroke:#000000;stroke-width:0.8;\" x=\"286.345688\" xlink:href=\"#mf7c1f7e345\" y=\"272.6275\"/>\r\n      </g>\r\n     </g>\r\n     <g id=\"text_3\">\r\n      <!-- 0.2 -->\r\n      <g transform=\"translate(277.103501 289.256562)scale(0.14 -0.14)\">\r\n       <defs>\r\n        <path d=\"M 39.359375 52.6875 \r\nQ 39.359375 59.125 35.546875 62.78125 \r\nQ 31.734375 66.453125 25.4375 66.453125 \r\nQ 20.953125 66.453125 16.453125 64.125 \r\nQ 11.96875 61.8125 8.34375 57.765625 \r\nL 8.34375 66.15625 \r\nQ 15.328125 73.046875 26.421875 73.046875 \r\nQ 35.640625 73.046875 41.28125 67.71875 \r\nQ 46.921875 62.40625 46.921875 53.375 \r\nQ 46.921875 45.609375 43.3125 39.765625 \r\nQ 39.703125 33.9375 31 27.734375 \r\nQ 22.796875 21.96875 19.59375 18.984375 \r\nQ 16.40625 16.015625 15.109375 13.34375 \r\nQ 13.8125 10.6875 13.8125 7.03125 \r\nL 48.6875 7.03125 \r\nL 48.6875 0 \r\nL 5.5625 0 \r\nL 5.5625 3.515625 \r\nQ 5.5625 9.421875 7.203125 13.59375 \r\nQ 8.84375 17.78125 12.671875 21.75 \r\nQ 16.5 25.734375 24.953125 31.59375 \r\nQ 32.671875 36.921875 36.015625 41.71875 \r\nQ 39.359375 46.53125 39.359375 52.6875 \r\nz\r\n\" id=\"MalgunGothic-50\"/>\r\n       </defs>\r\n       <use xlink:href=\"#MalgunGothic-48\"/>\r\n       <use x=\"55.078125\" xlink:href=\"#MalgunGothic-46\"/>\r\n       <use x=\"76.953125\" xlink:href=\"#MalgunGothic-50\"/>\r\n      </g>\r\n     </g>\r\n    </g>\r\n    <g id=\"xtick_4\">\r\n     <g id=\"line2d_7\">\r\n      <path clip-path=\"url(#p1e1d226024)\" d=\"M 393.098376 272.6275 \r\nL 393.098376 39.3475 \r\n\" style=\"fill:none;stroke:#cbcbcb;\"/>\r\n     </g>\r\n     <g id=\"line2d_8\">\r\n      <g>\r\n       <use style=\"stroke:#000000;stroke-width:0.8;\" x=\"393.098376\" xlink:href=\"#mf7c1f7e345\" y=\"272.6275\"/>\r\n      </g>\r\n     </g>\r\n     <g id=\"text_4\">\r\n      <!-- 0.3 -->\r\n      <g transform=\"translate(383.856189 289.256562)scale(0.14 -0.14)\">\r\n       <defs>\r\n        <path d=\"M 6.5 11.234375 \r\nQ 13.921875 5.375 23.09375 5.375 \r\nQ 30.609375 5.375 35.21875 9.171875 \r\nQ 39.84375 12.984375 39.84375 19.484375 \r\nQ 39.84375 33.890625 19.578125 33.890625 \r\nL 13.625 33.890625 \r\nL 13.625 40.484375 \r\nL 19.28125 40.484375 \r\nQ 37.3125 40.484375 37.3125 53.953125 \r\nQ 37.3125 66.40625 23.578125 66.40625 \r\nQ 15.96875 66.40625 9.28125 61.1875 \r\nL 9.28125 68.953125 \r\nQ 16.109375 73.046875 25.53125 73.046875 \r\nQ 34.125 73.046875 39.671875 68.3125 \r\nQ 45.21875 63.578125 45.21875 55.953125 \r\nQ 45.21875 41.84375 30.8125 37.640625 \r\nL 30.8125 37.5 \r\nQ 38.578125 36.8125 43.1875 32.078125 \r\nQ 47.796875 27.34375 47.796875 20.3125 \r\nQ 47.796875 10.5 40.6875 4.640625 \r\nQ 33.59375 -1.21875 22.65625 -1.21875 \r\nQ 12.59375 -1.21875 6.5 2.640625 \r\nz\r\n\" id=\"MalgunGothic-51\"/>\r\n       </defs>\r\n       <use xlink:href=\"#MalgunGothic-48\"/>\r\n       <use x=\"55.078125\" xlink:href=\"#MalgunGothic-46\"/>\r\n       <use x=\"76.953125\" xlink:href=\"#MalgunGothic-51\"/>\r\n      </g>\r\n     </g>\r\n    </g>\r\n    <g id=\"xtick_5\">\r\n     <g id=\"line2d_9\">\r\n      <path clip-path=\"url(#p1e1d226024)\" d=\"M 499.851064 272.6275 \r\nL 499.851064 39.3475 \r\n\" style=\"fill:none;stroke:#cbcbcb;\"/>\r\n     </g>\r\n     <g id=\"line2d_10\">\r\n      <g>\r\n       <use style=\"stroke:#000000;stroke-width:0.8;\" x=\"499.851064\" xlink:href=\"#mf7c1f7e345\" y=\"272.6275\"/>\r\n      </g>\r\n     </g>\r\n     <g id=\"text_5\">\r\n      <!-- 0.4 -->\r\n      <g transform=\"translate(490.608877 289.256562)scale(0.14 -0.14)\">\r\n       <defs>\r\n        <path d=\"M 42.234375 71.875 \r\nL 42.234375 24.421875 \r\nL 51.703125 24.421875 \r\nL 51.703125 17.390625 \r\nL 42.234375 17.390625 \r\nL 42.234375 0 \r\nL 34.578125 0 \r\nL 34.578125 17.390625 \r\nL 0.78125 17.390625 \r\nL 0.78125 23.96875 \r\nQ 11.375 35.890625 20.234375 48.578125 \r\nQ 29.109375 61.28125 33.9375 71.875 \r\nz\r\nM 9.765625 24.421875 \r\nL 34.578125 24.421875 \r\nL 34.578125 59.859375 \r\nQ 25.203125 43.5625 14.984375 30.953125 \r\nz\r\n\" id=\"MalgunGothic-52\"/>\r\n       </defs>\r\n       <use xlink:href=\"#MalgunGothic-48\"/>\r\n       <use x=\"55.078125\" xlink:href=\"#MalgunGothic-46\"/>\r\n       <use x=\"76.953125\" xlink:href=\"#MalgunGothic-52\"/>\r\n      </g>\r\n     </g>\r\n    </g>\r\n    <g id=\"xtick_6\">\r\n     <g id=\"line2d_11\">\r\n      <path clip-path=\"url(#p1e1d226024)\" d=\"M 606.603752 272.6275 \r\nL 606.603752 39.3475 \r\n\" style=\"fill:none;stroke:#cbcbcb;\"/>\r\n     </g>\r\n     <g id=\"line2d_12\">\r\n      <g>\r\n       <use style=\"stroke:#000000;stroke-width:0.8;\" x=\"606.603752\" xlink:href=\"#mf7c1f7e345\" y=\"272.6275\"/>\r\n      </g>\r\n     </g>\r\n     <g id=\"text_6\">\r\n      <!-- 0.5 -->\r\n      <g transform=\"translate(597.361565 289.256562)scale(0.14 -0.14)\">\r\n       <defs>\r\n        <path d=\"M 48 21.921875 \r\nQ 48 11.28125 41.1875 5.03125 \r\nQ 34.375 -1.21875 22.953125 -1.21875 \r\nQ 12.9375 -1.21875 8.0625 1.765625 \r\nL 8.0625 10.15625 \r\nQ 15.53125 5.375 23.046875 5.375 \r\nQ 30.765625 5.375 35.46875 9.84375 \r\nQ 40.1875 14.3125 40.1875 21.4375 \r\nQ 40.1875 28.71875 35.390625 32.6875 \r\nQ 30.609375 36.671875 21.578125 36.671875 \r\nQ 15.53125 36.671875 9.421875 35.9375 \r\nL 11.859375 71.875 \r\nL 44.828125 71.875 \r\nL 44.828125 64.796875 \r\nL 18.84375 64.796875 \r\nL 17.28125 43.171875 \r\nQ 21.046875 43.5 24.171875 43.5 \r\nQ 35.359375 43.5 41.671875 37.71875 \r\nQ 48 31.9375 48 21.921875 \r\nz\r\n\" id=\"MalgunGothic-53\"/>\r\n       </defs>\r\n       <use xlink:href=\"#MalgunGothic-48\"/>\r\n       <use x=\"55.078125\" xlink:href=\"#MalgunGothic-46\"/>\r\n       <use x=\"76.953125\" xlink:href=\"#MalgunGothic-53\"/>\r\n      </g>\r\n     </g>\r\n    </g>\r\n    <g id=\"xtick_7\">\r\n     <g id=\"line2d_13\">\r\n      <path clip-path=\"url(#p1e1d226024)\" d=\"M 713.35644 272.6275 \r\nL 713.35644 39.3475 \r\n\" style=\"fill:none;stroke:#cbcbcb;\"/>\r\n     </g>\r\n     <g id=\"line2d_14\">\r\n      <g>\r\n       <use style=\"stroke:#000000;stroke-width:0.8;\" x=\"713.35644\" xlink:href=\"#mf7c1f7e345\" y=\"272.6275\"/>\r\n      </g>\r\n     </g>\r\n     <g id=\"text_7\">\r\n      <!-- 0.6 -->\r\n      <g transform=\"translate(704.114253 289.256562)scale(0.14 -0.14)\">\r\n       <defs>\r\n        <path d=\"M 46.578125 63.578125 \r\nQ 40.921875 66.40625 34.8125 66.40625 \r\nQ 24.859375 66.40625 19.1875 57.640625 \r\nQ 13.53125 48.875 13.578125 34.578125 \r\nL 13.8125 34.578125 \r\nQ 18.796875 44.875 30.28125 44.875 \r\nQ 39.796875 44.875 45.359375 38.71875 \r\nQ 50.921875 32.5625 50.921875 22.65625 \r\nQ 50.921875 12.453125 44.640625 5.609375 \r\nQ 38.375 -1.21875 28.515625 -1.21875 \r\nQ 17.4375 -1.21875 11.5 7.46875 \r\nQ 5.5625 16.15625 5.5625 31.546875 \r\nQ 5.5625 49.703125 13.234375 61.375 \r\nQ 20.90625 73.046875 34.71875 73.046875 \r\nQ 42.1875 73.046875 46.578125 71 \r\nz\r\nM 14.15625 23.53125 \r\nQ 14.15625 15.96875 18.203125 10.671875 \r\nQ 22.265625 5.375 28.8125 5.375 \r\nQ 35.109375 5.375 39.03125 10.078125 \r\nQ 42.96875 14.796875 42.96875 21.6875 \r\nQ 42.96875 29.5 39.203125 33.859375 \r\nQ 35.453125 38.234375 28.71875 38.234375 \r\nQ 22.5625 38.234375 18.359375 33.953125 \r\nQ 14.15625 29.6875 14.15625 23.53125 \r\nz\r\n\" id=\"MalgunGothic-54\"/>\r\n       </defs>\r\n       <use xlink:href=\"#MalgunGothic-48\"/>\r\n       <use x=\"55.078125\" xlink:href=\"#MalgunGothic-46\"/>\r\n       <use x=\"76.953125\" xlink:href=\"#MalgunGothic-54\"/>\r\n      </g>\r\n     </g>\r\n    </g>\r\n    <g id=\"xtick_8\">\r\n     <g id=\"line2d_15\">\r\n      <path clip-path=\"url(#p1e1d226024)\" d=\"M 820.109128 272.6275 \r\nL 820.109128 39.3475 \r\n\" style=\"fill:none;stroke:#cbcbcb;\"/>\r\n     </g>\r\n     <g id=\"line2d_16\">\r\n      <g>\r\n       <use style=\"stroke:#000000;stroke-width:0.8;\" x=\"820.109128\" xlink:href=\"#mf7c1f7e345\" y=\"272.6275\"/>\r\n      </g>\r\n     </g>\r\n     <g id=\"text_8\">\r\n      <!-- 0.7 -->\r\n      <g transform=\"translate(810.866941 289.256562)scale(0.14 -0.14)\">\r\n       <defs>\r\n        <path d=\"M 50.203125 67.140625 \r\nQ 38.71875 46.96875 32.25 29.96875 \r\nQ 25.78125 12.984375 24.21875 0 \r\nL 15.765625 0 \r\nQ 16.9375 8.296875 20.15625 18.375 \r\nQ 23.390625 28.46875 28.359375 39.640625 \r\nQ 33.34375 50.828125 41.109375 64.796875 \r\nL 4.546875 64.796875 \r\nL 4.546875 71.875 \r\nL 50.203125 71.875 \r\nz\r\n\" id=\"MalgunGothic-55\"/>\r\n       </defs>\r\n       <use xlink:href=\"#MalgunGothic-48\"/>\r\n       <use x=\"55.078125\" xlink:href=\"#MalgunGothic-46\"/>\r\n       <use x=\"76.953125\" xlink:href=\"#MalgunGothic-55\"/>\r\n      </g>\r\n     </g>\r\n    </g>\r\n    <g id=\"text_9\">\r\n     <!-- 정답률 -->\r\n     <g transform=\"translate(427.680313 318.195312)scale(0.14 -0.14)\">\r\n      <defs>\r\n       <path d=\"M 74.8125 31.5 \r\nL 74.8125 54.296875 \r\nL 57.078125 54.296875 \r\nL 57.078125 64.109375 \r\nL 74.8125 64.109375 \r\nL 74.8125 85.40625 \r\nL 86.8125 85.40625 \r\nL 86.8125 31.5 \r\nz\r\nM 55.71875 33.015625 \r\nQ 41.75 39.9375 34.71875 50.203125 \r\nQ 32.125 44.828125 25.625 38.6875 \r\nQ 19.140625 32.5625 13.375 29.78125 \r\nL 4.6875 38.375 \r\nQ 14.5 42.09375 21.359375 50.265625 \r\nQ 28.21875 58.453125 28.21875 67.1875 \r\nL 28.21875 71 \r\nL 8.796875 71 \r\nL 8.796875 81.203125 \r\nL 59.421875 81.203125 \r\nL 59.421875 71 \r\nL 40.484375 71 \r\nL 40.484375 67.578125 \r\nQ 40.484375 59.1875 46.90625 52.390625 \r\nQ 53.328125 45.609375 63.484375 42.28125 \r\nz\r\nM 57.171875 -8.40625 \r\nQ 42.578125 -8.40625 34.390625 -2.953125 \r\nQ 26.21875 2.484375 26.21875 11.1875 \r\nQ 26.21875 19.828125 34.421875 25.3125 \r\nQ 42.625 30.8125 57.171875 30.8125 \r\nQ 71.78125 30.8125 80.03125 25.296875 \r\nQ 88.28125 19.78125 88.28125 11.1875 \r\nQ 88.28125 2.484375 80.046875 -2.953125 \r\nQ 71.828125 -8.40625 57.171875 -8.40625 \r\nz\r\nM 57.171875 20.703125 \r\nQ 47.859375 20.703125 43.234375 18.0625 \r\nQ 38.625 15.4375 38.625 11.1875 \r\nQ 38.625 6.9375 43.28125 4.3125 \r\nQ 47.953125 1.703125 57.171875 1.703125 \r\nQ 66.453125 1.703125 71.15625 4.296875 \r\nQ 75.875 6.890625 75.875 11.1875 \r\nQ 75.875 15.375 71.203125 18.03125 \r\nQ 66.546875 20.703125 57.171875 20.703125 \r\nz\r\n\" id=\"MalgunGothicBold-51221\"/>\r\n       <path d=\"M 82.171875 52.390625 \r\nL 82.171875 35.5 \r\nL 70.015625 35.5 \r\nL 70.015625 85.40625 \r\nL 82.171875 85.40625 \r\nL 82.171875 62.796875 \r\nL 96.484375 62.796875 \r\nL 96.484375 52.390625 \r\nz\r\nM 60.796875 41.609375 \r\nQ 43.703125 40.375 10.5 40.375 \r\nL 10.5 81.390625 \r\nL 56.5 81.390625 \r\nL 56.5 71 \r\nL 22.703125 71 \r\nL 22.703125 50.6875 \r\nQ 46.6875 50.6875 60.015625 51.90625 \r\nz\r\nM 23.1875 -6.78125 \r\nL 23.1875 31.59375 \r\nL 35.40625 31.59375 \r\nL 35.40625 21.484375 \r\nL 70.125 21.484375 \r\nL 70.125 31.59375 \r\nL 82.171875 31.59375 \r\nL 82.171875 -6.78125 \r\nz\r\nM 70.125 11.28125 \r\nL 35.40625 11.28125 \r\nL 35.40625 3.421875 \r\nL 70.125 3.421875 \r\nz\r\n\" id=\"MalgunGothicBold-45813\"/>\r\n       <path d=\"M 19.484375 48.390625 \r\nL 19.484375 70.796875 \r\nL 68.40625 70.796875 \r\nL 68.40625 75.484375 \r\nL 19.484375 75.484375 \r\nL 19.484375 84.71875 \r\nL 80.609375 84.71875 \r\nL 80.609375 62.59375 \r\nL 31.6875 62.59375 \r\nL 31.6875 57.625 \r\nL 82.71875 57.625 \r\nL 82.71875 48.390625 \r\nz\r\nM 19.09375 -7.71875 \r\nL 19.09375 15.09375 \r\nL 68.703125 15.09375 \r\nL 68.703125 19.921875 \r\nL 19.09375 19.921875 \r\nL 19.09375 29.109375 \r\nL 29.5 29.109375 \r\nL 29.5 34.90625 \r\nL 6.296875 34.90625 \r\nL 6.296875 44.671875 \r\nL 93.703125 44.671875 \r\nL 93.703125 34.90625 \r\nL 70.515625 34.90625 \r\nL 70.515625 29.109375 \r\nL 81 29.109375 \r\nL 81 6.5 \r\nL 31.296875 6.5 \r\nL 31.296875 1.515625 \r\nL 82.90625 1.515625 \r\nL 82.90625 -7.71875 \r\nz\r\nM 58.40625 29.109375 \r\nL 58.40625 34.90625 \r\nL 41.609375 34.90625 \r\nL 41.609375 29.109375 \r\nz\r\n\" id=\"MalgunGothicBold-47456\"/>\r\n      </defs>\r\n      <use xlink:href=\"#MalgunGothicBold-51221\"/>\r\n      <use x=\"100\" xlink:href=\"#MalgunGothicBold-45813\"/>\r\n      <use x=\"200\" xlink:href=\"#MalgunGothicBold-47456\"/>\r\n     </g>\r\n    </g>\r\n   </g>\r\n   <g id=\"matplotlib.axis_2\">\r\n    <g id=\"ytick_1\">\r\n     <g id=\"line2d_17\">\r\n      <path clip-path=\"url(#p1e1d226024)\" d=\"M 72.840313 214.3075 \r\nL 824.520312 214.3075 \r\n\" style=\"fill:none;stroke:#cbcbcb;\"/>\r\n     </g>\r\n     <g id=\"line2d_18\">\r\n      <defs>\r\n       <path d=\"M 0 0 \r\nL 3 0 \r\n\" id=\"m371cbbba61\" style=\"stroke:#000000;stroke-width:0.8;\"/>\r\n      </defs>\r\n      <g>\r\n       <use style=\"stroke:#000000;stroke-width:0.8;\" x=\"72.840313\" xlink:href=\"#m371cbbba61\" y=\"214.3075\"/>\r\n      </g>\r\n     </g>\r\n     <g id=\"text_10\">\r\n      <!-- False -->\r\n      <g transform=\"translate(36.13875 219.622031)scale(0.14 -0.14)\">\r\n       <defs>\r\n        <path d=\"M 45.65625 64.59375 \r\nL 17.390625 64.59375 \r\nL 17.390625 39.3125 \r\nL 43.5625 39.3125 \r\nL 43.5625 32.03125 \r\nL 17.390625 32.03125 \r\nL 17.390625 0 \r\nL 9.515625 0 \r\nL 9.515625 71.875 \r\nL 45.65625 71.875 \r\nz\r\n\" id=\"MalgunGothic-70\"/>\r\n        <path d=\"M 9.625 47.65625 \r\nQ 17.140625 52.484375 26.90625 52.484375 \r\nQ 44.78125 52.484375 44.78125 33.546875 \r\nL 44.78125 0 \r\nL 37.015625 0 \r\nL 37.015625 8.0625 \r\nL 36.71875 8.0625 \r\nQ 31.390625 -1.21875 20.953125 -1.21875 \r\nQ 13.421875 -1.21875 9 2.8125 \r\nQ 4.59375 6.84375 4.59375 13.578125 \r\nQ 4.59375 27.875 21.484375 30.21875 \r\nL 36.96875 32.46875 \r\nQ 36.96875 45.84375 26.3125 45.84375 \r\nQ 16.9375 45.84375 9.625 39.453125 \r\nz\r\nM 24.421875 24.359375 \r\nQ 18.40625 23.578125 15.515625 21.421875 \r\nQ 12.640625 19.28125 12.640625 14.109375 \r\nQ 12.640625 10.203125 15.40625 7.8125 \r\nQ 18.171875 5.421875 22.65625 5.421875 \r\nQ 28.859375 5.421875 32.90625 9.8125 \r\nQ 36.96875 14.203125 36.96875 20.84375 \r\nL 36.96875 26.03125 \r\nz\r\n\" id=\"MalgunGothic-97\"/>\r\n        <path d=\"M 8.453125 0 \r\nL 8.453125 75.921875 \r\nL 16.15625 75.921875 \r\nL 16.15625 0 \r\nz\r\n\" id=\"MalgunGothic-108\"/>\r\n        <path d=\"M 5.171875 10.453125 \r\nQ 11.921875 5.46875 19.96875 5.46875 \r\nQ 30.90625 5.46875 30.90625 12.84375 \r\nQ 30.90625 16.015625 28.515625 18.09375 \r\nQ 26.125 20.171875 19.09375 22.796875 \r\nQ 10.984375 26.03125 8.125 29.34375 \r\nQ 5.28125 32.671875 5.28125 37.75 \r\nQ 5.28125 44.28125 10.9375 48.375 \r\nQ 16.609375 52.484375 24.75 52.484375 \r\nQ 31.296875 52.484375 36.578125 50.203125 \r\nL 36.578125 42.140625 \r\nQ 30.859375 45.84375 23.53125 45.84375 \r\nQ 18.75 45.84375 16.015625 43.71875 \r\nQ 13.28125 41.609375 13.28125 38.421875 \r\nQ 13.28125 35.015625 15.296875 33.203125 \r\nQ 17.328125 31.390625 24.125 28.71875 \r\nQ 33.296875 25.140625 36.078125 21.71875 \r\nQ 38.875 18.3125 38.875 13.578125 \r\nQ 38.875 6.734375 33.234375 2.75 \r\nQ 27.59375 -1.21875 18.796875 -1.21875 \r\nQ 10.84375 -1.21875 5.171875 1.90625 \r\nz\r\n\" id=\"MalgunGothic-115\"/>\r\n        <path d=\"M 49.3125 23.734375 \r\nL 12.9375 23.734375 \r\nQ 13.1875 14.84375 17.703125 10.125 \r\nQ 22.21875 5.421875 29.828125 5.421875 \r\nQ 38.625 5.421875 45.84375 11.234375 \r\nL 45.84375 3.8125 \r\nQ 38.96875 -1.21875 28.03125 -1.21875 \r\nQ 17.1875 -1.21875 11.0625 5.875 \r\nQ 4.9375 12.984375 4.9375 25.53125 \r\nQ 4.9375 37.203125 11.671875 44.84375 \r\nQ 18.40625 52.484375 28.375 52.484375 \r\nQ 38.328125 52.484375 43.8125 45.96875 \r\nQ 49.3125 39.453125 49.3125 27.9375 \r\nz\r\nM 41.3125 30.5625 \r\nQ 41.3125 37.75 37.859375 41.796875 \r\nQ 34.421875 45.84375 28.265625 45.84375 \r\nQ 22.46875 45.84375 18.265625 41.671875 \r\nQ 14.0625 37.5 13.03125 30.5625 \r\nz\r\n\" id=\"MalgunGothic-101\"/>\r\n       </defs>\r\n       <use xlink:href=\"#MalgunGothic-70\"/>\r\n       <use x=\"45.853516\" xlink:href=\"#MalgunGothic-97\"/>\r\n       <use x=\"97.855469\" xlink:href=\"#MalgunGothic-108\"/>\r\n       <use x=\"122.464844\" xlink:href=\"#MalgunGothic-115\"/>\r\n       <use x=\"165.775391\" xlink:href=\"#MalgunGothic-101\"/>\r\n      </g>\r\n     </g>\r\n    </g>\r\n    <g id=\"ytick_2\">\r\n     <g id=\"line2d_19\">\r\n      <path clip-path=\"url(#p1e1d226024)\" d=\"M 72.840313 97.6675 \r\nL 824.520312 97.6675 \r\n\" style=\"fill:none;stroke:#cbcbcb;\"/>\r\n     </g>\r\n     <g id=\"line2d_20\">\r\n      <g>\r\n       <use style=\"stroke:#000000;stroke-width:0.8;\" x=\"72.840313\" xlink:href=\"#m371cbbba61\" y=\"97.6675\"/>\r\n      </g>\r\n     </g>\r\n     <g id=\"text_11\">\r\n      <!-- True -->\r\n      <g transform=\"translate(40.144063 102.982031)scale(0.14 -0.14)\">\r\n       <defs>\r\n        <path d=\"M 51.46875 64.59375 \r\nL 30.71875 64.59375 \r\nL 30.71875 0 \r\nL 22.75 0 \r\nL 22.75 64.59375 \r\nL 2.09375 64.59375 \r\nL 2.09375 71.875 \r\nL 51.46875 71.875 \r\nz\r\n\" id=\"MalgunGothic-84\"/>\r\n        <path d=\"M 34.765625 43.359375 \r\nQ 32.5625 45.015625 28.5625 45.015625 \r\nQ 23.296875 45.015625 19.71875 39.890625 \r\nQ 16.15625 34.765625 16.15625 26.265625 \r\nL 16.15625 0 \r\nL 8.40625 0 \r\nL 8.40625 51.3125 \r\nL 16.15625 51.3125 \r\nL 16.15625 40.671875 \r\nL 16.359375 40.671875 \r\nQ 18.109375 46.09375 21.703125 49.140625 \r\nQ 25.296875 52.203125 29.734375 52.203125 \r\nQ 32.953125 52.203125 34.765625 51.515625 \r\nz\r\n\" id=\"MalgunGothic-114\"/>\r\n        <path d=\"M 49.46875 0 \r\nL 41.703125 0 \r\nL 41.703125 8.109375 \r\nL 41.5 8.109375 \r\nQ 36.421875 -1.21875 25.6875 -1.21875 \r\nQ 7.328125 -1.21875 7.328125 20.65625 \r\nL 7.328125 51.3125 \r\nL 14.984375 51.3125 \r\nL 14.984375 21.921875 \r\nQ 14.984375 5.375 27.59375 5.375 \r\nQ 33.734375 5.375 37.71875 9.9375 \r\nQ 41.703125 14.5 41.703125 21.78125 \r\nL 41.703125 51.3125 \r\nL 49.46875 51.3125 \r\nz\r\n\" id=\"MalgunGothic-117\"/>\r\n       </defs>\r\n       <use xlink:href=\"#MalgunGothic-84\"/>\r\n       <use x=\"43.994141\" xlink:href=\"#MalgunGothic-114\"/>\r\n       <use x=\"79.345703\" xlink:href=\"#MalgunGothic-117\"/>\r\n       <use x=\"137.158203\" xlink:href=\"#MalgunGothic-101\"/>\r\n      </g>\r\n     </g>\r\n    </g>\r\n    <g id=\"text_12\">\r\n     <!-- 강의 시청 유무 -->\r\n     <g transform=\"translate(17.829063 202.909375)rotate(-90)scale(0.14 -0.14)\">\r\n      <defs>\r\n       <path d=\"M 82.171875 52 \r\nL 82.171875 30.421875 \r\nL 69.921875 30.421875 \r\nL 69.921875 85.40625 \r\nL 82.171875 85.40625 \r\nL 82.171875 62.3125 \r\nL 96.484375 62.3125 \r\nL 96.484375 52 \r\nz\r\nM 57.71875 80.328125 \r\nQ 52.78125 47.078125 14.890625 29.984375 \r\nL 6.203125 39.5 \r\nQ 18.65625 42.96875 28.46875 51.390625 \r\nQ 38.28125 59.8125 42.1875 70.015625 \r\nL 12.109375 70.015625 \r\nL 12.109375 80.328125 \r\nz\r\nM 52.296875 -8.40625 \r\nQ 37.3125 -8.40625 29.109375 -3.25 \r\nQ 20.90625 1.90625 20.90625 10.40625 \r\nQ 20.90625 18.84375 29.203125 23.921875 \r\nQ 37.5 29 52.296875 29 \r\nQ 67.140625 29 75.40625 23.9375 \r\nQ 83.6875 18.890625 83.6875 10.40625 \r\nQ 83.6875 1.859375 75.453125 -3.265625 \r\nQ 67.234375 -8.40625 52.296875 -8.40625 \r\nz\r\nM 52.296875 18.796875 \r\nQ 33.59375 18.796875 33.59375 10.40625 \r\nQ 33.59375 1.8125 52.296875 1.8125 \r\nQ 71.09375 1.8125 71.09375 10.40625 \r\nQ 71.09375 18.796875 52.296875 18.796875 \r\nz\r\n\" id=\"MalgunGothicBold-44053\"/>\r\n       <path d=\"M 75 -8.796875 \r\nL 75 85.40625 \r\nL 87.109375 85.40625 \r\nL 87.109375 -8.796875 \r\nz\r\nM 36.375 32.171875 \r\nQ 25.296875 32.171875 17.796875 38.734375 \r\nQ 10.296875 45.3125 10.296875 55.8125 \r\nQ 10.296875 66.40625 17.96875 73 \r\nQ 25.640625 79.59375 36.921875 79.59375 \r\nQ 48.09375 79.59375 55.390625 73 \r\nQ 62.703125 66.40625 62.703125 55.8125 \r\nQ 62.703125 45.359375 55.125 38.765625 \r\nQ 47.5625 32.171875 36.375 32.171875 \r\nz\r\nM 36.53125 69.28125 \r\nQ 30.328125 69.28125 26.5625 65.46875 \r\nQ 22.796875 61.671875 22.796875 55.8125 \r\nQ 22.796875 50.046875 26.65625 46.265625 \r\nQ 30.515625 42.484375 36.53125 42.484375 \r\nQ 42.625 42.484375 46.40625 46.3125 \r\nQ 50.203125 50.140625 50.203125 55.8125 \r\nQ 50.203125 61.53125 46.359375 65.40625 \r\nQ 42.53125 69.28125 36.53125 69.28125 \r\nz\r\nM 4.984375 6.78125 \r\nL 3.71875 17.09375 \r\nQ 48.4375 17.09375 70.703125 18.5 \r\nL 71.390625 8.40625 \r\nQ 40.375 6.78125 4.984375 6.78125 \r\nz\r\n\" id=\"MalgunGothicBold-51032\"/>\r\n       <path id=\"MalgunGothicBold-32\"/>\r\n       <path d=\"M 73 -8.796875 \r\nL 73 85.40625 \r\nL 85.203125 85.40625 \r\nL 85.203125 -8.796875 \r\nz\r\nM 57.625 14.59375 \r\nQ 44.046875 23.921875 35.984375 37.890625 \r\nQ 28.328125 22.859375 14.3125 12.984375 \r\nL 4.78125 21.578125 \r\nQ 15.765625 27.25 22.828125 38.25 \r\nQ 29.890625 49.265625 29.890625 60.796875 \r\nL 29.890625 79.109375 \r\nL 42.1875 79.109375 \r\nL 42.1875 61.078125 \r\nQ 42.1875 49.859375 49.046875 39.3125 \r\nQ 55.90625 28.765625 66.21875 24.3125 \r\nz\r\n\" id=\"MalgunGothicBold-49884\"/>\r\n       <path d=\"M 59.421875 32.515625 \r\nQ 46.625 37.703125 37.109375 48.390625 \r\nQ 34.234375 43.40625 27.984375 37.8125 \r\nQ 21.734375 32.234375 15.578125 29.203125 \r\nL 7.328125 37.40625 \r\nQ 18.21875 41.75 24.40625 48.96875 \r\nQ 30.609375 56.203125 30.609375 64.59375 \r\nL 30.609375 66.21875 \r\nL 9.90625 66.21875 \r\nL 9.90625 76.21875 \r\nL 30.71875 76.21875 \r\nL 30.71875 86.71875 \r\nL 43.015625 86.71875 \r\nL 43.015625 76.21875 \r\nL 63.71875 76.21875 \r\nL 63.71875 66.21875 \r\nL 43.015625 66.21875 \r\nL 43.015625 64.3125 \r\nQ 43.015625 56.59375 49.578125 50.21875 \r\nQ 56.15625 43.84375 66.40625 41.3125 \r\nz\r\nM 74.8125 30.515625 \r\nL 74.8125 50.6875 \r\nL 57.71875 50.6875 \r\nL 57.71875 60.796875 \r\nL 74.8125 60.796875 \r\nL 74.8125 85.40625 \r\nL 86.8125 85.40625 \r\nL 86.8125 30.515625 \r\nz\r\nM 57.171875 -8.5 \r\nQ 42.4375 -8.5 34.328125 -3.296875 \r\nQ 26.21875 1.90625 26.21875 10.5 \r\nQ 26.21875 19.046875 34.375 24.265625 \r\nQ 42.53125 29.5 57.171875 29.5 \r\nQ 71.875 29.5 80.078125 24.1875 \r\nQ 88.28125 18.890625 88.28125 10.296875 \r\nQ 88.28125 1.765625 80.125 -3.359375 \r\nQ 71.96875 -8.5 57.171875 -8.5 \r\nz\r\nM 57.171875 19.390625 \r\nQ 47.859375 19.390625 43.234375 16.984375 \r\nQ 38.625 14.59375 38.625 10.5 \r\nQ 38.625 6.390625 43.234375 4 \r\nQ 47.859375 1.609375 57.171875 1.609375 \r\nQ 66.546875 1.609375 71.203125 3.96875 \r\nQ 75.875 6.34375 75.875 10.5 \r\nQ 75.875 14.546875 71.234375 16.96875 \r\nQ 66.609375 19.390625 57.171875 19.390625 \r\nz\r\n\" id=\"MalgunGothicBold-52397\"/>\r\n       <path d=\"M 50 40.71875 \r\nQ 35.75 40.71875 27.171875 46.96875 \r\nQ 18.609375 53.21875 18.609375 62.703125 \r\nQ 18.609375 72.078125 27.125 78.078125 \r\nQ 35.640625 84.078125 49.8125 84.078125 \r\nQ 64.15625 84.078125 72.671875 78.09375 \r\nQ 81.203125 72.125 81.203125 62.703125 \r\nQ 81.203125 53.46875 72.53125 47.09375 \r\nQ 63.875 40.71875 50 40.71875 \r\nz\r\nM 49.8125 74.125 \r\nQ 40.921875 74.125 36.015625 70.890625 \r\nQ 31.109375 67.671875 31.109375 62.703125 \r\nQ 31.109375 57.765625 36.078125 54.53125 \r\nQ 41.0625 51.3125 49.8125 51.3125 \r\nQ 58.546875 51.3125 63.515625 54.53125 \r\nQ 68.5 57.765625 68.5 62.703125 \r\nQ 68.5 67.78125 63.5 70.953125 \r\nQ 58.5 74.125 49.8125 74.125 \r\nz\r\nM 28.421875 -8.6875 \r\nL 28.421875 22.515625 \r\nL 6.296875 22.515625 \r\nL 6.296875 32.8125 \r\nL 93.703125 32.8125 \r\nL 93.703125 22.515625 \r\nL 71.578125 22.515625 \r\nL 71.578125 -8.6875 \r\nL 59.421875 -8.6875 \r\nL 59.421875 22.515625 \r\nL 40.578125 22.515625 \r\nL 40.578125 -8.6875 \r\nz\r\n\" id=\"MalgunGothicBold-50976\"/>\r\n       <path d=\"M 19.828125 44.671875 \r\nL 19.828125 81.984375 \r\nL 79.984375 81.984375 \r\nL 79.984375 44.671875 \r\nz\r\nM 67.828125 71.6875 \r\nL 32.078125 71.6875 \r\nL 32.078125 54.890625 \r\nL 67.828125 54.890625 \r\nz\r\nM 56.109375 23.484375 \r\nL 56.109375 -8.796875 \r\nL 43.796875 -8.796875 \r\nL 43.796875 23.484375 \r\nL 6.296875 23.484375 \r\nL 6.296875 33.890625 \r\nL 93.703125 33.890625 \r\nL 93.703125 23.484375 \r\nz\r\n\" id=\"MalgunGothicBold-47924\"/>\r\n      </defs>\r\n      <use xlink:href=\"#MalgunGothicBold-44053\"/>\r\n      <use x=\"100\" xlink:href=\"#MalgunGothicBold-51032\"/>\r\n      <use x=\"200\" xlink:href=\"#MalgunGothicBold-32\"/>\r\n      <use x=\"235.15625\" xlink:href=\"#MalgunGothicBold-49884\"/>\r\n      <use x=\"335.15625\" xlink:href=\"#MalgunGothicBold-52397\"/>\r\n      <use x=\"435.15625\" xlink:href=\"#MalgunGothicBold-32\"/>\r\n      <use x=\"470.3125\" xlink:href=\"#MalgunGothicBold-50976\"/>\r\n      <use x=\"570.3125\" xlink:href=\"#MalgunGothicBold-47924\"/>\r\n     </g>\r\n    </g>\r\n   </g>\r\n   <g id=\"patch_3\">\r\n    <path clip-path=\"url(#p1e1d226024)\" d=\"M 72.840313 243.4675 \r\nL 683.48245 243.4675 \r\nL 683.48245 185.1475 \r\nL 72.840313 185.1475 \r\nz\r\n\" style=\"fill:#9467bd;\"/>\r\n   </g>\r\n   <g id=\"patch_4\">\r\n    <path clip-path=\"url(#p1e1d226024)\" d=\"M 72.840313 126.8275 \r\nL 788.726027 126.8275 \r\nL 788.726027 68.5075 \r\nL 72.840313 68.5075 \r\nz\r\n\" style=\"fill:#9467bd;\"/>\r\n   </g>\r\n   <g id=\"patch_5\">\r\n    <path d=\"M 72.840313 272.6275 \r\nL 72.840313 39.3475 \r\n\" style=\"fill:none;stroke:#f0f0f0;stroke-linecap:square;stroke-linejoin:miter;stroke-width:3;\"/>\r\n   </g>\r\n   <g id=\"patch_6\">\r\n    <path d=\"M 824.520312 272.6275 \r\nL 824.520312 39.3475 \r\n\" style=\"fill:none;stroke:#f0f0f0;stroke-linecap:square;stroke-linejoin:miter;stroke-width:3;\"/>\r\n   </g>\r\n   <g id=\"patch_7\">\r\n    <path d=\"M 72.840313 272.6275 \r\nL 824.520312 272.6275 \r\n\" style=\"fill:none;stroke:#f0f0f0;stroke-linecap:square;stroke-linejoin:miter;stroke-width:3;\"/>\r\n   </g>\r\n   <g id=\"patch_8\">\r\n    <path d=\"M 72.840313 39.3475 \r\nL 824.520312 39.3475 \r\n\" style=\"fill:none;stroke:#f0f0f0;stroke-linecap:square;stroke-linejoin:miter;stroke-width:3;\"/>\r\n   </g>\r\n   <g id=\"text_13\">\r\n    <!-- 0.57 -->\r\n    <g style=\"fill:#ffffff;\" transform=\"translate(655.478075 217.967187)scale(0.14 -0.14)\">\r\n     <defs>\r\n      <path d=\"M 3.765625 34.71875 \r\nQ 3.765625 53.46875 10.46875 63.25 \r\nQ 17.1875 73.046875 29.984375 73.046875 \r\nQ 54.296875 73.046875 54.296875 36.375 \r\nQ 54.296875 18.3125 47.671875 8.515625 \r\nQ 41.0625 -1.265625 28.515625 -1.265625 \r\nQ 3.765625 -1.265625 3.765625 34.71875 \r\nz\r\nM 17.578125 35.0625 \r\nQ 17.578125 9.375 29.109375 9.375 \r\nQ 40.375 9.375 40.375 35.75 \r\nQ 40.375 62.453125 29.34375 62.453125 \r\nQ 17.578125 62.453125 17.578125 35.0625 \r\nz\r\n\" id=\"MalgunGothicBold-48\"/>\r\n      <path d=\"M 4.828125 6.25 \r\nQ 4.828125 9.515625 7.296875 11.609375 \r\nQ 9.765625 13.71875 13.140625 13.71875 \r\nQ 16.5 13.71875 18.890625 11.609375 \r\nQ 21.296875 9.515625 21.296875 6.25 \r\nQ 21.296875 2.9375 18.890625 0.859375 \r\nQ 16.5 -1.21875 12.9375 -1.21875 \r\nQ 9.578125 -1.21875 7.203125 0.921875 \r\nQ 4.828125 3.078125 4.828125 6.25 \r\nz\r\n\" id=\"MalgunGothicBold-46\"/>\r\n      <path d=\"M 7.375 2.15625 \r\nL 7.375 14.5 \r\nQ 10.640625 12.015625 14.8125 10.6875 \r\nQ 19 9.375 23 9.375 \r\nQ 29.890625 9.375 33.84375 12.6875 \r\nQ 37.796875 16.015625 37.796875 21.921875 \r\nQ 37.796875 28.078125 33.609375 30.875 \r\nQ 29.4375 33.6875 20.796875 33.6875 \r\nQ 14.9375 33.6875 8.5 32.671875 \r\nL 11.1875 71.875 \r\nL 48.390625 71.875 \r\nL 48.390625 60.546875 \r\nL 22.40625 60.546875 \r\nL 21.1875 43.84375 \r\nQ 26.65625 44.484375 28.421875 44.484375 \r\nQ 38.921875 44.484375 45.28125 38.71875 \r\nQ 51.65625 32.953125 51.65625 23.390625 \r\nQ 51.65625 11.8125 44.328125 5.265625 \r\nQ 37.015625 -1.265625 24.3125 -1.265625 \r\nQ 13.671875 -1.265625 7.375 2.15625 \r\nz\r\n\" id=\"MalgunGothicBold-53\"/>\r\n      <path d=\"M 53.5625 64.359375 \r\nQ 42 42.828125 37.0625 29.078125 \r\nQ 32.125 15.328125 29.9375 0 \r\nL 15.875 0 \r\nQ 18.171875 14.40625 23.75 29.078125 \r\nQ 29.34375 43.75 39.40625 60.546875 \r\nL 4.6875 60.546875 \r\nL 4.6875 71.875 \r\nL 53.5625 71.875 \r\nz\r\n\" id=\"MalgunGothicBold-55\"/>\r\n     </defs>\r\n     <use xlink:href=\"#MalgunGothicBold-48\"/>\r\n     <use x=\"57.958984\" xlink:href=\"#MalgunGothicBold-46\"/>\r\n     <use x=\"84.130859\" xlink:href=\"#MalgunGothicBold-53\"/>\r\n     <use x=\"142.089844\" xlink:href=\"#MalgunGothicBold-55\"/>\r\n    </g>\r\n   </g>\r\n   <g id=\"text_14\">\r\n    <!-- 0.67 -->\r\n    <g style=\"fill:#ffffff;\" transform=\"translate(760.721652 101.327187)scale(0.14 -0.14)\">\r\n     <defs>\r\n      <path d=\"M 49.46875 59.421875 \r\nQ 44.046875 62.453125 37.59375 62.453125 \r\nQ 28.953125 62.453125 23.84375 55.4375 \r\nQ 18.75 48.4375 18.75 37.5 \r\nL 19.046875 37.5 \r\nQ 24.171875 45.84375 34.515625 45.84375 \r\nQ 43.609375 45.84375 48.96875 39.671875 \r\nQ 54.34375 33.5 54.34375 23.578125 \r\nQ 54.34375 12.703125 47.5 5.71875 \r\nQ 40.671875 -1.265625 30.171875 -1.265625 \r\nQ 18.015625 -1.265625 11.59375 7.671875 \r\nQ 5.171875 16.609375 5.171875 31.984375 \r\nQ 5.171875 50.203125 13.5625 61.625 \r\nQ 21.96875 73.046875 36.8125 73.046875 \r\nQ 45.015625 73.046875 49.46875 71.046875 \r\nz\r\nM 19.234375 23.578125 \r\nQ 19.234375 17.78125 22.21875 13.578125 \r\nQ 25.203125 9.375 30.21875 9.375 \r\nQ 35.15625 9.375 38.03125 13.125 \r\nQ 40.921875 16.890625 40.921875 22.609375 \r\nQ 40.921875 35.5 30.171875 35.5 \r\nQ 25.34375 35.5 22.28125 32.109375 \r\nQ 19.234375 28.71875 19.234375 23.578125 \r\nz\r\n\" id=\"MalgunGothicBold-54\"/>\r\n     </defs>\r\n     <use xlink:href=\"#MalgunGothicBold-48\"/>\r\n     <use x=\"57.958984\" xlink:href=\"#MalgunGothicBold-46\"/>\r\n     <use x=\"84.130859\" xlink:href=\"#MalgunGothicBold-54\"/>\r\n     <use x=\"142.089844\" xlink:href=\"#MalgunGothicBold-55\"/>\r\n    </g>\r\n   </g>\r\n   <g id=\"text_15\">\r\n    <!-- 강의 시청 유무에 따른 정답률 -->\r\n    <g transform=\"translate(341.430313 19.3475)scale(0.16 -0.16)\">\r\n     <defs>\r\n      <path d=\"M 76.90625 -8.796875 \r\nL 76.90625 85.40625 \r\nL 88.71875 85.40625 \r\nL 88.71875 -8.796875 \r\nz\r\nM 49.515625 52.390625 \r\nL 58.984375 52.390625 \r\nL 58.984375 83.5 \r\nL 70.515625 83.5 \r\nL 70.515625 -6 \r\nL 58.984375 -6 \r\nL 58.984375 42 \r\nL 49.609375 42 \r\nQ 48.78125 28.125 43.3125 21.109375 \r\nQ 37.84375 14.109375 28.421875 14.109375 \r\nQ 17.96875 14.109375 12.46875 22.484375 \r\nQ 6.984375 30.859375 6.984375 46.6875 \r\nQ 6.984375 62.453125 12.5 70.875 \r\nQ 18.015625 79.296875 28.421875 79.296875 \r\nQ 37.640625 79.296875 43.078125 72.53125 \r\nQ 48.53125 65.765625 49.515625 52.390625 \r\nz\r\nM 28.421875 68.890625 \r\nQ 18.796875 68.890625 18.796875 46.6875 \r\nQ 18.796875 24.515625 28.421875 24.515625 \r\nQ 33.015625 24.515625 35.5 30.21875 \r\nQ 37.984375 35.9375 37.984375 46.6875 \r\nQ 37.984375 57.375 35.515625 63.125 \r\nQ 33.0625 68.890625 28.421875 68.890625 \r\nz\r\n\" id=\"MalgunGothicBold-50640\"/>\r\n      <path d=\"M 84.078125 38.921875 \r\nL 84.078125 -8.796875 \r\nL 71.78125 -8.796875 \r\nL 71.78125 85.40625 \r\nL 84.078125 85.40625 \r\nL 84.078125 49.21875 \r\nL 97.40625 49.21875 \r\nL 97.40625 38.921875 \r\nz\r\nM 69 17.390625 \r\nQ 62.015625 15.625 39.40625 15.625 \r\nL 39.40625 77.296875 \r\nL 64.703125 77.296875 \r\nL 64.703125 67.09375 \r\nL 51.515625 67.09375 \r\nL 51.515625 25.78125 \r\nQ 60.0625 25.78125 67.578125 27.484375 \r\nz\r\nM 37.015625 17.921875 \r\nQ 27.640625 15.71875 9.515625 15.71875 \r\nL 9.515625 77.296875 \r\nL 34.90625 77.296875 \r\nL 34.90625 67.09375 \r\nL 21.6875 67.09375 \r\nL 21.6875 25.875 \r\nQ 29 25.875 35.203125 27.875 \r\nz\r\n\" id=\"MalgunGothicBold-46384\"/>\r\n      <path d=\"M 20.125 42.390625 \r\nL 20.125 67.921875 \r\nL 67.671875 67.921875 \r\nL 67.671875 73.6875 \r\nL 20.125 73.6875 \r\nL 20.125 83.6875 \r\nL 79.890625 83.6875 \r\nL 79.890625 58.796875 \r\nL 32.328125 58.796875 \r\nL 32.328125 52.390625 \r\nL 81.984375 52.390625 \r\nL 81.984375 42.390625 \r\nz\r\nM 6.296875 25.09375 \r\nL 6.296875 35.296875 \r\nL 93.703125 35.296875 \r\nL 93.703125 25.09375 \r\nz\r\nM 19.1875 -6.109375 \r\nL 19.1875 20.3125 \r\nL 31.5 20.3125 \r\nL 31.5 4.203125 \r\nL 82.078125 4.203125 \r\nL 82.078125 -6.109375 \r\nz\r\n\" id=\"MalgunGothicBold-47480\"/>\r\n     </defs>\r\n     <use xlink:href=\"#MalgunGothicBold-44053\"/>\r\n     <use x=\"100\" xlink:href=\"#MalgunGothicBold-51032\"/>\r\n     <use x=\"200\" xlink:href=\"#MalgunGothicBold-32\"/>\r\n     <use x=\"235.15625\" xlink:href=\"#MalgunGothicBold-49884\"/>\r\n     <use x=\"335.15625\" xlink:href=\"#MalgunGothicBold-52397\"/>\r\n     <use x=\"435.15625\" xlink:href=\"#MalgunGothicBold-32\"/>\r\n     <use x=\"470.3125\" xlink:href=\"#MalgunGothicBold-50976\"/>\r\n     <use x=\"570.3125\" xlink:href=\"#MalgunGothicBold-47924\"/>\r\n     <use x=\"670.3125\" xlink:href=\"#MalgunGothicBold-50640\"/>\r\n     <use x=\"770.3125\" xlink:href=\"#MalgunGothicBold-32\"/>\r\n     <use x=\"805.46875\" xlink:href=\"#MalgunGothicBold-46384\"/>\r\n     <use x=\"905.46875\" xlink:href=\"#MalgunGothicBold-47480\"/>\r\n     <use x=\"1005.46875\" xlink:href=\"#MalgunGothicBold-32\"/>\r\n     <use x=\"1040.625\" xlink:href=\"#MalgunGothicBold-51221\"/>\r\n     <use x=\"1140.625\" xlink:href=\"#MalgunGothicBold-45813\"/>\r\n     <use x=\"1240.625\" xlink:href=\"#MalgunGothicBold-47456\"/>\r\n    </g>\r\n   </g>\r\n  </g>\r\n </g>\r\n <defs>\r\n  <clipPath id=\"p1e1d226024\">\r\n   <rect height=\"233.28\" width=\"751.68\" x=\"72.840313\" y=\"39.3475\"/>\r\n  </clipPath>\r\n </defs>\r\n</svg>\r\n",
      "image/png": "[encoded data removed]"
     },
     "metadata": {}
    }
   ],
   "metadata": {
    "scrolled": true
   }
  },
  {
   "cell_type": "code",
   "execution_count": 17,
   "source": [
    "train.task_container_id"
   ],
   "outputs": [
    {
     "output_type": "execute_result",
     "data": {
      "text/plain": [
       "0            1\n",
       "1            2\n",
       "2            0\n",
       "3            3\n",
       "4            4\n",
       "          ... \n",
       "9999995    410\n",
       "9999996    411\n",
       "9999997    412\n",
       "9999998    413\n",
       "9999999    414\n",
       "Name: task_container_id, Length: 10000000, dtype: int64"
      ]
     },
     "metadata": {},
     "execution_count": 17
    }
   ],
   "metadata": {}
  },
  {
   "cell_type": "code",
   "execution_count": 18,
   "source": [
    "#추가 분석 필요\r\n",
    "\r\n",
    "batch_lect = train.groupby([\"task_container_id\", \"answered_correctly\"]).size().unstack()\r\n",
    "print(batch_lect)\r\n",
    "\r\n",
    "batch_lect.columns = ['Lecture', 'Wrong', 'Right']\r\n",
    "batch_lect['Lecture'] = batch_lect['Lecture'].fillna(0)\r\n",
    "batch_lect = batch_lect.astype('Int64')\r\n",
    "batch_lect['Percent_correct'] = batch_lect.Right/(batch_lect.Wrong + batch_lect.Right)\r\n",
    "batch_lect['Percent_lecture'] = batch_lect.Lecture/(batch_lect.Lecture + batch_lect.Wrong + batch_lect.Right)\r\n",
    "batch_lect = batch_lect.sort_values(by = \"Percent_lecture\", ascending = False)\r\n",
    "\r\n",
    "print(f'The highest number of lectures watched within a single task_container_id is {batch_lect.Lecture.max()}.')"
   ],
   "outputs": [
    {
     "output_type": "stream",
     "name": "stdout",
     "text": [
      "answered_correctly   -1        0        1\n",
      "task_container_id                        \n",
      "0                   7.0  12660.0  27023.0\n",
      "1                   1.0  18718.0  20986.0\n",
      "2                   4.0  22347.0  17294.0\n",
      "3                   3.0  18081.0  21568.0\n",
      "4                   4.0  35906.0  33348.0\n",
      "...                 ...      ...      ...\n",
      "9995                NaN      5.0     10.0\n",
      "9996                1.0      1.0     13.0\n",
      "9997                NaN      3.0     10.0\n",
      "9998                1.0      2.0     10.0\n",
      "9999                NaN      4.0      9.0\n",
      "\n",
      "[10000 rows x 3 columns]\n",
      "The highest number of lectures watched within a single task_container_id is 523.\n"
     ]
    }
   ],
   "metadata": {
    "scrolled": true
   }
  },
  {
   "cell_type": "code",
   "execution_count": 19,
   "source": [
    "batch_lect = train.groupby([\"task_container_id\", \"answered_correctly\"]).size().unstack()\r\n",
    "batch_lect"
   ],
   "outputs": [
    {
     "output_type": "execute_result",
     "data": {
      "text/plain": [
       "answered_correctly   -1        0        1\n",
       "task_container_id                        \n",
       "0                   7.0  12660.0  27023.0\n",
       "1                   1.0  18718.0  20986.0\n",
       "2                   4.0  22347.0  17294.0\n",
       "3                   3.0  18081.0  21568.0\n",
       "4                   4.0  35906.0  33348.0\n",
       "...                 ...      ...      ...\n",
       "9995                NaN      5.0     10.0\n",
       "9996                1.0      1.0     13.0\n",
       "9997                NaN      3.0     10.0\n",
       "9998                1.0      2.0     10.0\n",
       "9999                NaN      4.0      9.0\n",
       "\n",
       "[10000 rows x 3 columns]"
      ],
      "text/html": [
       "<div>\n",
       "<style scoped>\n",
       "    .dataframe tbody tr th:only-of-type {\n",
       "        vertical-align: middle;\n",
       "    }\n",
       "\n",
       "    .dataframe tbody tr th {\n",
       "        vertical-align: top;\n",
       "    }\n",
       "\n",
       "    .dataframe thead th {\n",
       "        text-align: right;\n",
       "    }\n",
       "</style>\n",
       "<table border=\"1\" class=\"dataframe\">\n",
       "  <thead>\n",
       "    <tr style=\"text-align: right;\">\n",
       "      <th>answered_correctly</th>\n",
       "      <th>-1</th>\n",
       "      <th>0</th>\n",
       "      <th>1</th>\n",
       "    </tr>\n",
       "    <tr>\n",
       "      <th>task_container_id</th>\n",
       "      <th></th>\n",
       "      <th></th>\n",
       "      <th></th>\n",
       "    </tr>\n",
       "  </thead>\n",
       "  <tbody>\n",
       "    <tr>\n",
       "      <th>0</th>\n",
       "      <td>7.0</td>\n",
       "      <td>12660.0</td>\n",
       "      <td>27023.0</td>\n",
       "    </tr>\n",
       "    <tr>\n",
       "      <th>1</th>\n",
       "      <td>1.0</td>\n",
       "      <td>18718.0</td>\n",
       "      <td>20986.0</td>\n",
       "    </tr>\n",
       "    <tr>\n",
       "      <th>2</th>\n",
       "      <td>4.0</td>\n",
       "      <td>22347.0</td>\n",
       "      <td>17294.0</td>\n",
       "    </tr>\n",
       "    <tr>\n",
       "      <th>3</th>\n",
       "      <td>3.0</td>\n",
       "      <td>18081.0</td>\n",
       "      <td>21568.0</td>\n",
       "    </tr>\n",
       "    <tr>\n",
       "      <th>4</th>\n",
       "      <td>4.0</td>\n",
       "      <td>35906.0</td>\n",
       "      <td>33348.0</td>\n",
       "    </tr>\n",
       "    <tr>\n",
       "      <th>...</th>\n",
       "      <td>...</td>\n",
       "      <td>...</td>\n",
       "      <td>...</td>\n",
       "    </tr>\n",
       "    <tr>\n",
       "      <th>9995</th>\n",
       "      <td>NaN</td>\n",
       "      <td>5.0</td>\n",
       "      <td>10.0</td>\n",
       "    </tr>\n",
       "    <tr>\n",
       "      <th>9996</th>\n",
       "      <td>1.0</td>\n",
       "      <td>1.0</td>\n",
       "      <td>13.0</td>\n",
       "    </tr>\n",
       "    <tr>\n",
       "      <th>9997</th>\n",
       "      <td>NaN</td>\n",
       "      <td>3.0</td>\n",
       "      <td>10.0</td>\n",
       "    </tr>\n",
       "    <tr>\n",
       "      <th>9998</th>\n",
       "      <td>1.0</td>\n",
       "      <td>2.0</td>\n",
       "      <td>10.0</td>\n",
       "    </tr>\n",
       "    <tr>\n",
       "      <th>9999</th>\n",
       "      <td>NaN</td>\n",
       "      <td>4.0</td>\n",
       "      <td>9.0</td>\n",
       "    </tr>\n",
       "  </tbody>\n",
       "</table>\n",
       "<p>10000 rows × 3 columns</p>\n",
       "</div>"
      ]
     },
     "metadata": {},
     "execution_count": 19
    }
   ],
   "metadata": {}
  },
  {
   "cell_type": "code",
   "execution_count": 20,
   "source": [
    "#추가 분석 필요\r\n",
    "batch = batch_lect.iloc[:, 3:]\r\n",
    "\r\n",
    "fig = plt.figure(figsize=(12,6))\r\n",
    "x = batch.Percent_lecture\r\n",
    "y = batch.Percent_correct\r\n",
    "plt.scatter(x, y, marker='o')\r\n",
    "plt.title(\"Percent lectures in a task_container versus percent answered correctly\")\r\n",
    "plt.xticks(rotation=0)\r\n",
    "plt.xlabel(\"Percent lectures\")\r\n",
    "plt.ylabel(\"Percent answered correctly\")\r\n",
    "\r\n",
    "plt.show()"
   ],
   "outputs": [
    {
     "output_type": "error",
     "ename": "AttributeError",
     "evalue": "'DataFrame' object has no attribute 'Percent_lecture'",
     "traceback": [
      "\u001b[1;31m---------------------------------------------------------------------------\u001b[0m",
      "\u001b[1;31mAttributeError\u001b[0m                            Traceback (most recent call last)",
      "\u001b[1;32m<ipython-input-20-849b8d9d66a3>\u001b[0m in \u001b[0;36m<module>\u001b[1;34m\u001b[0m\n\u001b[0;32m      3\u001b[0m \u001b[1;33m\u001b[0m\u001b[0m\n\u001b[0;32m      4\u001b[0m \u001b[0mfig\u001b[0m \u001b[1;33m=\u001b[0m \u001b[0mplt\u001b[0m\u001b[1;33m.\u001b[0m\u001b[0mfigure\u001b[0m\u001b[1;33m(\u001b[0m\u001b[0mfigsize\u001b[0m\u001b[1;33m=\u001b[0m\u001b[1;33m(\u001b[0m\u001b[1;36m12\u001b[0m\u001b[1;33m,\u001b[0m\u001b[1;36m6\u001b[0m\u001b[1;33m)\u001b[0m\u001b[1;33m)\u001b[0m\u001b[1;33m\u001b[0m\u001b[1;33m\u001b[0m\u001b[0m\n\u001b[1;32m----> 5\u001b[1;33m \u001b[0mx\u001b[0m \u001b[1;33m=\u001b[0m \u001b[0mbatch\u001b[0m\u001b[1;33m.\u001b[0m\u001b[0mPercent_lecture\u001b[0m\u001b[1;33m\u001b[0m\u001b[1;33m\u001b[0m\u001b[0m\n\u001b[0m\u001b[0;32m      6\u001b[0m \u001b[0my\u001b[0m \u001b[1;33m=\u001b[0m \u001b[0mbatch\u001b[0m\u001b[1;33m.\u001b[0m\u001b[0mPercent_correct\u001b[0m\u001b[1;33m\u001b[0m\u001b[1;33m\u001b[0m\u001b[0m\n\u001b[0;32m      7\u001b[0m \u001b[0mplt\u001b[0m\u001b[1;33m.\u001b[0m\u001b[0mscatter\u001b[0m\u001b[1;33m(\u001b[0m\u001b[0mx\u001b[0m\u001b[1;33m,\u001b[0m \u001b[0my\u001b[0m\u001b[1;33m,\u001b[0m \u001b[0mmarker\u001b[0m\u001b[1;33m=\u001b[0m\u001b[1;34m'o'\u001b[0m\u001b[1;33m)\u001b[0m\u001b[1;33m\u001b[0m\u001b[1;33m\u001b[0m\u001b[0m\n",
      "\u001b[1;32m~\\anaconda3\\lib\\site-packages\\pandas\\core\\generic.py\u001b[0m in \u001b[0;36m__getattr__\u001b[1;34m(self, name)\u001b[0m\n\u001b[0;32m   5463\u001b[0m             \u001b[1;32mif\u001b[0m \u001b[0mself\u001b[0m\u001b[1;33m.\u001b[0m\u001b[0m_info_axis\u001b[0m\u001b[1;33m.\u001b[0m\u001b[0m_can_hold_identifiers_and_holds_name\u001b[0m\u001b[1;33m(\u001b[0m\u001b[0mname\u001b[0m\u001b[1;33m)\u001b[0m\u001b[1;33m:\u001b[0m\u001b[1;33m\u001b[0m\u001b[1;33m\u001b[0m\u001b[0m\n\u001b[0;32m   5464\u001b[0m                 \u001b[1;32mreturn\u001b[0m \u001b[0mself\u001b[0m\u001b[1;33m[\u001b[0m\u001b[0mname\u001b[0m\u001b[1;33m]\u001b[0m\u001b[1;33m\u001b[0m\u001b[1;33m\u001b[0m\u001b[0m\n\u001b[1;32m-> 5465\u001b[1;33m             \u001b[1;32mreturn\u001b[0m \u001b[0mobject\u001b[0m\u001b[1;33m.\u001b[0m\u001b[0m__getattribute__\u001b[0m\u001b[1;33m(\u001b[0m\u001b[0mself\u001b[0m\u001b[1;33m,\u001b[0m \u001b[0mname\u001b[0m\u001b[1;33m)\u001b[0m\u001b[1;33m\u001b[0m\u001b[1;33m\u001b[0m\u001b[0m\n\u001b[0m\u001b[0;32m   5466\u001b[0m \u001b[1;33m\u001b[0m\u001b[0m\n\u001b[0;32m   5467\u001b[0m     \u001b[1;32mdef\u001b[0m \u001b[0m__setattr__\u001b[0m\u001b[1;33m(\u001b[0m\u001b[0mself\u001b[0m\u001b[1;33m,\u001b[0m \u001b[0mname\u001b[0m\u001b[1;33m:\u001b[0m \u001b[0mstr\u001b[0m\u001b[1;33m,\u001b[0m \u001b[0mvalue\u001b[0m\u001b[1;33m)\u001b[0m \u001b[1;33m->\u001b[0m \u001b[1;32mNone\u001b[0m\u001b[1;33m:\u001b[0m\u001b[1;33m\u001b[0m\u001b[1;33m\u001b[0m\u001b[0m\n",
      "\u001b[1;31mAttributeError\u001b[0m: 'DataFrame' object has no attribute 'Percent_lecture'"
     ]
    },
    {
     "output_type": "display_data",
     "data": {
      "text/plain": [
       "<Figure size 864x432 with 0 Axes>"
      ]
     },
     "metadata": {}
    }
   ],
   "metadata": {}
  },
  {
   "cell_type": "code",
   "execution_count": null,
   "source": [
    "batch_lect['Has_lecture'] = np.where(batch_lect.Lecture == 0, False, True)\r\n",
    "print(f'We have {batch_lect[batch_lect.Has_lecture == True].shape[0]} task_container_ids with lectures and {batch_lect[batch_lect.Has_lecture == False].shape[0]} task_container_ids without lectures.')"
   ],
   "outputs": [
    {
     "output_type": "stream",
     "name": "stdout",
     "text": [
      "We have 5979 task_container_ids with lectures and 4021 task_container_ids without lectures.\n"
     ]
    }
   ],
   "metadata": {}
  },
  {
   "cell_type": "code",
   "execution_count": null,
   "source": [
    "batch_lect = batch_lect[['Wrong', 'Right', 'Has_lecture']]\r\n",
    "batch_lect = batch_lect.groupby(\"Has_lecture\").sum()\r\n",
    "batch_lect['Percent_correct'] = batch_lect.Right/(batch_lect.Wrong + batch_lect.Right)\r\n",
    "batch_lect = batch_lect[['Percent_correct']]\r\n",
    "batch_lect"
   ],
   "outputs": [
    {
     "output_type": "execute_result",
     "data": {
      "text/plain": [
       "             Percent_correct\n",
       "Has_lecture                 \n",
       "False               0.735944\n",
       "True                0.656856"
      ],
      "text/html": [
       "<div>\n",
       "<style scoped>\n",
       "    .dataframe tbody tr th:only-of-type {\n",
       "        vertical-align: middle;\n",
       "    }\n",
       "\n",
       "    .dataframe tbody tr th {\n",
       "        vertical-align: top;\n",
       "    }\n",
       "\n",
       "    .dataframe thead th {\n",
       "        text-align: right;\n",
       "    }\n",
       "</style>\n",
       "<table border=\"1\" class=\"dataframe\">\n",
       "  <thead>\n",
       "    <tr style=\"text-align: right;\">\n",
       "      <th></th>\n",
       "      <th>Percent_correct</th>\n",
       "    </tr>\n",
       "    <tr>\n",
       "      <th>Has_lecture</th>\n",
       "      <th></th>\n",
       "    </tr>\n",
       "  </thead>\n",
       "  <tbody>\n",
       "    <tr>\n",
       "      <th>False</th>\n",
       "      <td>0.735944</td>\n",
       "    </tr>\n",
       "    <tr>\n",
       "      <th>True</th>\n",
       "      <td>0.656856</td>\n",
       "    </tr>\n",
       "  </tbody>\n",
       "</table>\n",
       "</div>"
      ]
     },
     "metadata": {},
     "execution_count": 11
    }
   ],
   "metadata": {}
  },
  {
   "cell_type": "code",
   "execution_count": null,
   "source": [],
   "outputs": [],
   "metadata": {}
  }
 ],
 "metadata": {
  "kernelspec": {
   "name": "python3",
   "display_name": "Python 3.8.8 64-bit ('base': conda)"
  },
  "language_info": {
   "codemirror_mode": {
    "name": "ipython",
    "version": 3
   },
   "file_extension": ".py",
   "mimetype": "text/x-python",
   "name": "python",
   "nbconvert_exporter": "python",
   "pygments_lexer": "ipython3",
   "version": "3.8.8"
  },
  "interpreter": {
   "hash": "01612b57d529331fccfbf5f7721e88005b4682ef99b242f62a508f06b6f08c6a"
  }
 },
 "nbformat": 4,
 "nbformat_minor": 5
}